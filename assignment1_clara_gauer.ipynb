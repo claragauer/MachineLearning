{
  "cells": [
    {
      "cell_type": "markdown",
      "source": [
        "#Assignment 1 - Machine Learning"
      ],
      "metadata": {
        "id": "HelaGjRbN74f"
      }
    },
    {
      "cell_type": "markdown",
      "source": [
        "Author: Clara Gauer"
      ],
      "metadata": {
        "id": "XBa0hlfvOE6R"
      }
    },
    {
      "cell_type": "code",
      "execution_count": null,
      "metadata": {
        "id": "Q5hZOuuVzXZH"
      },
      "outputs": [],
      "source": [
        "import numpy as np\n",
        "import seaborn as sns\n",
        "import pandas as pd\n",
        "import pickle\n",
        "import matplotlib.pyplot as plt\n",
        "import warnings\n",
        "from sklearn import metrics\n",
        "from sklearn.model_selection import GridSearchCV\n",
        "from xgboost import XGBClassifier\n",
        "from sklearn.ensemble import RandomForestClassifier\n",
        "from sklearn.metrics import make_scorer, f1_score, accuracy_score, precision_score, recall_score"
      ]
    },
    {
      "cell_type": "code",
      "execution_count": null,
      "metadata": {
        "id": "lPCHI39fzipV"
      },
      "outputs": [],
      "source": [
        "warnings.filterwarnings('ignore')"
      ]
    },
    {
      "cell_type": "code",
      "execution_count": null,
      "metadata": {
        "id": "GUud-OKIznGc"
      },
      "outputs": [],
      "source": [
        "#Import the CSV file\n",
        "!wget -cq https://www.dropbox.com/s/n0t1fi534rhycoc/electrical_grid_train.csv"
      ]
    },
    {
      "cell_type": "code",
      "execution_count": null,
      "metadata": {
        "colab": {
          "base_uri": "https://localhost:8080/"
        },
        "id": "mlyoiIk4zsGV",
        "outputId": "ef1fd9b3-65b4-4a75-ebd1-9f6d01bd4db8"
      },
      "outputs": [
        {
          "output_type": "stream",
          "name": "stdout",
          "text": [
            "total 1700\n",
            "drwxr-xr-x 1 root root    4096 Apr 10 18:22 .\n",
            "drwxr-xr-x 1 root root    4096 Apr 10 14:14 ..\n",
            "drwxr-xr-x 4 root root    4096 Apr  8 13:26 .config\n",
            "-rw-r--r-- 1 root root  428879 Apr 10 14:16 electrical_grid_test.csv\n",
            "-rw-r--r-- 1 root root 1286444 Apr 10 14:16 electrical_grid_train.csv\n",
            "drwxr-xr-x 1 root root    4096 Apr  8 13:27 sample_data\n",
            "-rw-r--r-- 1 root root     733 Apr 10 18:22 xgb_model.pkl\n"
          ]
        }
      ],
      "source": [
        "#Check the location of the file\n",
        "!ls -la"
      ]
    },
    {
      "cell_type": "code",
      "execution_count": null,
      "metadata": {
        "id": "sB_TJTcEzvRy"
      },
      "outputs": [],
      "source": [
        "# Reading the datasets\n",
        "train_data = pd.read_csv('electrical_grid_train.csv')"
      ]
    },
    {
      "cell_type": "code",
      "execution_count": null,
      "metadata": {
        "id": "MEOLHlCc6eCS"
      },
      "outputs": [],
      "source": [
        "# Since stability is catgecorical data, which only has the values \"stable\" and \"unstable\", perform One Hot Encoding in order to retrieve numerical values\n",
        "train_data.replace({'unstable':0, 'stable':1}, inplace=True)"
      ]
    },
    {
      "cell_type": "code",
      "execution_count": null,
      "metadata": {
        "colab": {
          "base_uri": "https://localhost:8080/"
        },
        "id": "6QrCeBitTqUL",
        "outputId": "2b68c735-3a5e-42ff-eb4d-a902c9fdfca7"
      },
      "outputs": [
        {
          "output_type": "execute_result",
          "data": {
            "text/plain": [
              "(7500, 13)"
            ]
          },
          "metadata": {},
          "execution_count": 478
        }
      ],
      "source": [
        "# Tuple containing the number of rows and number of columns\n",
        "train_data.shape"
      ]
    },
    {
      "cell_type": "code",
      "execution_count": null,
      "metadata": {
        "colab": {
          "base_uri": "https://localhost:8080/"
        },
        "id": "2z2YwApp-g5K",
        "outputId": "bc9efef3-679d-4699-be0e-8ecd1c5cd0e9"
      },
      "outputs": [
        {
          "output_type": "execute_result",
          "data": {
            "text/plain": [
              "tau1     0\n",
              "tau2     0\n",
              "tau3     0\n",
              "tau4     0\n",
              "p1       0\n",
              "p2       0\n",
              "p3       0\n",
              "p4       0\n",
              "g1       0\n",
              "g2       0\n",
              "g3       0\n",
              "g4       0\n",
              "stabf    0\n",
              "dtype: int64"
            ]
          },
          "metadata": {},
          "execution_count": 479
        }
      ],
      "source": [
        "# Check for null values in the data set\n",
        "train_data.isnull().sum()"
      ]
    },
    {
      "cell_type": "markdown",
      "metadata": {
        "id": "vwsSYidr_aOp"
      },
      "source": [
        "Here, we can observe that there are no null values. This implies we are not required to handle missing values extra. Otherwise, if missing values are present, it could lead to a bias in the dataset since data of certain features are not present. If the dataset is not complete, it would be required to drop the column."
      ]
    },
    {
      "cell_type": "code",
      "execution_count": null,
      "metadata": {
        "colab": {
          "base_uri": "https://localhost:8080/"
        },
        "id": "UaGxJTPW_9lO",
        "outputId": "38cbd4ac-e426-4814-d39f-497d2a2311be"
      },
      "outputs": [
        {
          "output_type": "stream",
          "name": "stdout",
          "text": [
            "<class 'pandas.core.frame.DataFrame'>\n",
            "RangeIndex: 7500 entries, 0 to 7499\n",
            "Data columns (total 13 columns):\n",
            " #   Column  Non-Null Count  Dtype  \n",
            "---  ------  --------------  -----  \n",
            " 0   tau1    7500 non-null   float64\n",
            " 1   tau2    7500 non-null   float64\n",
            " 2   tau3    7500 non-null   float64\n",
            " 3   tau4    7500 non-null   float64\n",
            " 4   p1      7500 non-null   float64\n",
            " 5   p2      7500 non-null   float64\n",
            " 6   p3      7500 non-null   float64\n",
            " 7   p4      7500 non-null   float64\n",
            " 8   g1      7500 non-null   float64\n",
            " 9   g2      7500 non-null   float64\n",
            " 10  g3      7500 non-null   float64\n",
            " 11  g4      7500 non-null   float64\n",
            " 12  stabf   7500 non-null   int64  \n",
            "dtypes: float64(12), int64(1)\n",
            "memory usage: 761.8 KB\n"
          ]
        }
      ],
      "source": [
        "# Provides information about storage, data type, amount of entries\n",
        "train_data.info()"
      ]
    },
    {
      "cell_type": "code",
      "execution_count": null,
      "metadata": {
        "colab": {
          "base_uri": "https://localhost:8080/",
          "height": 206
        },
        "id": "FVC6RjEez9Zj",
        "outputId": "2d28d1aa-d14d-42cf-bf85-f77e464f6a20"
      },
      "outputs": [
        {
          "output_type": "execute_result",
          "data": {
            "text/plain": [
              "       tau1      tau2      tau3      tau4        p1        p2        p3  \\\n",
              "0  5.744900  8.203603  5.744900  4.742819  4.428855 -1.206951 -1.996184   \n",
              "1  4.765284  7.227511  4.765284  8.589188  3.464720 -1.709124 -0.709637   \n",
              "2  7.603216  1.556791  5.475538  1.954418  3.196611 -1.845370 -0.501266   \n",
              "3  6.931945  1.706944  6.931945  6.623881  4.503907 -1.323009 -1.287506   \n",
              "4  1.604168  0.937741  1.604168  5.102720  5.119059 -1.886555 -1.694975   \n",
              "\n",
              "         p4        g1        g2        g3        g4  stabf  \n",
              "0 -1.225720  0.062127  0.910284  0.347608  0.203486      0  \n",
              "1 -1.045959  0.790823  0.939275  0.556773  0.735869      0  \n",
              "2 -0.849976  0.724277  0.849737  0.825894  0.441910      1  \n",
              "3 -1.893392  0.077234  0.320062  0.332532  0.612462      1  \n",
              "4 -1.537529  0.251807  0.382606  0.768862  0.063126      1  "
            ],
            "text/html": [
              "\n",
              "  <div id=\"df-a43d9892-bff2-46c4-9ff0-2c2e591bb41a\" class=\"colab-df-container\">\n",
              "    <div>\n",
              "<style scoped>\n",
              "    .dataframe tbody tr th:only-of-type {\n",
              "        vertical-align: middle;\n",
              "    }\n",
              "\n",
              "    .dataframe tbody tr th {\n",
              "        vertical-align: top;\n",
              "    }\n",
              "\n",
              "    .dataframe thead th {\n",
              "        text-align: right;\n",
              "    }\n",
              "</style>\n",
              "<table border=\"1\" class=\"dataframe\">\n",
              "  <thead>\n",
              "    <tr style=\"text-align: right;\">\n",
              "      <th></th>\n",
              "      <th>tau1</th>\n",
              "      <th>tau2</th>\n",
              "      <th>tau3</th>\n",
              "      <th>tau4</th>\n",
              "      <th>p1</th>\n",
              "      <th>p2</th>\n",
              "      <th>p3</th>\n",
              "      <th>p4</th>\n",
              "      <th>g1</th>\n",
              "      <th>g2</th>\n",
              "      <th>g3</th>\n",
              "      <th>g4</th>\n",
              "      <th>stabf</th>\n",
              "    </tr>\n",
              "  </thead>\n",
              "  <tbody>\n",
              "    <tr>\n",
              "      <th>0</th>\n",
              "      <td>5.744900</td>\n",
              "      <td>8.203603</td>\n",
              "      <td>5.744900</td>\n",
              "      <td>4.742819</td>\n",
              "      <td>4.428855</td>\n",
              "      <td>-1.206951</td>\n",
              "      <td>-1.996184</td>\n",
              "      <td>-1.225720</td>\n",
              "      <td>0.062127</td>\n",
              "      <td>0.910284</td>\n",
              "      <td>0.347608</td>\n",
              "      <td>0.203486</td>\n",
              "      <td>0</td>\n",
              "    </tr>\n",
              "    <tr>\n",
              "      <th>1</th>\n",
              "      <td>4.765284</td>\n",
              "      <td>7.227511</td>\n",
              "      <td>4.765284</td>\n",
              "      <td>8.589188</td>\n",
              "      <td>3.464720</td>\n",
              "      <td>-1.709124</td>\n",
              "      <td>-0.709637</td>\n",
              "      <td>-1.045959</td>\n",
              "      <td>0.790823</td>\n",
              "      <td>0.939275</td>\n",
              "      <td>0.556773</td>\n",
              "      <td>0.735869</td>\n",
              "      <td>0</td>\n",
              "    </tr>\n",
              "    <tr>\n",
              "      <th>2</th>\n",
              "      <td>7.603216</td>\n",
              "      <td>1.556791</td>\n",
              "      <td>5.475538</td>\n",
              "      <td>1.954418</td>\n",
              "      <td>3.196611</td>\n",
              "      <td>-1.845370</td>\n",
              "      <td>-0.501266</td>\n",
              "      <td>-0.849976</td>\n",
              "      <td>0.724277</td>\n",
              "      <td>0.849737</td>\n",
              "      <td>0.825894</td>\n",
              "      <td>0.441910</td>\n",
              "      <td>1</td>\n",
              "    </tr>\n",
              "    <tr>\n",
              "      <th>3</th>\n",
              "      <td>6.931945</td>\n",
              "      <td>1.706944</td>\n",
              "      <td>6.931945</td>\n",
              "      <td>6.623881</td>\n",
              "      <td>4.503907</td>\n",
              "      <td>-1.323009</td>\n",
              "      <td>-1.287506</td>\n",
              "      <td>-1.893392</td>\n",
              "      <td>0.077234</td>\n",
              "      <td>0.320062</td>\n",
              "      <td>0.332532</td>\n",
              "      <td>0.612462</td>\n",
              "      <td>1</td>\n",
              "    </tr>\n",
              "    <tr>\n",
              "      <th>4</th>\n",
              "      <td>1.604168</td>\n",
              "      <td>0.937741</td>\n",
              "      <td>1.604168</td>\n",
              "      <td>5.102720</td>\n",
              "      <td>5.119059</td>\n",
              "      <td>-1.886555</td>\n",
              "      <td>-1.694975</td>\n",
              "      <td>-1.537529</td>\n",
              "      <td>0.251807</td>\n",
              "      <td>0.382606</td>\n",
              "      <td>0.768862</td>\n",
              "      <td>0.063126</td>\n",
              "      <td>1</td>\n",
              "    </tr>\n",
              "  </tbody>\n",
              "</table>\n",
              "</div>\n",
              "    <div class=\"colab-df-buttons\">\n",
              "\n",
              "  <div class=\"colab-df-container\">\n",
              "    <button class=\"colab-df-convert\" onclick=\"convertToInteractive('df-a43d9892-bff2-46c4-9ff0-2c2e591bb41a')\"\n",
              "            title=\"Convert this dataframe to an interactive table.\"\n",
              "            style=\"display:none;\">\n",
              "\n",
              "  <svg xmlns=\"http://www.w3.org/2000/svg\" height=\"24px\" viewBox=\"0 -960 960 960\">\n",
              "    <path d=\"M120-120v-720h720v720H120Zm60-500h600v-160H180v160Zm220 220h160v-160H400v160Zm0 220h160v-160H400v160ZM180-400h160v-160H180v160Zm440 0h160v-160H620v160ZM180-180h160v-160H180v160Zm440 0h160v-160H620v160Z\"/>\n",
              "  </svg>\n",
              "    </button>\n",
              "\n",
              "  <style>\n",
              "    .colab-df-container {\n",
              "      display:flex;\n",
              "      gap: 12px;\n",
              "    }\n",
              "\n",
              "    .colab-df-convert {\n",
              "      background-color: #E8F0FE;\n",
              "      border: none;\n",
              "      border-radius: 50%;\n",
              "      cursor: pointer;\n",
              "      display: none;\n",
              "      fill: #1967D2;\n",
              "      height: 32px;\n",
              "      padding: 0 0 0 0;\n",
              "      width: 32px;\n",
              "    }\n",
              "\n",
              "    .colab-df-convert:hover {\n",
              "      background-color: #E2EBFA;\n",
              "      box-shadow: 0px 1px 2px rgba(60, 64, 67, 0.3), 0px 1px 3px 1px rgba(60, 64, 67, 0.15);\n",
              "      fill: #174EA6;\n",
              "    }\n",
              "\n",
              "    .colab-df-buttons div {\n",
              "      margin-bottom: 4px;\n",
              "    }\n",
              "\n",
              "    [theme=dark] .colab-df-convert {\n",
              "      background-color: #3B4455;\n",
              "      fill: #D2E3FC;\n",
              "    }\n",
              "\n",
              "    [theme=dark] .colab-df-convert:hover {\n",
              "      background-color: #434B5C;\n",
              "      box-shadow: 0px 1px 3px 1px rgba(0, 0, 0, 0.15);\n",
              "      filter: drop-shadow(0px 1px 2px rgba(0, 0, 0, 0.3));\n",
              "      fill: #FFFFFF;\n",
              "    }\n",
              "  </style>\n",
              "\n",
              "    <script>\n",
              "      const buttonEl =\n",
              "        document.querySelector('#df-a43d9892-bff2-46c4-9ff0-2c2e591bb41a button.colab-df-convert');\n",
              "      buttonEl.style.display =\n",
              "        google.colab.kernel.accessAllowed ? 'block' : 'none';\n",
              "\n",
              "      async function convertToInteractive(key) {\n",
              "        const element = document.querySelector('#df-a43d9892-bff2-46c4-9ff0-2c2e591bb41a');\n",
              "        const dataTable =\n",
              "          await google.colab.kernel.invokeFunction('convertToInteractive',\n",
              "                                                    [key], {});\n",
              "        if (!dataTable) return;\n",
              "\n",
              "        const docLinkHtml = 'Like what you see? Visit the ' +\n",
              "          '<a target=\"_blank\" href=https://colab.research.google.com/notebooks/data_table.ipynb>data table notebook</a>'\n",
              "          + ' to learn more about interactive tables.';\n",
              "        element.innerHTML = '';\n",
              "        dataTable['output_type'] = 'display_data';\n",
              "        await google.colab.output.renderOutput(dataTable, element);\n",
              "        const docLink = document.createElement('div');\n",
              "        docLink.innerHTML = docLinkHtml;\n",
              "        element.appendChild(docLink);\n",
              "      }\n",
              "    </script>\n",
              "  </div>\n",
              "\n",
              "\n",
              "<div id=\"df-23bb5b3c-7456-45b9-9ffa-b2d819d4b6f0\">\n",
              "  <button class=\"colab-df-quickchart\" onclick=\"quickchart('df-23bb5b3c-7456-45b9-9ffa-b2d819d4b6f0')\"\n",
              "            title=\"Suggest charts\"\n",
              "            style=\"display:none;\">\n",
              "\n",
              "<svg xmlns=\"http://www.w3.org/2000/svg\" height=\"24px\"viewBox=\"0 0 24 24\"\n",
              "     width=\"24px\">\n",
              "    <g>\n",
              "        <path d=\"M19 3H5c-1.1 0-2 .9-2 2v14c0 1.1.9 2 2 2h14c1.1 0 2-.9 2-2V5c0-1.1-.9-2-2-2zM9 17H7v-7h2v7zm4 0h-2V7h2v10zm4 0h-2v-4h2v4z\"/>\n",
              "    </g>\n",
              "</svg>\n",
              "  </button>\n",
              "\n",
              "<style>\n",
              "  .colab-df-quickchart {\n",
              "      --bg-color: #E8F0FE;\n",
              "      --fill-color: #1967D2;\n",
              "      --hover-bg-color: #E2EBFA;\n",
              "      --hover-fill-color: #174EA6;\n",
              "      --disabled-fill-color: #AAA;\n",
              "      --disabled-bg-color: #DDD;\n",
              "  }\n",
              "\n",
              "  [theme=dark] .colab-df-quickchart {\n",
              "      --bg-color: #3B4455;\n",
              "      --fill-color: #D2E3FC;\n",
              "      --hover-bg-color: #434B5C;\n",
              "      --hover-fill-color: #FFFFFF;\n",
              "      --disabled-bg-color: #3B4455;\n",
              "      --disabled-fill-color: #666;\n",
              "  }\n",
              "\n",
              "  .colab-df-quickchart {\n",
              "    background-color: var(--bg-color);\n",
              "    border: none;\n",
              "    border-radius: 50%;\n",
              "    cursor: pointer;\n",
              "    display: none;\n",
              "    fill: var(--fill-color);\n",
              "    height: 32px;\n",
              "    padding: 0;\n",
              "    width: 32px;\n",
              "  }\n",
              "\n",
              "  .colab-df-quickchart:hover {\n",
              "    background-color: var(--hover-bg-color);\n",
              "    box-shadow: 0 1px 2px rgba(60, 64, 67, 0.3), 0 1px 3px 1px rgba(60, 64, 67, 0.15);\n",
              "    fill: var(--button-hover-fill-color);\n",
              "  }\n",
              "\n",
              "  .colab-df-quickchart-complete:disabled,\n",
              "  .colab-df-quickchart-complete:disabled:hover {\n",
              "    background-color: var(--disabled-bg-color);\n",
              "    fill: var(--disabled-fill-color);\n",
              "    box-shadow: none;\n",
              "  }\n",
              "\n",
              "  .colab-df-spinner {\n",
              "    border: 2px solid var(--fill-color);\n",
              "    border-color: transparent;\n",
              "    border-bottom-color: var(--fill-color);\n",
              "    animation:\n",
              "      spin 1s steps(1) infinite;\n",
              "  }\n",
              "\n",
              "  @keyframes spin {\n",
              "    0% {\n",
              "      border-color: transparent;\n",
              "      border-bottom-color: var(--fill-color);\n",
              "      border-left-color: var(--fill-color);\n",
              "    }\n",
              "    20% {\n",
              "      border-color: transparent;\n",
              "      border-left-color: var(--fill-color);\n",
              "      border-top-color: var(--fill-color);\n",
              "    }\n",
              "    30% {\n",
              "      border-color: transparent;\n",
              "      border-left-color: var(--fill-color);\n",
              "      border-top-color: var(--fill-color);\n",
              "      border-right-color: var(--fill-color);\n",
              "    }\n",
              "    40% {\n",
              "      border-color: transparent;\n",
              "      border-right-color: var(--fill-color);\n",
              "      border-top-color: var(--fill-color);\n",
              "    }\n",
              "    60% {\n",
              "      border-color: transparent;\n",
              "      border-right-color: var(--fill-color);\n",
              "    }\n",
              "    80% {\n",
              "      border-color: transparent;\n",
              "      border-right-color: var(--fill-color);\n",
              "      border-bottom-color: var(--fill-color);\n",
              "    }\n",
              "    90% {\n",
              "      border-color: transparent;\n",
              "      border-bottom-color: var(--fill-color);\n",
              "    }\n",
              "  }\n",
              "</style>\n",
              "\n",
              "  <script>\n",
              "    async function quickchart(key) {\n",
              "      const quickchartButtonEl =\n",
              "        document.querySelector('#' + key + ' button');\n",
              "      quickchartButtonEl.disabled = true;  // To prevent multiple clicks.\n",
              "      quickchartButtonEl.classList.add('colab-df-spinner');\n",
              "      try {\n",
              "        const charts = await google.colab.kernel.invokeFunction(\n",
              "            'suggestCharts', [key], {});\n",
              "      } catch (error) {\n",
              "        console.error('Error during call to suggestCharts:', error);\n",
              "      }\n",
              "      quickchartButtonEl.classList.remove('colab-df-spinner');\n",
              "      quickchartButtonEl.classList.add('colab-df-quickchart-complete');\n",
              "    }\n",
              "    (() => {\n",
              "      let quickchartButtonEl =\n",
              "        document.querySelector('#df-23bb5b3c-7456-45b9-9ffa-b2d819d4b6f0 button');\n",
              "      quickchartButtonEl.style.display =\n",
              "        google.colab.kernel.accessAllowed ? 'block' : 'none';\n",
              "    })();\n",
              "  </script>\n",
              "</div>\n",
              "    </div>\n",
              "  </div>\n"
            ],
            "application/vnd.google.colaboratory.intrinsic+json": {
              "type": "dataframe",
              "variable_name": "train_data",
              "summary": "{\n  \"name\": \"train_data\",\n  \"rows\": 7500,\n  \"fields\": [\n    {\n      \"column\": \"tau1\",\n      \"properties\": {\n        \"dtype\": \"number\",\n        \"std\": 2.738370387498756,\n        \"min\": 0.5013307610000001,\n        \"max\": 9.998994574,\n        \"num_unique_values\": 7500,\n        \"samples\": [\n          5.029883062,\n          2.8556768060000004,\n          8.076877801\n        ],\n        \"semantic_type\": \"\",\n        \"description\": \"\"\n      }\n    },\n    {\n      \"column\": \"tau2\",\n      \"properties\": {\n        \"dtype\": \"number\",\n        \"std\": 2.7523126844615757,\n        \"min\": -0.2256712485389256,\n        \"max\": 9.274023947461076,\n        \"num_unique_values\": 7500,\n        \"samples\": [\n          5.235943180461074,\n          9.246848177461075,\n          1.723045444461074\n        ],\n        \"semantic_type\": \"\",\n        \"description\": \"\"\n      }\n    },\n    {\n      \"column\": \"tau3\",\n      \"properties\": {\n        \"dtype\": \"number\",\n        \"std\": 2.7395223358462566,\n        \"min\": 0.5013307610000001,\n        \"max\": 9.997738127,\n        \"num_unique_values\": 6998,\n        \"samples\": [\n          7.978630441,\n          1.477747509,\n          3.827648183\n        ],\n        \"semantic_type\": \"\",\n        \"description\": \"\"\n      }\n    },\n    {\n      \"column\": \"tau4\",\n      \"properties\": {\n        \"dtype\": \"number\",\n        \"std\": 2.7303477173551163,\n        \"min\": 0.500472961,\n        \"max\": 9.998912209,\n        \"num_unique_values\": 7500,\n        \"samples\": [\n          4.469166409,\n          7.90243974,\n          1.865333921\n        ],\n        \"semantic_type\": \"\",\n        \"description\": \"\"\n      }\n    },\n    {\n      \"column\": \"p1\",\n      \"properties\": {\n        \"dtype\": \"number\",\n        \"std\": 0.7545590819046398,\n        \"min\": 1.582589665,\n        \"max\": 5.86441796,\n        \"num_unique_values\": 7500,\n        \"samples\": [\n          4.504553253,\n          3.996867741,\n          4.281764225\n        ],\n        \"semantic_type\": \"\",\n        \"description\": \"\"\n      }\n    },\n    {\n      \"column\": \"p2\",\n      \"properties\": {\n        \"dtype\": \"number\",\n        \"std\": 0.4330913566566085,\n        \"min\": -1.999890956,\n        \"max\": -0.500108276,\n        \"num_unique_values\": 7500,\n        \"samples\": [\n          -1.935908702,\n          -1.175475107,\n          -1.601359175\n        ],\n        \"semantic_type\": \"\",\n        \"description\": \"\"\n      }\n    },\n    {\n      \"column\": \"p3\",\n      \"properties\": {\n        \"dtype\": \"number\",\n        \"std\": 0.4344115287901577,\n        \"min\": -1.999944669,\n        \"max\": -0.500289623,\n        \"num_unique_values\": 7500,\n        \"samples\": [\n          -1.678521472,\n          -1.276113883,\n          -1.390610072\n        ],\n        \"semantic_type\": \"\",\n        \"description\": \"\"\n      }\n    },\n    {\n      \"column\": \"p4\",\n      \"properties\": {\n        \"dtype\": \"number\",\n        \"std\": 0.4340513650901814,\n        \"min\": -1.999926332,\n        \"max\": -0.5000245289999999,\n        \"num_unique_values\": 7500,\n        \"samples\": [\n          -0.8901230790000001,\n          -1.545278751,\n          -1.289794979\n        ],\n        \"semantic_type\": \"\",\n        \"description\": \"\"\n      }\n    },\n    {\n      \"column\": \"g1\",\n      \"properties\": {\n        \"dtype\": \"number\",\n        \"std\": 0.27433343739762056,\n        \"min\": 0.050009304,\n        \"max\": 0.999937073,\n        \"num_unique_values\": 7500,\n        \"samples\": [\n          0.069749718,\n          0.8416820290000001,\n          0.8244559359999999\n        ],\n        \"semantic_type\": \"\",\n        \"description\": \"\"\n      }\n    },\n    {\n      \"column\": \"g2\",\n      \"properties\": {\n        \"dtype\": \"number\",\n        \"std\": 0.2723137772673553,\n        \"min\": 0.050129783,\n        \"max\": 0.999944294,\n        \"num_unique_values\": 7500,\n        \"samples\": [\n          0.900896885,\n          0.630221774,\n          0.5883159929999999\n        ],\n        \"semantic_type\": \"\",\n        \"description\": \"\"\n      }\n    },\n    {\n      \"column\": \"g3\",\n      \"properties\": {\n        \"dtype\": \"number\",\n        \"std\": 0.27426085882227824,\n        \"min\": 0.050053692,\n        \"max\": 0.999839457,\n        \"num_unique_values\": 7500,\n        \"samples\": [\n          0.6215145879999999,\n          0.220856858,\n          0.67788702\n        ],\n        \"semantic_type\": \"\",\n        \"description\": \"\"\n      }\n    },\n    {\n      \"column\": \"g4\",\n      \"properties\": {\n        \"dtype\": \"number\",\n        \"std\": 0.27553935943869107,\n        \"min\": 0.050028494,\n        \"max\": 0.999930048,\n        \"num_unique_values\": 7500,\n        \"samples\": [\n          0.537472603,\n          0.825760026,\n          0.988812723\n        ],\n        \"semantic_type\": \"\",\n        \"description\": \"\"\n      }\n    },\n    {\n      \"column\": \"stabf\",\n      \"properties\": {\n        \"dtype\": \"number\",\n        \"std\": 0,\n        \"min\": 0,\n        \"max\": 1,\n        \"num_unique_values\": 2,\n        \"samples\": [\n          1,\n          0\n        ],\n        \"semantic_type\": \"\",\n        \"description\": \"\"\n      }\n    }\n  ]\n}"
            }
          },
          "metadata": {},
          "execution_count": 481
        }
      ],
      "source": [
        "# Show the first five data points\n",
        "train_data.head()"
      ]
    },
    {
      "cell_type": "code",
      "execution_count": null,
      "metadata": {
        "colab": {
          "base_uri": "https://localhost:8080/"
        },
        "id": "bLNC4QYbTWpq",
        "outputId": "5c62ebc3-7021-47d2-8bac-f199e82417c8"
      },
      "outputs": [
        {
          "output_type": "execute_result",
          "data": {
            "text/plain": [
              "-1.999944669"
            ]
          },
          "metadata": {},
          "execution_count": 482
        }
      ],
      "source": [
        "# Calculates the minimum value accross all columns\n",
        "train_data.min().min()"
      ]
    },
    {
      "cell_type": "code",
      "execution_count": null,
      "metadata": {
        "colab": {
          "base_uri": "https://localhost:8080/"
        },
        "id": "aFsBRPKfTZYF",
        "outputId": "01dbb68f-ea30-4bc4-dca0-d9cd39a33b56"
      },
      "outputs": [
        {
          "output_type": "execute_result",
          "data": {
            "text/plain": [
              "9.998994574"
            ]
          },
          "metadata": {},
          "execution_count": 483
        }
      ],
      "source": [
        "# Calculates the maximum value accross all columns\n",
        "train_data.max().max()"
      ]
    },
    {
      "cell_type": "code",
      "execution_count": null,
      "metadata": {
        "colab": {
          "base_uri": "https://localhost:8080/",
          "height": 300
        },
        "id": "zF8TiO7R0y1W",
        "outputId": "a1fd7037-6c40-4dde-ccac-82e39983ad34"
      },
      "outputs": [
        {
          "output_type": "execute_result",
          "data": {
            "text/plain": [
              "              tau1         tau2         tau3         tau4           p1  \\\n",
              "count  7500.000000  7500.000000  7500.000000  7500.000000  7500.000000   \n",
              "mean      5.228858     4.520797     5.210976     5.241762     3.754731   \n",
              "std       2.738370     2.752313     2.739522     2.730348     0.754559   \n",
              "min       0.501331    -0.225671     0.501331     0.500473     1.582590   \n",
              "25%       2.866791     2.132227     2.849581     2.866707     3.222427   \n",
              "50%       5.218495     4.505940     5.213907     5.234666     3.750117   \n",
              "75%       7.587219     6.911618     7.579382     7.596421     4.287058   \n",
              "max       9.998995     9.274024     9.997738     9.998912     5.864418   \n",
              "\n",
              "                p2           p3           p4           g1           g2  \\\n",
              "count  7500.000000  7500.000000  7500.000000  7500.000000  7500.000000   \n",
              "mean     -1.251220    -1.252692    -1.250819     0.524319     0.524514   \n",
              "std       0.433091     0.434412     0.434051     0.274333     0.272314   \n",
              "min      -1.999891    -1.999945    -1.999926     0.050009     0.050130   \n",
              "25%      -1.628732    -1.629679    -1.625914     0.286928     0.291268   \n",
              "50%      -1.253129    -1.254323    -1.252545     0.521737     0.524857   \n",
              "75%      -0.874619    -0.875935    -0.874258     0.762534     0.759162   \n",
              "max      -0.500108    -0.500290    -0.500025     0.999937     0.999944   \n",
              "\n",
              "                g3           g4        stabf  \n",
              "count  7500.000000  7500.000000  7500.000000  \n",
              "mean      0.526879     0.525536     0.361333  \n",
              "std       0.274261     0.275539     0.480419  \n",
              "min       0.050054     0.050028     0.000000  \n",
              "25%       0.289900     0.284966     0.000000  \n",
              "50%       0.527572     0.523747     0.000000  \n",
              "75%       0.764014     0.766536     1.000000  \n",
              "max       0.999839     0.999930     1.000000  "
            ],
            "text/html": [
              "\n",
              "  <div id=\"df-715a81b8-1886-4e67-9a9d-e7ae078873b1\" class=\"colab-df-container\">\n",
              "    <div>\n",
              "<style scoped>\n",
              "    .dataframe tbody tr th:only-of-type {\n",
              "        vertical-align: middle;\n",
              "    }\n",
              "\n",
              "    .dataframe tbody tr th {\n",
              "        vertical-align: top;\n",
              "    }\n",
              "\n",
              "    .dataframe thead th {\n",
              "        text-align: right;\n",
              "    }\n",
              "</style>\n",
              "<table border=\"1\" class=\"dataframe\">\n",
              "  <thead>\n",
              "    <tr style=\"text-align: right;\">\n",
              "      <th></th>\n",
              "      <th>tau1</th>\n",
              "      <th>tau2</th>\n",
              "      <th>tau3</th>\n",
              "      <th>tau4</th>\n",
              "      <th>p1</th>\n",
              "      <th>p2</th>\n",
              "      <th>p3</th>\n",
              "      <th>p4</th>\n",
              "      <th>g1</th>\n",
              "      <th>g2</th>\n",
              "      <th>g3</th>\n",
              "      <th>g4</th>\n",
              "      <th>stabf</th>\n",
              "    </tr>\n",
              "  </thead>\n",
              "  <tbody>\n",
              "    <tr>\n",
              "      <th>count</th>\n",
              "      <td>7500.000000</td>\n",
              "      <td>7500.000000</td>\n",
              "      <td>7500.000000</td>\n",
              "      <td>7500.000000</td>\n",
              "      <td>7500.000000</td>\n",
              "      <td>7500.000000</td>\n",
              "      <td>7500.000000</td>\n",
              "      <td>7500.000000</td>\n",
              "      <td>7500.000000</td>\n",
              "      <td>7500.000000</td>\n",
              "      <td>7500.000000</td>\n",
              "      <td>7500.000000</td>\n",
              "      <td>7500.000000</td>\n",
              "    </tr>\n",
              "    <tr>\n",
              "      <th>mean</th>\n",
              "      <td>5.228858</td>\n",
              "      <td>4.520797</td>\n",
              "      <td>5.210976</td>\n",
              "      <td>5.241762</td>\n",
              "      <td>3.754731</td>\n",
              "      <td>-1.251220</td>\n",
              "      <td>-1.252692</td>\n",
              "      <td>-1.250819</td>\n",
              "      <td>0.524319</td>\n",
              "      <td>0.524514</td>\n",
              "      <td>0.526879</td>\n",
              "      <td>0.525536</td>\n",
              "      <td>0.361333</td>\n",
              "    </tr>\n",
              "    <tr>\n",
              "      <th>std</th>\n",
              "      <td>2.738370</td>\n",
              "      <td>2.752313</td>\n",
              "      <td>2.739522</td>\n",
              "      <td>2.730348</td>\n",
              "      <td>0.754559</td>\n",
              "      <td>0.433091</td>\n",
              "      <td>0.434412</td>\n",
              "      <td>0.434051</td>\n",
              "      <td>0.274333</td>\n",
              "      <td>0.272314</td>\n",
              "      <td>0.274261</td>\n",
              "      <td>0.275539</td>\n",
              "      <td>0.480419</td>\n",
              "    </tr>\n",
              "    <tr>\n",
              "      <th>min</th>\n",
              "      <td>0.501331</td>\n",
              "      <td>-0.225671</td>\n",
              "      <td>0.501331</td>\n",
              "      <td>0.500473</td>\n",
              "      <td>1.582590</td>\n",
              "      <td>-1.999891</td>\n",
              "      <td>-1.999945</td>\n",
              "      <td>-1.999926</td>\n",
              "      <td>0.050009</td>\n",
              "      <td>0.050130</td>\n",
              "      <td>0.050054</td>\n",
              "      <td>0.050028</td>\n",
              "      <td>0.000000</td>\n",
              "    </tr>\n",
              "    <tr>\n",
              "      <th>25%</th>\n",
              "      <td>2.866791</td>\n",
              "      <td>2.132227</td>\n",
              "      <td>2.849581</td>\n",
              "      <td>2.866707</td>\n",
              "      <td>3.222427</td>\n",
              "      <td>-1.628732</td>\n",
              "      <td>-1.629679</td>\n",
              "      <td>-1.625914</td>\n",
              "      <td>0.286928</td>\n",
              "      <td>0.291268</td>\n",
              "      <td>0.289900</td>\n",
              "      <td>0.284966</td>\n",
              "      <td>0.000000</td>\n",
              "    </tr>\n",
              "    <tr>\n",
              "      <th>50%</th>\n",
              "      <td>5.218495</td>\n",
              "      <td>4.505940</td>\n",
              "      <td>5.213907</td>\n",
              "      <td>5.234666</td>\n",
              "      <td>3.750117</td>\n",
              "      <td>-1.253129</td>\n",
              "      <td>-1.254323</td>\n",
              "      <td>-1.252545</td>\n",
              "      <td>0.521737</td>\n",
              "      <td>0.524857</td>\n",
              "      <td>0.527572</td>\n",
              "      <td>0.523747</td>\n",
              "      <td>0.000000</td>\n",
              "    </tr>\n",
              "    <tr>\n",
              "      <th>75%</th>\n",
              "      <td>7.587219</td>\n",
              "      <td>6.911618</td>\n",
              "      <td>7.579382</td>\n",
              "      <td>7.596421</td>\n",
              "      <td>4.287058</td>\n",
              "      <td>-0.874619</td>\n",
              "      <td>-0.875935</td>\n",
              "      <td>-0.874258</td>\n",
              "      <td>0.762534</td>\n",
              "      <td>0.759162</td>\n",
              "      <td>0.764014</td>\n",
              "      <td>0.766536</td>\n",
              "      <td>1.000000</td>\n",
              "    </tr>\n",
              "    <tr>\n",
              "      <th>max</th>\n",
              "      <td>9.998995</td>\n",
              "      <td>9.274024</td>\n",
              "      <td>9.997738</td>\n",
              "      <td>9.998912</td>\n",
              "      <td>5.864418</td>\n",
              "      <td>-0.500108</td>\n",
              "      <td>-0.500290</td>\n",
              "      <td>-0.500025</td>\n",
              "      <td>0.999937</td>\n",
              "      <td>0.999944</td>\n",
              "      <td>0.999839</td>\n",
              "      <td>0.999930</td>\n",
              "      <td>1.000000</td>\n",
              "    </tr>\n",
              "  </tbody>\n",
              "</table>\n",
              "</div>\n",
              "    <div class=\"colab-df-buttons\">\n",
              "\n",
              "  <div class=\"colab-df-container\">\n",
              "    <button class=\"colab-df-convert\" onclick=\"convertToInteractive('df-715a81b8-1886-4e67-9a9d-e7ae078873b1')\"\n",
              "            title=\"Convert this dataframe to an interactive table.\"\n",
              "            style=\"display:none;\">\n",
              "\n",
              "  <svg xmlns=\"http://www.w3.org/2000/svg\" height=\"24px\" viewBox=\"0 -960 960 960\">\n",
              "    <path d=\"M120-120v-720h720v720H120Zm60-500h600v-160H180v160Zm220 220h160v-160H400v160Zm0 220h160v-160H400v160ZM180-400h160v-160H180v160Zm440 0h160v-160H620v160ZM180-180h160v-160H180v160Zm440 0h160v-160H620v160Z\"/>\n",
              "  </svg>\n",
              "    </button>\n",
              "\n",
              "  <style>\n",
              "    .colab-df-container {\n",
              "      display:flex;\n",
              "      gap: 12px;\n",
              "    }\n",
              "\n",
              "    .colab-df-convert {\n",
              "      background-color: #E8F0FE;\n",
              "      border: none;\n",
              "      border-radius: 50%;\n",
              "      cursor: pointer;\n",
              "      display: none;\n",
              "      fill: #1967D2;\n",
              "      height: 32px;\n",
              "      padding: 0 0 0 0;\n",
              "      width: 32px;\n",
              "    }\n",
              "\n",
              "    .colab-df-convert:hover {\n",
              "      background-color: #E2EBFA;\n",
              "      box-shadow: 0px 1px 2px rgba(60, 64, 67, 0.3), 0px 1px 3px 1px rgba(60, 64, 67, 0.15);\n",
              "      fill: #174EA6;\n",
              "    }\n",
              "\n",
              "    .colab-df-buttons div {\n",
              "      margin-bottom: 4px;\n",
              "    }\n",
              "\n",
              "    [theme=dark] .colab-df-convert {\n",
              "      background-color: #3B4455;\n",
              "      fill: #D2E3FC;\n",
              "    }\n",
              "\n",
              "    [theme=dark] .colab-df-convert:hover {\n",
              "      background-color: #434B5C;\n",
              "      box-shadow: 0px 1px 3px 1px rgba(0, 0, 0, 0.15);\n",
              "      filter: drop-shadow(0px 1px 2px rgba(0, 0, 0, 0.3));\n",
              "      fill: #FFFFFF;\n",
              "    }\n",
              "  </style>\n",
              "\n",
              "    <script>\n",
              "      const buttonEl =\n",
              "        document.querySelector('#df-715a81b8-1886-4e67-9a9d-e7ae078873b1 button.colab-df-convert');\n",
              "      buttonEl.style.display =\n",
              "        google.colab.kernel.accessAllowed ? 'block' : 'none';\n",
              "\n",
              "      async function convertToInteractive(key) {\n",
              "        const element = document.querySelector('#df-715a81b8-1886-4e67-9a9d-e7ae078873b1');\n",
              "        const dataTable =\n",
              "          await google.colab.kernel.invokeFunction('convertToInteractive',\n",
              "                                                    [key], {});\n",
              "        if (!dataTable) return;\n",
              "\n",
              "        const docLinkHtml = 'Like what you see? Visit the ' +\n",
              "          '<a target=\"_blank\" href=https://colab.research.google.com/notebooks/data_table.ipynb>data table notebook</a>'\n",
              "          + ' to learn more about interactive tables.';\n",
              "        element.innerHTML = '';\n",
              "        dataTable['output_type'] = 'display_data';\n",
              "        await google.colab.output.renderOutput(dataTable, element);\n",
              "        const docLink = document.createElement('div');\n",
              "        docLink.innerHTML = docLinkHtml;\n",
              "        element.appendChild(docLink);\n",
              "      }\n",
              "    </script>\n",
              "  </div>\n",
              "\n",
              "\n",
              "<div id=\"df-5676c70a-d49c-4e91-89ae-e24406ad606c\">\n",
              "  <button class=\"colab-df-quickchart\" onclick=\"quickchart('df-5676c70a-d49c-4e91-89ae-e24406ad606c')\"\n",
              "            title=\"Suggest charts\"\n",
              "            style=\"display:none;\">\n",
              "\n",
              "<svg xmlns=\"http://www.w3.org/2000/svg\" height=\"24px\"viewBox=\"0 0 24 24\"\n",
              "     width=\"24px\">\n",
              "    <g>\n",
              "        <path d=\"M19 3H5c-1.1 0-2 .9-2 2v14c0 1.1.9 2 2 2h14c1.1 0 2-.9 2-2V5c0-1.1-.9-2-2-2zM9 17H7v-7h2v7zm4 0h-2V7h2v10zm4 0h-2v-4h2v4z\"/>\n",
              "    </g>\n",
              "</svg>\n",
              "  </button>\n",
              "\n",
              "<style>\n",
              "  .colab-df-quickchart {\n",
              "      --bg-color: #E8F0FE;\n",
              "      --fill-color: #1967D2;\n",
              "      --hover-bg-color: #E2EBFA;\n",
              "      --hover-fill-color: #174EA6;\n",
              "      --disabled-fill-color: #AAA;\n",
              "      --disabled-bg-color: #DDD;\n",
              "  }\n",
              "\n",
              "  [theme=dark] .colab-df-quickchart {\n",
              "      --bg-color: #3B4455;\n",
              "      --fill-color: #D2E3FC;\n",
              "      --hover-bg-color: #434B5C;\n",
              "      --hover-fill-color: #FFFFFF;\n",
              "      --disabled-bg-color: #3B4455;\n",
              "      --disabled-fill-color: #666;\n",
              "  }\n",
              "\n",
              "  .colab-df-quickchart {\n",
              "    background-color: var(--bg-color);\n",
              "    border: none;\n",
              "    border-radius: 50%;\n",
              "    cursor: pointer;\n",
              "    display: none;\n",
              "    fill: var(--fill-color);\n",
              "    height: 32px;\n",
              "    padding: 0;\n",
              "    width: 32px;\n",
              "  }\n",
              "\n",
              "  .colab-df-quickchart:hover {\n",
              "    background-color: var(--hover-bg-color);\n",
              "    box-shadow: 0 1px 2px rgba(60, 64, 67, 0.3), 0 1px 3px 1px rgba(60, 64, 67, 0.15);\n",
              "    fill: var(--button-hover-fill-color);\n",
              "  }\n",
              "\n",
              "  .colab-df-quickchart-complete:disabled,\n",
              "  .colab-df-quickchart-complete:disabled:hover {\n",
              "    background-color: var(--disabled-bg-color);\n",
              "    fill: var(--disabled-fill-color);\n",
              "    box-shadow: none;\n",
              "  }\n",
              "\n",
              "  .colab-df-spinner {\n",
              "    border: 2px solid var(--fill-color);\n",
              "    border-color: transparent;\n",
              "    border-bottom-color: var(--fill-color);\n",
              "    animation:\n",
              "      spin 1s steps(1) infinite;\n",
              "  }\n",
              "\n",
              "  @keyframes spin {\n",
              "    0% {\n",
              "      border-color: transparent;\n",
              "      border-bottom-color: var(--fill-color);\n",
              "      border-left-color: var(--fill-color);\n",
              "    }\n",
              "    20% {\n",
              "      border-color: transparent;\n",
              "      border-left-color: var(--fill-color);\n",
              "      border-top-color: var(--fill-color);\n",
              "    }\n",
              "    30% {\n",
              "      border-color: transparent;\n",
              "      border-left-color: var(--fill-color);\n",
              "      border-top-color: var(--fill-color);\n",
              "      border-right-color: var(--fill-color);\n",
              "    }\n",
              "    40% {\n",
              "      border-color: transparent;\n",
              "      border-right-color: var(--fill-color);\n",
              "      border-top-color: var(--fill-color);\n",
              "    }\n",
              "    60% {\n",
              "      border-color: transparent;\n",
              "      border-right-color: var(--fill-color);\n",
              "    }\n",
              "    80% {\n",
              "      border-color: transparent;\n",
              "      border-right-color: var(--fill-color);\n",
              "      border-bottom-color: var(--fill-color);\n",
              "    }\n",
              "    90% {\n",
              "      border-color: transparent;\n",
              "      border-bottom-color: var(--fill-color);\n",
              "    }\n",
              "  }\n",
              "</style>\n",
              "\n",
              "  <script>\n",
              "    async function quickchart(key) {\n",
              "      const quickchartButtonEl =\n",
              "        document.querySelector('#' + key + ' button');\n",
              "      quickchartButtonEl.disabled = true;  // To prevent multiple clicks.\n",
              "      quickchartButtonEl.classList.add('colab-df-spinner');\n",
              "      try {\n",
              "        const charts = await google.colab.kernel.invokeFunction(\n",
              "            'suggestCharts', [key], {});\n",
              "      } catch (error) {\n",
              "        console.error('Error during call to suggestCharts:', error);\n",
              "      }\n",
              "      quickchartButtonEl.classList.remove('colab-df-spinner');\n",
              "      quickchartButtonEl.classList.add('colab-df-quickchart-complete');\n",
              "    }\n",
              "    (() => {\n",
              "      let quickchartButtonEl =\n",
              "        document.querySelector('#df-5676c70a-d49c-4e91-89ae-e24406ad606c button');\n",
              "      quickchartButtonEl.style.display =\n",
              "        google.colab.kernel.accessAllowed ? 'block' : 'none';\n",
              "    })();\n",
              "  </script>\n",
              "</div>\n",
              "    </div>\n",
              "  </div>\n"
            ],
            "application/vnd.google.colaboratory.intrinsic+json": {
              "type": "dataframe",
              "summary": "{\n  \"name\": \"train_data\",\n  \"rows\": 8,\n  \"fields\": [\n    {\n      \"column\": \"tau1\",\n      \"properties\": {\n        \"dtype\": \"number\",\n        \"std\": 2649.9277560187556,\n        \"min\": 0.5013307610000001,\n        \"max\": 7500.0,\n        \"num_unique_values\": 8,\n        \"samples\": [\n          5.2288582057776,\n          5.218494931,\n          7500.0\n        ],\n        \"semantic_type\": \"\",\n        \"description\": \"\"\n      }\n    },\n    {\n      \"column\": \"tau2\",\n      \"properties\": {\n        \"dtype\": \"number\",\n        \"std\": 2650.1432997747634,\n        \"min\": -0.2256712485389256,\n        \"max\": 7500.0,\n        \"num_unique_values\": 8,\n        \"samples\": [\n          4.520797218897341,\n          4.505939971961075,\n          7500.0\n        ],\n        \"semantic_type\": \"\",\n        \"description\": \"\"\n      }\n    },\n    {\n      \"column\": \"tau3\",\n      \"properties\": {\n        \"dtype\": \"number\",\n        \"std\": 2649.930161099493,\n        \"min\": 0.5013307610000001,\n        \"max\": 7500.0,\n        \"num_unique_values\": 8,\n        \"samples\": [\n          5.210975869589734,\n          5.213906737,\n          7500.0\n        ],\n        \"semantic_type\": \"\",\n        \"description\": \"\"\n      }\n    },\n    {\n      \"column\": \"tau4\",\n      \"properties\": {\n        \"dtype\": \"number\",\n        \"std\": 2649.9262826519425,\n        \"min\": 0.500472961,\n        \"max\": 7500.0,\n        \"num_unique_values\": 8,\n        \"samples\": [\n          5.241762147559334,\n          5.2346664325,\n          7500.0\n        ],\n        \"semantic_type\": \"\",\n        \"description\": \"\"\n      }\n    },\n    {\n      \"column\": \"p1\",\n      \"properties\": {\n        \"dtype\": \"number\",\n        \"std\": 2650.4783181915172,\n        \"min\": 0.7545590819046398,\n        \"max\": 7500.0,\n        \"num_unique_values\": 8,\n        \"samples\": [\n          3.754730610117067,\n          3.750117316,\n          7500.0\n        ],\n        \"semantic_type\": \"\",\n        \"description\": \"\"\n      }\n    },\n    {\n      \"column\": \"p2\",\n      \"properties\": {\n        \"dtype\": \"number\",\n        \"std\": 2652.0078545545757,\n        \"min\": -1.999890956,\n        \"max\": 7500.0,\n        \"num_unique_values\": 8,\n        \"samples\": [\n          -1.2512197231017335,\n          -1.2531289134999999,\n          7500.0\n        ],\n        \"semantic_type\": \"\",\n        \"description\": \"\"\n      }\n    },\n    {\n      \"column\": \"p3\",\n      \"properties\": {\n        \"dtype\": \"number\",\n        \"std\": 2652.008048858048,\n        \"min\": -1.999944669,\n        \"max\": 7500.0,\n        \"num_unique_values\": 8,\n        \"samples\": [\n          -1.2526916497496001,\n          -1.2543233055,\n          7500.0\n        ],\n        \"semantic_type\": \"\",\n        \"description\": \"\"\n      }\n    },\n    {\n      \"column\": \"p4\",\n      \"properties\": {\n        \"dtype\": \"number\",\n        \"std\": 2652.00759332665,\n        \"min\": -1.999926332,\n        \"max\": 7500.0,\n        \"num_unique_values\": 8,\n        \"samples\": [\n          -1.2508192372742666,\n          -1.252545145,\n          7500.0\n        ],\n        \"semantic_type\": \"\",\n        \"description\": \"\"\n      }\n    },\n    {\n      \"column\": \"g1\",\n      \"properties\": {\n        \"dtype\": \"number\",\n        \"std\": 2651.4777202085684,\n        \"min\": 0.050009304,\n        \"max\": 7500.0,\n        \"num_unique_values\": 8,\n        \"samples\": [\n          0.5243189686374666,\n          0.521736835,\n          7500.0\n        ],\n        \"semantic_type\": \"\",\n        \"description\": \"\"\n      }\n    },\n    {\n      \"column\": \"g2\",\n      \"properties\": {\n        \"dtype\": \"number\",\n        \"std\": 2651.4775994042047,\n        \"min\": 0.050129783,\n        \"max\": 7500.0,\n        \"num_unique_values\": 8,\n        \"samples\": [\n          0.5245139892825333,\n          0.5248571815,\n          7500.0\n        ],\n        \"semantic_type\": \"\",\n        \"description\": \"\"\n      }\n    },\n    {\n      \"column\": \"g3\",\n      \"properties\": {\n        \"dtype\": \"number\",\n        \"std\": 2651.477077697888,\n        \"min\": 0.050053692,\n        \"max\": 7500.0,\n        \"num_unique_values\": 8,\n        \"samples\": [\n          0.5268787891513333,\n          0.5275724625,\n          7500.0\n        ],\n        \"semantic_type\": \"\",\n        \"description\": \"\"\n      }\n    },\n    {\n      \"column\": \"g4\",\n      \"properties\": {\n        \"dtype\": \"number\",\n        \"std\": 2651.477392692665,\n        \"min\": 0.050028494,\n        \"max\": 7500.0,\n        \"num_unique_values\": 8,\n        \"samples\": [\n          0.5255363092266666,\n          0.523747305,\n          7500.0\n        ],\n        \"semantic_type\": \"\",\n        \"description\": \"\"\n      }\n    },\n    {\n      \"column\": \"stabf\",\n      \"properties\": {\n        \"dtype\": \"number\",\n        \"std\": 2651.5069318209858,\n        \"min\": 0.0,\n        \"max\": 7500.0,\n        \"num_unique_values\": 5,\n        \"samples\": [\n          0.36133333333333334,\n          1.0,\n          0.4804189101185016\n        ],\n        \"semantic_type\": \"\",\n        \"description\": \"\"\n      }\n    }\n  ]\n}"
            }
          },
          "metadata": {},
          "execution_count": 484
        }
      ],
      "source": [
        "# For numerical values, .describe() will provide non-zero values, the average mean, standard deviation, quantiles and the minimum and maximum value\n",
        "train_data.describe()"
      ]
    },
    {
      "cell_type": "code",
      "execution_count": null,
      "metadata": {
        "colab": {
          "base_uri": "https://localhost:8080/",
          "height": 457
        },
        "id": "Q7YPRFYlAjVN",
        "outputId": "249fa3d2-b01a-4600-ffe1-db58d8af0165"
      },
      "outputs": [
        {
          "output_type": "execute_result",
          "data": {
            "text/plain": [
              "           tau1      tau2      tau3      tau4        p1        p2        p3  \\\n",
              "tau1   1.000000  0.018327  0.897324 -0.008974  0.031162 -0.018839 -0.019588   \n",
              "tau2   0.018327  1.000000  0.021616 -0.005647 -0.004316  0.010340  0.008914   \n",
              "tau3   0.897324  0.021616  1.000000 -0.013984  0.026722 -0.023971 -0.006389   \n",
              "tau4  -0.008974 -0.005647 -0.013984  1.000000 -0.009866  0.011039  0.016204   \n",
              "p1     0.031162 -0.004316  0.026722 -0.009866  1.000000 -0.573440 -0.584818   \n",
              "p2    -0.018839  0.010340 -0.023971  0.011039 -0.573440  1.000000  0.002514   \n",
              "p3    -0.019588  0.008914 -0.006389  0.016204 -0.584818  0.002514  1.000000   \n",
              "p4    -0.015770 -0.011734 -0.016142 -0.010080 -0.580935 -0.003430  0.013315   \n",
              "g1     0.007780 -0.007413  0.001329 -0.013931 -0.005019  0.021536  0.000929   \n",
              "g2     0.017797  0.017506  0.008139  0.011775  0.026612 -0.026247 -0.012074   \n",
              "g3    -0.005001  0.028040 -0.009687  0.005236  0.001476  0.000339 -0.002953   \n",
              "g4     0.003678 -0.005822  0.006779 -0.003716 -0.017816  0.018890 -0.006246   \n",
              "stabf -0.241021 -0.246724 -0.206812 -0.236687 -0.018572 -0.008119  0.002483   \n",
              "\n",
              "             p4        g1        g2        g3        g4     stabf  \n",
              "tau1  -0.015770  0.007780  0.017797 -0.005001  0.003678 -0.241021  \n",
              "tau2  -0.011734 -0.007413  0.017506  0.028040 -0.005822 -0.246724  \n",
              "tau3  -0.016142  0.001329  0.008139 -0.009687  0.006779 -0.206812  \n",
              "tau4  -0.010080 -0.013931  0.011775  0.005236 -0.003716 -0.236687  \n",
              "p1    -0.580935 -0.005019  0.026612  0.001476 -0.017816 -0.018572  \n",
              "p2    -0.003430  0.021536 -0.026247  0.000339  0.018890 -0.008119  \n",
              "p3     0.013315  0.000929 -0.012074 -0.002953 -0.006246  0.002483  \n",
              "p4     1.000000 -0.013694 -0.007990  0.000052  0.018373  0.037901  \n",
              "g1    -0.013694  1.000000  0.005393 -0.009658  0.007221 -0.197329  \n",
              "g2    -0.007990  0.005393  1.000000 -0.022642 -0.020621 -0.216758  \n",
              "g3     0.000052 -0.009658 -0.022642  1.000000  0.006945 -0.231643  \n",
              "g4     0.018373  0.007221 -0.020621  0.006945  1.000000 -0.198284  \n",
              "stabf  0.037901 -0.197329 -0.216758 -0.231643 -0.198284  1.000000  "
            ],
            "text/html": [
              "\n",
              "  <div id=\"df-865022fc-39c3-419f-a447-ba02d76751dc\" class=\"colab-df-container\">\n",
              "    <div>\n",
              "<style scoped>\n",
              "    .dataframe tbody tr th:only-of-type {\n",
              "        vertical-align: middle;\n",
              "    }\n",
              "\n",
              "    .dataframe tbody tr th {\n",
              "        vertical-align: top;\n",
              "    }\n",
              "\n",
              "    .dataframe thead th {\n",
              "        text-align: right;\n",
              "    }\n",
              "</style>\n",
              "<table border=\"1\" class=\"dataframe\">\n",
              "  <thead>\n",
              "    <tr style=\"text-align: right;\">\n",
              "      <th></th>\n",
              "      <th>tau1</th>\n",
              "      <th>tau2</th>\n",
              "      <th>tau3</th>\n",
              "      <th>tau4</th>\n",
              "      <th>p1</th>\n",
              "      <th>p2</th>\n",
              "      <th>p3</th>\n",
              "      <th>p4</th>\n",
              "      <th>g1</th>\n",
              "      <th>g2</th>\n",
              "      <th>g3</th>\n",
              "      <th>g4</th>\n",
              "      <th>stabf</th>\n",
              "    </tr>\n",
              "  </thead>\n",
              "  <tbody>\n",
              "    <tr>\n",
              "      <th>tau1</th>\n",
              "      <td>1.000000</td>\n",
              "      <td>0.018327</td>\n",
              "      <td>0.897324</td>\n",
              "      <td>-0.008974</td>\n",
              "      <td>0.031162</td>\n",
              "      <td>-0.018839</td>\n",
              "      <td>-0.019588</td>\n",
              "      <td>-0.015770</td>\n",
              "      <td>0.007780</td>\n",
              "      <td>0.017797</td>\n",
              "      <td>-0.005001</td>\n",
              "      <td>0.003678</td>\n",
              "      <td>-0.241021</td>\n",
              "    </tr>\n",
              "    <tr>\n",
              "      <th>tau2</th>\n",
              "      <td>0.018327</td>\n",
              "      <td>1.000000</td>\n",
              "      <td>0.021616</td>\n",
              "      <td>-0.005647</td>\n",
              "      <td>-0.004316</td>\n",
              "      <td>0.010340</td>\n",
              "      <td>0.008914</td>\n",
              "      <td>-0.011734</td>\n",
              "      <td>-0.007413</td>\n",
              "      <td>0.017506</td>\n",
              "      <td>0.028040</td>\n",
              "      <td>-0.005822</td>\n",
              "      <td>-0.246724</td>\n",
              "    </tr>\n",
              "    <tr>\n",
              "      <th>tau3</th>\n",
              "      <td>0.897324</td>\n",
              "      <td>0.021616</td>\n",
              "      <td>1.000000</td>\n",
              "      <td>-0.013984</td>\n",
              "      <td>0.026722</td>\n",
              "      <td>-0.023971</td>\n",
              "      <td>-0.006389</td>\n",
              "      <td>-0.016142</td>\n",
              "      <td>0.001329</td>\n",
              "      <td>0.008139</td>\n",
              "      <td>-0.009687</td>\n",
              "      <td>0.006779</td>\n",
              "      <td>-0.206812</td>\n",
              "    </tr>\n",
              "    <tr>\n",
              "      <th>tau4</th>\n",
              "      <td>-0.008974</td>\n",
              "      <td>-0.005647</td>\n",
              "      <td>-0.013984</td>\n",
              "      <td>1.000000</td>\n",
              "      <td>-0.009866</td>\n",
              "      <td>0.011039</td>\n",
              "      <td>0.016204</td>\n",
              "      <td>-0.010080</td>\n",
              "      <td>-0.013931</td>\n",
              "      <td>0.011775</td>\n",
              "      <td>0.005236</td>\n",
              "      <td>-0.003716</td>\n",
              "      <td>-0.236687</td>\n",
              "    </tr>\n",
              "    <tr>\n",
              "      <th>p1</th>\n",
              "      <td>0.031162</td>\n",
              "      <td>-0.004316</td>\n",
              "      <td>0.026722</td>\n",
              "      <td>-0.009866</td>\n",
              "      <td>1.000000</td>\n",
              "      <td>-0.573440</td>\n",
              "      <td>-0.584818</td>\n",
              "      <td>-0.580935</td>\n",
              "      <td>-0.005019</td>\n",
              "      <td>0.026612</td>\n",
              "      <td>0.001476</td>\n",
              "      <td>-0.017816</td>\n",
              "      <td>-0.018572</td>\n",
              "    </tr>\n",
              "    <tr>\n",
              "      <th>p2</th>\n",
              "      <td>-0.018839</td>\n",
              "      <td>0.010340</td>\n",
              "      <td>-0.023971</td>\n",
              "      <td>0.011039</td>\n",
              "      <td>-0.573440</td>\n",
              "      <td>1.000000</td>\n",
              "      <td>0.002514</td>\n",
              "      <td>-0.003430</td>\n",
              "      <td>0.021536</td>\n",
              "      <td>-0.026247</td>\n",
              "      <td>0.000339</td>\n",
              "      <td>0.018890</td>\n",
              "      <td>-0.008119</td>\n",
              "    </tr>\n",
              "    <tr>\n",
              "      <th>p3</th>\n",
              "      <td>-0.019588</td>\n",
              "      <td>0.008914</td>\n",
              "      <td>-0.006389</td>\n",
              "      <td>0.016204</td>\n",
              "      <td>-0.584818</td>\n",
              "      <td>0.002514</td>\n",
              "      <td>1.000000</td>\n",
              "      <td>0.013315</td>\n",
              "      <td>0.000929</td>\n",
              "      <td>-0.012074</td>\n",
              "      <td>-0.002953</td>\n",
              "      <td>-0.006246</td>\n",
              "      <td>0.002483</td>\n",
              "    </tr>\n",
              "    <tr>\n",
              "      <th>p4</th>\n",
              "      <td>-0.015770</td>\n",
              "      <td>-0.011734</td>\n",
              "      <td>-0.016142</td>\n",
              "      <td>-0.010080</td>\n",
              "      <td>-0.580935</td>\n",
              "      <td>-0.003430</td>\n",
              "      <td>0.013315</td>\n",
              "      <td>1.000000</td>\n",
              "      <td>-0.013694</td>\n",
              "      <td>-0.007990</td>\n",
              "      <td>0.000052</td>\n",
              "      <td>0.018373</td>\n",
              "      <td>0.037901</td>\n",
              "    </tr>\n",
              "    <tr>\n",
              "      <th>g1</th>\n",
              "      <td>0.007780</td>\n",
              "      <td>-0.007413</td>\n",
              "      <td>0.001329</td>\n",
              "      <td>-0.013931</td>\n",
              "      <td>-0.005019</td>\n",
              "      <td>0.021536</td>\n",
              "      <td>0.000929</td>\n",
              "      <td>-0.013694</td>\n",
              "      <td>1.000000</td>\n",
              "      <td>0.005393</td>\n",
              "      <td>-0.009658</td>\n",
              "      <td>0.007221</td>\n",
              "      <td>-0.197329</td>\n",
              "    </tr>\n",
              "    <tr>\n",
              "      <th>g2</th>\n",
              "      <td>0.017797</td>\n",
              "      <td>0.017506</td>\n",
              "      <td>0.008139</td>\n",
              "      <td>0.011775</td>\n",
              "      <td>0.026612</td>\n",
              "      <td>-0.026247</td>\n",
              "      <td>-0.012074</td>\n",
              "      <td>-0.007990</td>\n",
              "      <td>0.005393</td>\n",
              "      <td>1.000000</td>\n",
              "      <td>-0.022642</td>\n",
              "      <td>-0.020621</td>\n",
              "      <td>-0.216758</td>\n",
              "    </tr>\n",
              "    <tr>\n",
              "      <th>g3</th>\n",
              "      <td>-0.005001</td>\n",
              "      <td>0.028040</td>\n",
              "      <td>-0.009687</td>\n",
              "      <td>0.005236</td>\n",
              "      <td>0.001476</td>\n",
              "      <td>0.000339</td>\n",
              "      <td>-0.002953</td>\n",
              "      <td>0.000052</td>\n",
              "      <td>-0.009658</td>\n",
              "      <td>-0.022642</td>\n",
              "      <td>1.000000</td>\n",
              "      <td>0.006945</td>\n",
              "      <td>-0.231643</td>\n",
              "    </tr>\n",
              "    <tr>\n",
              "      <th>g4</th>\n",
              "      <td>0.003678</td>\n",
              "      <td>-0.005822</td>\n",
              "      <td>0.006779</td>\n",
              "      <td>-0.003716</td>\n",
              "      <td>-0.017816</td>\n",
              "      <td>0.018890</td>\n",
              "      <td>-0.006246</td>\n",
              "      <td>0.018373</td>\n",
              "      <td>0.007221</td>\n",
              "      <td>-0.020621</td>\n",
              "      <td>0.006945</td>\n",
              "      <td>1.000000</td>\n",
              "      <td>-0.198284</td>\n",
              "    </tr>\n",
              "    <tr>\n",
              "      <th>stabf</th>\n",
              "      <td>-0.241021</td>\n",
              "      <td>-0.246724</td>\n",
              "      <td>-0.206812</td>\n",
              "      <td>-0.236687</td>\n",
              "      <td>-0.018572</td>\n",
              "      <td>-0.008119</td>\n",
              "      <td>0.002483</td>\n",
              "      <td>0.037901</td>\n",
              "      <td>-0.197329</td>\n",
              "      <td>-0.216758</td>\n",
              "      <td>-0.231643</td>\n",
              "      <td>-0.198284</td>\n",
              "      <td>1.000000</td>\n",
              "    </tr>\n",
              "  </tbody>\n",
              "</table>\n",
              "</div>\n",
              "    <div class=\"colab-df-buttons\">\n",
              "\n",
              "  <div class=\"colab-df-container\">\n",
              "    <button class=\"colab-df-convert\" onclick=\"convertToInteractive('df-865022fc-39c3-419f-a447-ba02d76751dc')\"\n",
              "            title=\"Convert this dataframe to an interactive table.\"\n",
              "            style=\"display:none;\">\n",
              "\n",
              "  <svg xmlns=\"http://www.w3.org/2000/svg\" height=\"24px\" viewBox=\"0 -960 960 960\">\n",
              "    <path d=\"M120-120v-720h720v720H120Zm60-500h600v-160H180v160Zm220 220h160v-160H400v160Zm0 220h160v-160H400v160ZM180-400h160v-160H180v160Zm440 0h160v-160H620v160ZM180-180h160v-160H180v160Zm440 0h160v-160H620v160Z\"/>\n",
              "  </svg>\n",
              "    </button>\n",
              "\n",
              "  <style>\n",
              "    .colab-df-container {\n",
              "      display:flex;\n",
              "      gap: 12px;\n",
              "    }\n",
              "\n",
              "    .colab-df-convert {\n",
              "      background-color: #E8F0FE;\n",
              "      border: none;\n",
              "      border-radius: 50%;\n",
              "      cursor: pointer;\n",
              "      display: none;\n",
              "      fill: #1967D2;\n",
              "      height: 32px;\n",
              "      padding: 0 0 0 0;\n",
              "      width: 32px;\n",
              "    }\n",
              "\n",
              "    .colab-df-convert:hover {\n",
              "      background-color: #E2EBFA;\n",
              "      box-shadow: 0px 1px 2px rgba(60, 64, 67, 0.3), 0px 1px 3px 1px rgba(60, 64, 67, 0.15);\n",
              "      fill: #174EA6;\n",
              "    }\n",
              "\n",
              "    .colab-df-buttons div {\n",
              "      margin-bottom: 4px;\n",
              "    }\n",
              "\n",
              "    [theme=dark] .colab-df-convert {\n",
              "      background-color: #3B4455;\n",
              "      fill: #D2E3FC;\n",
              "    }\n",
              "\n",
              "    [theme=dark] .colab-df-convert:hover {\n",
              "      background-color: #434B5C;\n",
              "      box-shadow: 0px 1px 3px 1px rgba(0, 0, 0, 0.15);\n",
              "      filter: drop-shadow(0px 1px 2px rgba(0, 0, 0, 0.3));\n",
              "      fill: #FFFFFF;\n",
              "    }\n",
              "  </style>\n",
              "\n",
              "    <script>\n",
              "      const buttonEl =\n",
              "        document.querySelector('#df-865022fc-39c3-419f-a447-ba02d76751dc button.colab-df-convert');\n",
              "      buttonEl.style.display =\n",
              "        google.colab.kernel.accessAllowed ? 'block' : 'none';\n",
              "\n",
              "      async function convertToInteractive(key) {\n",
              "        const element = document.querySelector('#df-865022fc-39c3-419f-a447-ba02d76751dc');\n",
              "        const dataTable =\n",
              "          await google.colab.kernel.invokeFunction('convertToInteractive',\n",
              "                                                    [key], {});\n",
              "        if (!dataTable) return;\n",
              "\n",
              "        const docLinkHtml = 'Like what you see? Visit the ' +\n",
              "          '<a target=\"_blank\" href=https://colab.research.google.com/notebooks/data_table.ipynb>data table notebook</a>'\n",
              "          + ' to learn more about interactive tables.';\n",
              "        element.innerHTML = '';\n",
              "        dataTable['output_type'] = 'display_data';\n",
              "        await google.colab.output.renderOutput(dataTable, element);\n",
              "        const docLink = document.createElement('div');\n",
              "        docLink.innerHTML = docLinkHtml;\n",
              "        element.appendChild(docLink);\n",
              "      }\n",
              "    </script>\n",
              "  </div>\n",
              "\n",
              "\n",
              "<div id=\"df-ab2a5db2-18d8-4118-b284-b15fd011075e\">\n",
              "  <button class=\"colab-df-quickchart\" onclick=\"quickchart('df-ab2a5db2-18d8-4118-b284-b15fd011075e')\"\n",
              "            title=\"Suggest charts\"\n",
              "            style=\"display:none;\">\n",
              "\n",
              "<svg xmlns=\"http://www.w3.org/2000/svg\" height=\"24px\"viewBox=\"0 0 24 24\"\n",
              "     width=\"24px\">\n",
              "    <g>\n",
              "        <path d=\"M19 3H5c-1.1 0-2 .9-2 2v14c0 1.1.9 2 2 2h14c1.1 0 2-.9 2-2V5c0-1.1-.9-2-2-2zM9 17H7v-7h2v7zm4 0h-2V7h2v10zm4 0h-2v-4h2v4z\"/>\n",
              "    </g>\n",
              "</svg>\n",
              "  </button>\n",
              "\n",
              "<style>\n",
              "  .colab-df-quickchart {\n",
              "      --bg-color: #E8F0FE;\n",
              "      --fill-color: #1967D2;\n",
              "      --hover-bg-color: #E2EBFA;\n",
              "      --hover-fill-color: #174EA6;\n",
              "      --disabled-fill-color: #AAA;\n",
              "      --disabled-bg-color: #DDD;\n",
              "  }\n",
              "\n",
              "  [theme=dark] .colab-df-quickchart {\n",
              "      --bg-color: #3B4455;\n",
              "      --fill-color: #D2E3FC;\n",
              "      --hover-bg-color: #434B5C;\n",
              "      --hover-fill-color: #FFFFFF;\n",
              "      --disabled-bg-color: #3B4455;\n",
              "      --disabled-fill-color: #666;\n",
              "  }\n",
              "\n",
              "  .colab-df-quickchart {\n",
              "    background-color: var(--bg-color);\n",
              "    border: none;\n",
              "    border-radius: 50%;\n",
              "    cursor: pointer;\n",
              "    display: none;\n",
              "    fill: var(--fill-color);\n",
              "    height: 32px;\n",
              "    padding: 0;\n",
              "    width: 32px;\n",
              "  }\n",
              "\n",
              "  .colab-df-quickchart:hover {\n",
              "    background-color: var(--hover-bg-color);\n",
              "    box-shadow: 0 1px 2px rgba(60, 64, 67, 0.3), 0 1px 3px 1px rgba(60, 64, 67, 0.15);\n",
              "    fill: var(--button-hover-fill-color);\n",
              "  }\n",
              "\n",
              "  .colab-df-quickchart-complete:disabled,\n",
              "  .colab-df-quickchart-complete:disabled:hover {\n",
              "    background-color: var(--disabled-bg-color);\n",
              "    fill: var(--disabled-fill-color);\n",
              "    box-shadow: none;\n",
              "  }\n",
              "\n",
              "  .colab-df-spinner {\n",
              "    border: 2px solid var(--fill-color);\n",
              "    border-color: transparent;\n",
              "    border-bottom-color: var(--fill-color);\n",
              "    animation:\n",
              "      spin 1s steps(1) infinite;\n",
              "  }\n",
              "\n",
              "  @keyframes spin {\n",
              "    0% {\n",
              "      border-color: transparent;\n",
              "      border-bottom-color: var(--fill-color);\n",
              "      border-left-color: var(--fill-color);\n",
              "    }\n",
              "    20% {\n",
              "      border-color: transparent;\n",
              "      border-left-color: var(--fill-color);\n",
              "      border-top-color: var(--fill-color);\n",
              "    }\n",
              "    30% {\n",
              "      border-color: transparent;\n",
              "      border-left-color: var(--fill-color);\n",
              "      border-top-color: var(--fill-color);\n",
              "      border-right-color: var(--fill-color);\n",
              "    }\n",
              "    40% {\n",
              "      border-color: transparent;\n",
              "      border-right-color: var(--fill-color);\n",
              "      border-top-color: var(--fill-color);\n",
              "    }\n",
              "    60% {\n",
              "      border-color: transparent;\n",
              "      border-right-color: var(--fill-color);\n",
              "    }\n",
              "    80% {\n",
              "      border-color: transparent;\n",
              "      border-right-color: var(--fill-color);\n",
              "      border-bottom-color: var(--fill-color);\n",
              "    }\n",
              "    90% {\n",
              "      border-color: transparent;\n",
              "      border-bottom-color: var(--fill-color);\n",
              "    }\n",
              "  }\n",
              "</style>\n",
              "\n",
              "  <script>\n",
              "    async function quickchart(key) {\n",
              "      const quickchartButtonEl =\n",
              "        document.querySelector('#' + key + ' button');\n",
              "      quickchartButtonEl.disabled = true;  // To prevent multiple clicks.\n",
              "      quickchartButtonEl.classList.add('colab-df-spinner');\n",
              "      try {\n",
              "        const charts = await google.colab.kernel.invokeFunction(\n",
              "            'suggestCharts', [key], {});\n",
              "      } catch (error) {\n",
              "        console.error('Error during call to suggestCharts:', error);\n",
              "      }\n",
              "      quickchartButtonEl.classList.remove('colab-df-spinner');\n",
              "      quickchartButtonEl.classList.add('colab-df-quickchart-complete');\n",
              "    }\n",
              "    (() => {\n",
              "      let quickchartButtonEl =\n",
              "        document.querySelector('#df-ab2a5db2-18d8-4118-b284-b15fd011075e button');\n",
              "      quickchartButtonEl.style.display =\n",
              "        google.colab.kernel.accessAllowed ? 'block' : 'none';\n",
              "    })();\n",
              "  </script>\n",
              "</div>\n",
              "    </div>\n",
              "  </div>\n"
            ],
            "application/vnd.google.colaboratory.intrinsic+json": {
              "type": "dataframe",
              "summary": "{\n  \"name\": \"train_data\",\n  \"rows\": 13,\n  \"fields\": [\n    {\n      \"column\": \"tau1\",\n      \"properties\": {\n        \"dtype\": \"number\",\n        \"std\": 0.3710732156702185,\n        \"min\": -0.24102059680926113,\n        \"max\": 1.0,\n        \"num_unique_values\": 13,\n        \"samples\": [\n          0.003677802717331769,\n          0.01779650082587682,\n          1.0\n        ],\n        \"semantic_type\": \"\",\n        \"description\": \"\"\n      }\n    },\n    {\n      \"column\": \"tau2\",\n      \"properties\": {\n        \"dtype\": \"number\",\n        \"std\": 0.29027556624590567,\n        \"min\": -0.246724155050351,\n        \"max\": 1.0,\n        \"num_unique_values\": 13,\n        \"samples\": [\n          -0.005821501593970438,\n          0.017506305082962435,\n          0.018326745660702835\n        ],\n        \"semantic_type\": \"\",\n        \"description\": \"\"\n      }\n    },\n    {\n      \"column\": \"tau3\",\n      \"properties\": {\n        \"dtype\": \"number\",\n        \"std\": 0.36878634436177077,\n        \"min\": -0.2068121152367998,\n        \"max\": 1.0,\n        \"num_unique_values\": 13,\n        \"samples\": [\n          0.006779165181720083,\n          0.008138831715212187,\n          0.8973242686267091\n        ],\n        \"semantic_type\": \"\",\n        \"description\": \"\"\n      }\n    },\n    {\n      \"column\": \"tau4\",\n      \"properties\": {\n        \"dtype\": \"number\",\n        \"std\": 0.29083312925432214,\n        \"min\": -0.236686948976199,\n        \"max\": 1.0,\n        \"num_unique_values\": 13,\n        \"samples\": [\n          -0.0037156434158737836,\n          0.011774980119432895,\n          -0.008974226619953011\n        ],\n        \"semantic_type\": \"\",\n        \"description\": \"\"\n      }\n    },\n    {\n      \"column\": \"p1\",\n      \"properties\": {\n        \"dtype\": \"number\",\n        \"std\": 0.4054711809651087,\n        \"min\": -0.584817618794342,\n        \"max\": 1.0,\n        \"num_unique_values\": 13,\n        \"samples\": [\n          -0.017815613959565043,\n          0.026612071138186047,\n          0.031161523981999964\n        ],\n        \"semantic_type\": \"\",\n        \"description\": \"\"\n      }\n    },\n    {\n      \"column\": \"p2\",\n      \"properties\": {\n        \"dtype\": \"number\",\n        \"std\": 0.3314885633426071,\n        \"min\": -0.5734400595033716,\n        \"max\": 1.0,\n        \"num_unique_values\": 13,\n        \"samples\": [\n          0.018890497571445515,\n          -0.026246844831236422,\n          -0.018838970160467417\n        ],\n        \"semantic_type\": \"\",\n        \"description\": \"\"\n      }\n    },\n    {\n      \"column\": \"p3\",\n      \"properties\": {\n        \"dtype\": \"number\",\n        \"std\": 0.33292724826499603,\n        \"min\": -0.584817618794342,\n        \"max\": 1.0,\n        \"num_unique_values\": 13,\n        \"samples\": [\n          -0.006245731847204411,\n          -0.01207384056173708,\n          -0.019588049206563398\n        ],\n        \"semantic_type\": \"\",\n        \"description\": \"\"\n      }\n    },\n    {\n      \"column\": \"p4\",\n      \"properties\": {\n        \"dtype\": \"number\",\n        \"std\": 0.33260665249937305,\n        \"min\": -0.5809350068225222,\n        \"max\": 1.0,\n        \"num_unique_values\": 13,\n        \"samples\": [\n          0.018373032888234466,\n          -0.007990028544904248,\n          -0.01576988787908378\n        ],\n        \"semantic_type\": \"\",\n        \"description\": \"\"\n      }\n    },\n    {\n      \"column\": \"g1\",\n      \"properties\": {\n        \"dtype\": \"number\",\n        \"std\": 0.28740532716976525,\n        \"min\": -0.19732898898299447,\n        \"max\": 1.0,\n        \"num_unique_values\": 13,\n        \"samples\": [\n          0.007220794275535273,\n          0.0053933268109384175,\n          0.0077798143288553105\n        ],\n        \"semantic_type\": \"\",\n        \"description\": \"\"\n      }\n    },\n    {\n      \"column\": \"g2\",\n      \"properties\": {\n        \"dtype\": \"number\",\n        \"std\": 0.2891768633410469,\n        \"min\": -0.2167584550633628,\n        \"max\": 1.0,\n        \"num_unique_values\": 13,\n        \"samples\": [\n          -0.020621025044388123,\n          1.0,\n          0.01779650082587682\n        ],\n        \"semantic_type\": \"\",\n        \"description\": \"\"\n      }\n    },\n    {\n      \"column\": \"g3\",\n      \"properties\": {\n        \"dtype\": \"number\",\n        \"std\": 0.29022495309799895,\n        \"min\": -0.23164271098344455,\n        \"max\": 1.0,\n        \"num_unique_values\": 13,\n        \"samples\": [\n          0.006944846744207853,\n          -0.02264164985031195,\n          -0.005001201983336997\n        ],\n        \"semantic_type\": \"\",\n        \"description\": \"\"\n      }\n    },\n    {\n      \"column\": \"g4\",\n      \"properties\": {\n        \"dtype\": \"number\",\n        \"std\": 0.28731630317230383,\n        \"min\": -0.19828414681708542,\n        \"max\": 1.0,\n        \"num_unique_values\": 13,\n        \"samples\": [\n          1.0,\n          -0.020621025044388123,\n          0.003677802717331769\n        ],\n        \"semantic_type\": \"\",\n        \"description\": \"\"\n      }\n    },\n    {\n      \"column\": \"stabf\",\n      \"properties\": {\n        \"dtype\": \"number\",\n        \"std\": 0.33589348623095927,\n        \"min\": -0.246724155050351,\n        \"max\": 1.0,\n        \"num_unique_values\": 13,\n        \"samples\": [\n          -0.19828414681708542,\n          -0.2167584550633628,\n          -0.24102059680926113\n        ],\n        \"semantic_type\": \"\",\n        \"description\": \"\"\n      }\n    }\n  ]\n}"
            }
          },
          "metadata": {},
          "execution_count": 485
        }
      ],
      "source": [
        "# Determine positive and negative correlations (1 being a perfect correlation, 0 no correlation, -1 a perfect negative correlation)\n",
        "train_data.corr()"
      ]
    },
    {
      "cell_type": "code",
      "execution_count": null,
      "metadata": {
        "colab": {
          "base_uri": "https://localhost:8080/",
          "height": 546
        },
        "id": "asw193AH000E",
        "outputId": "e32e55fd-7f9f-48d4-d3b3-c136ebb21d6e"
      },
      "outputs": [
        {
          "output_type": "execute_result",
          "data": {
            "text/plain": [
              "<Axes: >"
            ]
          },
          "metadata": {},
          "execution_count": 486
        },
        {
          "output_type": "display_data",
          "data": {
            "text/plain": [
              "<Figure size 1200x600 with 2 Axes>"
            ],
            "image/png": "[encoded data removed]"
          },
          "metadata": {}
        }
      ],
      "source": [
        "# Create a heatmap in order to visualize the correlation matrix of the train_data DataFrame\n",
        "plt.figure(figsize=(12, 6))\n",
        "sns.heatmap(train_data.corr(), cmap='coolwarm', annot=True)"
      ]
    },
    {
      "cell_type": "markdown",
      "metadata": {
        "id": "5RDKAGkV1P0J"
      },
      "source": [
        "There is a strong collinearity between feature p1 and p2, p3, p4 and a very strong collinearity between feature tau1 and tau3.\n",
        "\n",
        "Since a heatmap displays correlation coefficients, we aim for a value of 0 or close to 0. If some values are not close to 0, they are said to be dependent, while independence is required in order to provide unique information to the analysis. Furthermore, dependency can lead to multicollinearity, which means that the effect of a sole variable can not be seperated from the other variable. Thus, dependent variables will have redundant informations about the target variable.\n",
        "\n",
        "\"tau1\" has a very strong correlation of 0.9 between tau1 and tau3. Furthermore, there is a strong negative correlation of -0.58 between (p1, p3) & (p1, p4) and a strong negative correlation of -0.57 between (p1, p2).\n",
        "Thus, it makes sense to drop \"p1\" and \"tau1\"."
      ]
    },
    {
      "cell_type": "code",
      "execution_count": null,
      "metadata": {
        "id": "HnBPOZ-Z3LXf"
      },
      "outputs": [],
      "source": [
        "# Delete feature with strong collinearity\n",
        "train_data = train_data.drop(['p1', 'tau1'], axis=1)"
      ]
    },
    {
      "cell_type": "code",
      "execution_count": null,
      "metadata": {
        "colab": {
          "base_uri": "https://localhost:8080/",
          "height": 394
        },
        "id": "KQQZllxwAxek",
        "outputId": "15b2de24-2180-4886-fb6c-5b395c0938a3"
      },
      "outputs": [
        {
          "output_type": "execute_result",
          "data": {
            "text/plain": [
              "           tau2      tau3      tau4        p2        p3        p4        g1  \\\n",
              "tau2   1.000000  0.021616 -0.005647  0.010340  0.008914 -0.011734 -0.007413   \n",
              "tau3   0.021616  1.000000 -0.013984 -0.023971 -0.006389 -0.016142  0.001329   \n",
              "tau4  -0.005647 -0.013984  1.000000  0.011039  0.016204 -0.010080 -0.013931   \n",
              "p2     0.010340 -0.023971  0.011039  1.000000  0.002514 -0.003430  0.021536   \n",
              "p3     0.008914 -0.006389  0.016204  0.002514  1.000000  0.013315  0.000929   \n",
              "p4    -0.011734 -0.016142 -0.010080 -0.003430  0.013315  1.000000 -0.013694   \n",
              "g1    -0.007413  0.001329 -0.013931  0.021536  0.000929 -0.013694  1.000000   \n",
              "g2     0.017506  0.008139  0.011775 -0.026247 -0.012074 -0.007990  0.005393   \n",
              "g3     0.028040 -0.009687  0.005236  0.000339 -0.002953  0.000052 -0.009658   \n",
              "g4    -0.005822  0.006779 -0.003716  0.018890 -0.006246  0.018373  0.007221   \n",
              "stabf -0.246724 -0.206812 -0.236687 -0.008119  0.002483  0.037901 -0.197329   \n",
              "\n",
              "             g2        g3        g4     stabf  \n",
              "tau2   0.017506  0.028040 -0.005822 -0.246724  \n",
              "tau3   0.008139 -0.009687  0.006779 -0.206812  \n",
              "tau4   0.011775  0.005236 -0.003716 -0.236687  \n",
              "p2    -0.026247  0.000339  0.018890 -0.008119  \n",
              "p3    -0.012074 -0.002953 -0.006246  0.002483  \n",
              "p4    -0.007990  0.000052  0.018373  0.037901  \n",
              "g1     0.005393 -0.009658  0.007221 -0.197329  \n",
              "g2     1.000000 -0.022642 -0.020621 -0.216758  \n",
              "g3    -0.022642  1.000000  0.006945 -0.231643  \n",
              "g4    -0.020621  0.006945  1.000000 -0.198284  \n",
              "stabf -0.216758 -0.231643 -0.198284  1.000000  "
            ],
            "text/html": [
              "\n",
              "  <div id=\"df-8793dcfe-480f-41eb-b49d-e42b10cf84c4\" class=\"colab-df-container\">\n",
              "    <div>\n",
              "<style scoped>\n",
              "    .dataframe tbody tr th:only-of-type {\n",
              "        vertical-align: middle;\n",
              "    }\n",
              "\n",
              "    .dataframe tbody tr th {\n",
              "        vertical-align: top;\n",
              "    }\n",
              "\n",
              "    .dataframe thead th {\n",
              "        text-align: right;\n",
              "    }\n",
              "</style>\n",
              "<table border=\"1\" class=\"dataframe\">\n",
              "  <thead>\n",
              "    <tr style=\"text-align: right;\">\n",
              "      <th></th>\n",
              "      <th>tau2</th>\n",
              "      <th>tau3</th>\n",
              "      <th>tau4</th>\n",
              "      <th>p2</th>\n",
              "      <th>p3</th>\n",
              "      <th>p4</th>\n",
              "      <th>g1</th>\n",
              "      <th>g2</th>\n",
              "      <th>g3</th>\n",
              "      <th>g4</th>\n",
              "      <th>stabf</th>\n",
              "    </tr>\n",
              "  </thead>\n",
              "  <tbody>\n",
              "    <tr>\n",
              "      <th>tau2</th>\n",
              "      <td>1.000000</td>\n",
              "      <td>0.021616</td>\n",
              "      <td>-0.005647</td>\n",
              "      <td>0.010340</td>\n",
              "      <td>0.008914</td>\n",
              "      <td>-0.011734</td>\n",
              "      <td>-0.007413</td>\n",
              "      <td>0.017506</td>\n",
              "      <td>0.028040</td>\n",
              "      <td>-0.005822</td>\n",
              "      <td>-0.246724</td>\n",
              "    </tr>\n",
              "    <tr>\n",
              "      <th>tau3</th>\n",
              "      <td>0.021616</td>\n",
              "      <td>1.000000</td>\n",
              "      <td>-0.013984</td>\n",
              "      <td>-0.023971</td>\n",
              "      <td>-0.006389</td>\n",
              "      <td>-0.016142</td>\n",
              "      <td>0.001329</td>\n",
              "      <td>0.008139</td>\n",
              "      <td>-0.009687</td>\n",
              "      <td>0.006779</td>\n",
              "      <td>-0.206812</td>\n",
              "    </tr>\n",
              "    <tr>\n",
              "      <th>tau4</th>\n",
              "      <td>-0.005647</td>\n",
              "      <td>-0.013984</td>\n",
              "      <td>1.000000</td>\n",
              "      <td>0.011039</td>\n",
              "      <td>0.016204</td>\n",
              "      <td>-0.010080</td>\n",
              "      <td>-0.013931</td>\n",
              "      <td>0.011775</td>\n",
              "      <td>0.005236</td>\n",
              "      <td>-0.003716</td>\n",
              "      <td>-0.236687</td>\n",
              "    </tr>\n",
              "    <tr>\n",
              "      <th>p2</th>\n",
              "      <td>0.010340</td>\n",
              "      <td>-0.023971</td>\n",
              "      <td>0.011039</td>\n",
              "      <td>1.000000</td>\n",
              "      <td>0.002514</td>\n",
              "      <td>-0.003430</td>\n",
              "      <td>0.021536</td>\n",
              "      <td>-0.026247</td>\n",
              "      <td>0.000339</td>\n",
              "      <td>0.018890</td>\n",
              "      <td>-0.008119</td>\n",
              "    </tr>\n",
              "    <tr>\n",
              "      <th>p3</th>\n",
              "      <td>0.008914</td>\n",
              "      <td>-0.006389</td>\n",
              "      <td>0.016204</td>\n",
              "      <td>0.002514</td>\n",
              "      <td>1.000000</td>\n",
              "      <td>0.013315</td>\n",
              "      <td>0.000929</td>\n",
              "      <td>-0.012074</td>\n",
              "      <td>-0.002953</td>\n",
              "      <td>-0.006246</td>\n",
              "      <td>0.002483</td>\n",
              "    </tr>\n",
              "    <tr>\n",
              "      <th>p4</th>\n",
              "      <td>-0.011734</td>\n",
              "      <td>-0.016142</td>\n",
              "      <td>-0.010080</td>\n",
              "      <td>-0.003430</td>\n",
              "      <td>0.013315</td>\n",
              "      <td>1.000000</td>\n",
              "      <td>-0.013694</td>\n",
              "      <td>-0.007990</td>\n",
              "      <td>0.000052</td>\n",
              "      <td>0.018373</td>\n",
              "      <td>0.037901</td>\n",
              "    </tr>\n",
              "    <tr>\n",
              "      <th>g1</th>\n",
              "      <td>-0.007413</td>\n",
              "      <td>0.001329</td>\n",
              "      <td>-0.013931</td>\n",
              "      <td>0.021536</td>\n",
              "      <td>0.000929</td>\n",
              "      <td>-0.013694</td>\n",
              "      <td>1.000000</td>\n",
              "      <td>0.005393</td>\n",
              "      <td>-0.009658</td>\n",
              "      <td>0.007221</td>\n",
              "      <td>-0.197329</td>\n",
              "    </tr>\n",
              "    <tr>\n",
              "      <th>g2</th>\n",
              "      <td>0.017506</td>\n",
              "      <td>0.008139</td>\n",
              "      <td>0.011775</td>\n",
              "      <td>-0.026247</td>\n",
              "      <td>-0.012074</td>\n",
              "      <td>-0.007990</td>\n",
              "      <td>0.005393</td>\n",
              "      <td>1.000000</td>\n",
              "      <td>-0.022642</td>\n",
              "      <td>-0.020621</td>\n",
              "      <td>-0.216758</td>\n",
              "    </tr>\n",
              "    <tr>\n",
              "      <th>g3</th>\n",
              "      <td>0.028040</td>\n",
              "      <td>-0.009687</td>\n",
              "      <td>0.005236</td>\n",
              "      <td>0.000339</td>\n",
              "      <td>-0.002953</td>\n",
              "      <td>0.000052</td>\n",
              "      <td>-0.009658</td>\n",
              "      <td>-0.022642</td>\n",
              "      <td>1.000000</td>\n",
              "      <td>0.006945</td>\n",
              "      <td>-0.231643</td>\n",
              "    </tr>\n",
              "    <tr>\n",
              "      <th>g4</th>\n",
              "      <td>-0.005822</td>\n",
              "      <td>0.006779</td>\n",
              "      <td>-0.003716</td>\n",
              "      <td>0.018890</td>\n",
              "      <td>-0.006246</td>\n",
              "      <td>0.018373</td>\n",
              "      <td>0.007221</td>\n",
              "      <td>-0.020621</td>\n",
              "      <td>0.006945</td>\n",
              "      <td>1.000000</td>\n",
              "      <td>-0.198284</td>\n",
              "    </tr>\n",
              "    <tr>\n",
              "      <th>stabf</th>\n",
              "      <td>-0.246724</td>\n",
              "      <td>-0.206812</td>\n",
              "      <td>-0.236687</td>\n",
              "      <td>-0.008119</td>\n",
              "      <td>0.002483</td>\n",
              "      <td>0.037901</td>\n",
              "      <td>-0.197329</td>\n",
              "      <td>-0.216758</td>\n",
              "      <td>-0.231643</td>\n",
              "      <td>-0.198284</td>\n",
              "      <td>1.000000</td>\n",
              "    </tr>\n",
              "  </tbody>\n",
              "</table>\n",
              "</div>\n",
              "    <div class=\"colab-df-buttons\">\n",
              "\n",
              "  <div class=\"colab-df-container\">\n",
              "    <button class=\"colab-df-convert\" onclick=\"convertToInteractive('df-8793dcfe-480f-41eb-b49d-e42b10cf84c4')\"\n",
              "            title=\"Convert this dataframe to an interactive table.\"\n",
              "            style=\"display:none;\">\n",
              "\n",
              "  <svg xmlns=\"http://www.w3.org/2000/svg\" height=\"24px\" viewBox=\"0 -960 960 960\">\n",
              "    <path d=\"M120-120v-720h720v720H120Zm60-500h600v-160H180v160Zm220 220h160v-160H400v160Zm0 220h160v-160H400v160ZM180-400h160v-160H180v160Zm440 0h160v-160H620v160ZM180-180h160v-160H180v160Zm440 0h160v-160H620v160Z\"/>\n",
              "  </svg>\n",
              "    </button>\n",
              "\n",
              "  <style>\n",
              "    .colab-df-container {\n",
              "      display:flex;\n",
              "      gap: 12px;\n",
              "    }\n",
              "\n",
              "    .colab-df-convert {\n",
              "      background-color: #E8F0FE;\n",
              "      border: none;\n",
              "      border-radius: 50%;\n",
              "      cursor: pointer;\n",
              "      display: none;\n",
              "      fill: #1967D2;\n",
              "      height: 32px;\n",
              "      padding: 0 0 0 0;\n",
              "      width: 32px;\n",
              "    }\n",
              "\n",
              "    .colab-df-convert:hover {\n",
              "      background-color: #E2EBFA;\n",
              "      box-shadow: 0px 1px 2px rgba(60, 64, 67, 0.3), 0px 1px 3px 1px rgba(60, 64, 67, 0.15);\n",
              "      fill: #174EA6;\n",
              "    }\n",
              "\n",
              "    .colab-df-buttons div {\n",
              "      margin-bottom: 4px;\n",
              "    }\n",
              "\n",
              "    [theme=dark] .colab-df-convert {\n",
              "      background-color: #3B4455;\n",
              "      fill: #D2E3FC;\n",
              "    }\n",
              "\n",
              "    [theme=dark] .colab-df-convert:hover {\n",
              "      background-color: #434B5C;\n",
              "      box-shadow: 0px 1px 3px 1px rgba(0, 0, 0, 0.15);\n",
              "      filter: drop-shadow(0px 1px 2px rgba(0, 0, 0, 0.3));\n",
              "      fill: #FFFFFF;\n",
              "    }\n",
              "  </style>\n",
              "\n",
              "    <script>\n",
              "      const buttonEl =\n",
              "        document.querySelector('#df-8793dcfe-480f-41eb-b49d-e42b10cf84c4 button.colab-df-convert');\n",
              "      buttonEl.style.display =\n",
              "        google.colab.kernel.accessAllowed ? 'block' : 'none';\n",
              "\n",
              "      async function convertToInteractive(key) {\n",
              "        const element = document.querySelector('#df-8793dcfe-480f-41eb-b49d-e42b10cf84c4');\n",
              "        const dataTable =\n",
              "          await google.colab.kernel.invokeFunction('convertToInteractive',\n",
              "                                                    [key], {});\n",
              "        if (!dataTable) return;\n",
              "\n",
              "        const docLinkHtml = 'Like what you see? Visit the ' +\n",
              "          '<a target=\"_blank\" href=https://colab.research.google.com/notebooks/data_table.ipynb>data table notebook</a>'\n",
              "          + ' to learn more about interactive tables.';\n",
              "        element.innerHTML = '';\n",
              "        dataTable['output_type'] = 'display_data';\n",
              "        await google.colab.output.renderOutput(dataTable, element);\n",
              "        const docLink = document.createElement('div');\n",
              "        docLink.innerHTML = docLinkHtml;\n",
              "        element.appendChild(docLink);\n",
              "      }\n",
              "    </script>\n",
              "  </div>\n",
              "\n",
              "\n",
              "<div id=\"df-f39ada33-3637-4fa7-a48c-d14b8ec9eef5\">\n",
              "  <button class=\"colab-df-quickchart\" onclick=\"quickchart('df-f39ada33-3637-4fa7-a48c-d14b8ec9eef5')\"\n",
              "            title=\"Suggest charts\"\n",
              "            style=\"display:none;\">\n",
              "\n",
              "<svg xmlns=\"http://www.w3.org/2000/svg\" height=\"24px\"viewBox=\"0 0 24 24\"\n",
              "     width=\"24px\">\n",
              "    <g>\n",
              "        <path d=\"M19 3H5c-1.1 0-2 .9-2 2v14c0 1.1.9 2 2 2h14c1.1 0 2-.9 2-2V5c0-1.1-.9-2-2-2zM9 17H7v-7h2v7zm4 0h-2V7h2v10zm4 0h-2v-4h2v4z\"/>\n",
              "    </g>\n",
              "</svg>\n",
              "  </button>\n",
              "\n",
              "<style>\n",
              "  .colab-df-quickchart {\n",
              "      --bg-color: #E8F0FE;\n",
              "      --fill-color: #1967D2;\n",
              "      --hover-bg-color: #E2EBFA;\n",
              "      --hover-fill-color: #174EA6;\n",
              "      --disabled-fill-color: #AAA;\n",
              "      --disabled-bg-color: #DDD;\n",
              "  }\n",
              "\n",
              "  [theme=dark] .colab-df-quickchart {\n",
              "      --bg-color: #3B4455;\n",
              "      --fill-color: #D2E3FC;\n",
              "      --hover-bg-color: #434B5C;\n",
              "      --hover-fill-color: #FFFFFF;\n",
              "      --disabled-bg-color: #3B4455;\n",
              "      --disabled-fill-color: #666;\n",
              "  }\n",
              "\n",
              "  .colab-df-quickchart {\n",
              "    background-color: var(--bg-color);\n",
              "    border: none;\n",
              "    border-radius: 50%;\n",
              "    cursor: pointer;\n",
              "    display: none;\n",
              "    fill: var(--fill-color);\n",
              "    height: 32px;\n",
              "    padding: 0;\n",
              "    width: 32px;\n",
              "  }\n",
              "\n",
              "  .colab-df-quickchart:hover {\n",
              "    background-color: var(--hover-bg-color);\n",
              "    box-shadow: 0 1px 2px rgba(60, 64, 67, 0.3), 0 1px 3px 1px rgba(60, 64, 67, 0.15);\n",
              "    fill: var(--button-hover-fill-color);\n",
              "  }\n",
              "\n",
              "  .colab-df-quickchart-complete:disabled,\n",
              "  .colab-df-quickchart-complete:disabled:hover {\n",
              "    background-color: var(--disabled-bg-color);\n",
              "    fill: var(--disabled-fill-color);\n",
              "    box-shadow: none;\n",
              "  }\n",
              "\n",
              "  .colab-df-spinner {\n",
              "    border: 2px solid var(--fill-color);\n",
              "    border-color: transparent;\n",
              "    border-bottom-color: var(--fill-color);\n",
              "    animation:\n",
              "      spin 1s steps(1) infinite;\n",
              "  }\n",
              "\n",
              "  @keyframes spin {\n",
              "    0% {\n",
              "      border-color: transparent;\n",
              "      border-bottom-color: var(--fill-color);\n",
              "      border-left-color: var(--fill-color);\n",
              "    }\n",
              "    20% {\n",
              "      border-color: transparent;\n",
              "      border-left-color: var(--fill-color);\n",
              "      border-top-color: var(--fill-color);\n",
              "    }\n",
              "    30% {\n",
              "      border-color: transparent;\n",
              "      border-left-color: var(--fill-color);\n",
              "      border-top-color: var(--fill-color);\n",
              "      border-right-color: var(--fill-color);\n",
              "    }\n",
              "    40% {\n",
              "      border-color: transparent;\n",
              "      border-right-color: var(--fill-color);\n",
              "      border-top-color: var(--fill-color);\n",
              "    }\n",
              "    60% {\n",
              "      border-color: transparent;\n",
              "      border-right-color: var(--fill-color);\n",
              "    }\n",
              "    80% {\n",
              "      border-color: transparent;\n",
              "      border-right-color: var(--fill-color);\n",
              "      border-bottom-color: var(--fill-color);\n",
              "    }\n",
              "    90% {\n",
              "      border-color: transparent;\n",
              "      border-bottom-color: var(--fill-color);\n",
              "    }\n",
              "  }\n",
              "</style>\n",
              "\n",
              "  <script>\n",
              "    async function quickchart(key) {\n",
              "      const quickchartButtonEl =\n",
              "        document.querySelector('#' + key + ' button');\n",
              "      quickchartButtonEl.disabled = true;  // To prevent multiple clicks.\n",
              "      quickchartButtonEl.classList.add('colab-df-spinner');\n",
              "      try {\n",
              "        const charts = await google.colab.kernel.invokeFunction(\n",
              "            'suggestCharts', [key], {});\n",
              "      } catch (error) {\n",
              "        console.error('Error during call to suggestCharts:', error);\n",
              "      }\n",
              "      quickchartButtonEl.classList.remove('colab-df-spinner');\n",
              "      quickchartButtonEl.classList.add('colab-df-quickchart-complete');\n",
              "    }\n",
              "    (() => {\n",
              "      let quickchartButtonEl =\n",
              "        document.querySelector('#df-f39ada33-3637-4fa7-a48c-d14b8ec9eef5 button');\n",
              "      quickchartButtonEl.style.display =\n",
              "        google.colab.kernel.accessAllowed ? 'block' : 'none';\n",
              "    })();\n",
              "  </script>\n",
              "</div>\n",
              "    </div>\n",
              "  </div>\n"
            ],
            "application/vnd.google.colaboratory.intrinsic+json": {
              "type": "dataframe",
              "summary": "{\n  \"name\": \"train_data\",\n  \"rows\": 11,\n  \"fields\": [\n    {\n      \"column\": \"tau2\",\n      \"properties\": {\n        \"dtype\": \"number\",\n        \"std\": 0.3167598557632808,\n        \"min\": -0.246724155050351,\n        \"max\": 1.0,\n        \"num_unique_values\": 11,\n        \"samples\": [\n          -0.011734325227379891,\n          1.0,\n          -0.005821501593970438\n        ],\n        \"semantic_type\": \"\",\n        \"description\": \"\"\n      }\n    },\n    {\n      \"column\": \"tau3\",\n      \"properties\": {\n        \"dtype\": \"number\",\n        \"std\": 0.3149424333170871,\n        \"min\": -0.2068121152367998,\n        \"max\": 1.0,\n        \"num_unique_values\": 11,\n        \"samples\": [\n          -0.016142358663355397,\n          0.021615943996784844,\n          0.006779165181720083\n        ],\n        \"semantic_type\": \"\",\n        \"description\": \"\"\n      }\n    },\n    {\n      \"column\": \"tau4\",\n      \"properties\": {\n        \"dtype\": \"number\",\n        \"std\": 0.31694952668269266,\n        \"min\": -0.236686948976199,\n        \"max\": 1.0,\n        \"num_unique_values\": 11,\n        \"samples\": [\n          -0.010079607964207989,\n          -0.0056468104236427705,\n          -0.0037156434158737836\n        ],\n        \"semantic_type\": \"\",\n        \"description\": \"\"\n      }\n    },\n    {\n      \"column\": \"p2\",\n      \"properties\": {\n        \"dtype\": \"number\",\n        \"std\": 0.30182138776830575,\n        \"min\": -0.026246844831236422,\n        \"max\": 1.0,\n        \"num_unique_values\": 11,\n        \"samples\": [\n          -0.0034303029409050727,\n          0.010339517970356977,\n          0.018890497571445515\n        ],\n        \"semantic_type\": \"\",\n        \"description\": \"\"\n      }\n    },\n    {\n      \"column\": \"p3\",\n      \"properties\": {\n        \"dtype\": \"number\",\n        \"std\": 0.3011306672827047,\n        \"min\": -0.01207384056173708,\n        \"max\": 1.0,\n        \"num_unique_values\": 11,\n        \"samples\": [\n          0.013314690061029354,\n          0.008913893275487172,\n          -0.006245731847204411\n        ],\n        \"semantic_type\": \"\",\n        \"description\": \"\"\n      }\n    },\n    {\n      \"column\": \"p4\",\n      \"properties\": {\n        \"dtype\": \"number\",\n        \"std\": 0.30176260858922055,\n        \"min\": -0.016142358663355397,\n        \"max\": 1.0,\n        \"num_unique_values\": 11,\n        \"samples\": [\n          1.0,\n          -0.011734325227379891,\n          0.018373032888234466\n        ],\n        \"semantic_type\": \"\",\n        \"description\": \"\"\n      }\n    },\n    {\n      \"column\": \"g1\",\n      \"properties\": {\n        \"dtype\": \"number\",\n        \"std\": 0.31347222909566796,\n        \"min\": -0.19732898898299447,\n        \"max\": 1.0,\n        \"num_unique_values\": 11,\n        \"samples\": [\n          -0.013693520822972871,\n          -0.0074126463676515465,\n          0.007220794275535273\n        ],\n        \"semantic_type\": \"\",\n        \"description\": \"\"\n      }\n    },\n    {\n      \"column\": \"g2\",\n      \"properties\": {\n        \"dtype\": \"number\",\n        \"std\": 0.31623590948701896,\n        \"min\": -0.2167584550633628,\n        \"max\": 1.0,\n        \"num_unique_values\": 11,\n        \"samples\": [\n          -0.007990028544904248,\n          0.017506305082962435,\n          -0.020621025044388123\n        ],\n        \"semantic_type\": \"\",\n        \"description\": \"\"\n      }\n    },\n    {\n      \"column\": \"g3\",\n      \"properties\": {\n        \"dtype\": \"number\",\n        \"std\": 0.3165693317042016,\n        \"min\": -0.23164271098344455,\n        \"max\": 1.0,\n        \"num_unique_values\": 11,\n        \"samples\": [\n          5.163550827754063e-05,\n          0.028040046423530623,\n          0.006944846744207853\n        ],\n        \"semantic_type\": \"\",\n        \"description\": \"\"\n      }\n    },\n    {\n      \"column\": \"g4\",\n      \"properties\": {\n        \"dtype\": \"number\",\n        \"std\": 0.3128923200475876,\n        \"min\": -0.19828414681708542,\n        \"max\": 1.0,\n        \"num_unique_values\": 11,\n        \"samples\": [\n          0.018373032888234466,\n          -0.005821501593970438,\n          1.0\n        ],\n        \"semantic_type\": \"\",\n        \"description\": \"\"\n      }\n    },\n    {\n      \"column\": \"stabf\",\n      \"properties\": {\n        \"dtype\": \"number\",\n        \"std\": 0.36292758889111276,\n        \"min\": -0.246724155050351,\n        \"max\": 1.0,\n        \"num_unique_values\": 11,\n        \"samples\": [\n          0.037901068667656974,\n          -0.246724155050351,\n          -0.19828414681708542\n        ],\n        \"semantic_type\": \"\",\n        \"description\": \"\"\n      }\n    }\n  ]\n}"
            }
          },
          "metadata": {},
          "execution_count": 488
        }
      ],
      "source": [
        "# Determine positive and negative correlations (1 being a perfect correlation, 0 no correlation, -1 a perfect negative correlation)\n",
        "train_data.corr()"
      ]
    },
    {
      "cell_type": "code",
      "execution_count": null,
      "metadata": {
        "colab": {
          "base_uri": "https://localhost:8080/",
          "height": 546
        },
        "id": "zEfEcRkr3V-x",
        "outputId": "53bef99f-5244-4ce5-9e11-2f8d5893fc7f"
      },
      "outputs": [
        {
          "output_type": "execute_result",
          "data": {
            "text/plain": [
              "<Axes: >"
            ]
          },
          "metadata": {},
          "execution_count": 489
        },
        {
          "output_type": "display_data",
          "data": {
            "text/plain": [
              "<Figure size 1200x600 with 2 Axes>"
            ],
            "image/png": "[encoded data removed]"
          },
          "metadata": {}
        }
      ],
      "source": [
        "# Create a heatmap in order to visualize the correlation matrix of the train_data DataFrame\n",
        "plt.figure(figsize=(12, 6))\n",
        "sns.heatmap(train_data.corr(), cmap='coolwarm', annot=True)"
      ]
    },
    {
      "cell_type": "markdown",
      "metadata": {
        "id": "ij7indxKF1BZ"
      },
      "source": [
        "Variables with a strong correlation have been deleted. After deletion, only a few values are left with a weak negative correlation, which we must not consider. As a consequence, most present variables can be considered independent from each other.\n",
        "The values the furthest away from 0 are features correlating with stabf, which is being deleted in the next step since it is the value we want to predict."
      ]
    },
    {
      "cell_type": "markdown",
      "metadata": {
        "id": "v4Kx0rrK5Vd3"
      },
      "source": [
        "# Model and Hyperparameter\n"
      ]
    },
    {
      "cell_type": "code",
      "execution_count": null,
      "metadata": {
        "id": "mtme4RWS5aeS"
      },
      "outputs": [],
      "source": [
        "# Seperate the features (X) from the target variable (y) in the DataFrame\n",
        "X = train_data.drop('stabf', axis=1)\n",
        "y = train_data.stabf"
      ]
    },
    {
      "cell_type": "markdown",
      "source": [
        "# 1. Naive Bayes classifier"
      ],
      "metadata": {
        "id": "nBkq1pqfczaZ"
      }
    },
    {
      "cell_type": "markdown",
      "source": [
        "The Naive Bayes classifier is a simple yet powerful probabilistic algorithm used for classification tasks. Despite its simplicity and the \"naive\" assumption of independent features, Naive Bayes often performs remarkably well, especially with large datasets and when the independence assumption holds reasonably well."
      ],
      "metadata": {
        "id": "-OdKeNaw-Mae"
      }
    },
    {
      "cell_type": "code",
      "execution_count": null,
      "metadata": {
        "id": "fNPZYDUZJFcR"
      },
      "outputs": [],
      "source": [
        "# Importing necessary libraries\n",
        "from sklearn.metrics import cohen_kappa_score, make_scorer\n",
        "from sklearn.naive_bayes import GaussianNB"
      ]
    },
    {
      "cell_type": "code",
      "execution_count": null,
      "metadata": {
        "colab": {
          "base_uri": "https://localhost:8080/",
          "height": 135
        },
        "id": "SqmqReKcRwFL",
        "outputId": "dde7efdc-5523-4c66-c5da-a0c16ca34c89"
      },
      "outputs": [
        {
          "output_type": "stream",
          "name": "stdout",
          "text": [
            "Fitting 5 folds for each of 3 candidates, totalling 15 fits\n"
          ]
        },
        {
          "output_type": "execute_result",
          "data": {
            "text/plain": [
              "GridSearchCV(cv=5, estimator=GaussianNB(), n_jobs=-1,\n",
              "             param_grid={'var_smoothing': [1e-07, 1e-06, 1e-05]}, verbose=2)"
            ],
            "text/html": [
              "<style>#sk-container-id-75 {color: black;background-color: white;}#sk-container-id-75 pre{padding: 0;}#sk-container-id-75 div.sk-toggleable {background-color: white;}#sk-container-id-75 label.sk-toggleable__label {cursor: pointer;display: block;width: 100%;margin-bottom: 0;padding: 0.3em;box-sizing: border-box;text-align: center;}#sk-container-id-75 label.sk-toggleable__label-arrow:before {content: \"▸\";float: left;margin-right: 0.25em;color: #696969;}#sk-container-id-75 label.sk-toggleable__label-arrow:hover:before {color: black;}#sk-container-id-75 div.sk-estimator:hover label.sk-toggleable__label-arrow:before {color: black;}#sk-container-id-75 div.sk-toggleable__content {max-height: 0;max-width: 0;overflow: hidden;text-align: left;background-color: #f0f8ff;}#sk-container-id-75 div.sk-toggleable__content pre {margin: 0.2em;color: black;border-radius: 0.25em;background-color: #f0f8ff;}#sk-container-id-75 input.sk-toggleable__control:checked~div.sk-toggleable__content {max-height: 200px;max-width: 100%;overflow: auto;}#sk-container-id-75 input.sk-toggleable__control:checked~label.sk-toggleable__label-arrow:before {content: \"▾\";}#sk-container-id-75 div.sk-estimator input.sk-toggleable__control:checked~label.sk-toggleable__label {background-color: #d4ebff;}#sk-container-id-75 div.sk-label input.sk-toggleable__control:checked~label.sk-toggleable__label {background-color: #d4ebff;}#sk-container-id-75 input.sk-hidden--visually {border: 0;clip: rect(1px 1px 1px 1px);clip: rect(1px, 1px, 1px, 1px);height: 1px;margin: -1px;overflow: hidden;padding: 0;position: absolute;width: 1px;}#sk-container-id-75 div.sk-estimator {font-family: monospace;background-color: #f0f8ff;border: 1px dotted black;border-radius: 0.25em;box-sizing: border-box;margin-bottom: 0.5em;}#sk-container-id-75 div.sk-estimator:hover {background-color: #d4ebff;}#sk-container-id-75 div.sk-parallel-item::after {content: \"\";width: 100%;border-bottom: 1px solid gray;flex-grow: 1;}#sk-container-id-75 div.sk-label:hover label.sk-toggleable__label {background-color: #d4ebff;}#sk-container-id-75 div.sk-serial::before {content: \"\";position: absolute;border-left: 1px solid gray;box-sizing: border-box;top: 0;bottom: 0;left: 50%;z-index: 0;}#sk-container-id-75 div.sk-serial {display: flex;flex-direction: column;align-items: center;background-color: white;padding-right: 0.2em;padding-left: 0.2em;position: relative;}#sk-container-id-75 div.sk-item {position: relative;z-index: 1;}#sk-container-id-75 div.sk-parallel {display: flex;align-items: stretch;justify-content: center;background-color: white;position: relative;}#sk-container-id-75 div.sk-item::before, #sk-container-id-75 div.sk-parallel-item::before {content: \"\";position: absolute;border-left: 1px solid gray;box-sizing: border-box;top: 0;bottom: 0;left: 50%;z-index: -1;}#sk-container-id-75 div.sk-parallel-item {display: flex;flex-direction: column;z-index: 1;position: relative;background-color: white;}#sk-container-id-75 div.sk-parallel-item:first-child::after {align-self: flex-end;width: 50%;}#sk-container-id-75 div.sk-parallel-item:last-child::after {align-self: flex-start;width: 50%;}#sk-container-id-75 div.sk-parallel-item:only-child::after {width: 0;}#sk-container-id-75 div.sk-dashed-wrapped {border: 1px dashed gray;margin: 0 0.4em 0.5em 0.4em;box-sizing: border-box;padding-bottom: 0.4em;background-color: white;}#sk-container-id-75 div.sk-label label {font-family: monospace;font-weight: bold;display: inline-block;line-height: 1.2em;}#sk-container-id-75 div.sk-label-container {text-align: center;}#sk-container-id-75 div.sk-container {/* jupyter's `normalize.less` sets `[hidden] { display: none; }` but bootstrap.min.css set `[hidden] { display: none !important; }` so we also need the `!important` here to be able to override the default hidden behavior on the sphinx rendered scikit-learn.org. See: https://github.com/scikit-learn/scikit-learn/issues/21755 */display: inline-block !important;position: relative;}#sk-container-id-75 div.sk-text-repr-fallback {display: none;}</style><div id=\"sk-container-id-75\" class=\"sk-top-container\"><div class=\"sk-text-repr-fallback\"><pre>GridSearchCV(cv=5, estimator=GaussianNB(), n_jobs=-1,\n",
              "             param_grid={&#x27;var_smoothing&#x27;: [1e-07, 1e-06, 1e-05]}, verbose=2)</pre><b>In a Jupyter environment, please rerun this cell to show the HTML representation or trust the notebook. <br />On GitHub, the HTML representation is unable to render, please try loading this page with nbviewer.org.</b></div><div class=\"sk-container\" hidden><div class=\"sk-item sk-dashed-wrapped\"><div class=\"sk-label-container\"><div class=\"sk-label sk-toggleable\"><input class=\"sk-toggleable__control sk-hidden--visually\" id=\"sk-estimator-id-149\" type=\"checkbox\" ><label for=\"sk-estimator-id-149\" class=\"sk-toggleable__label sk-toggleable__label-arrow\">GridSearchCV</label><div class=\"sk-toggleable__content\"><pre>GridSearchCV(cv=5, estimator=GaussianNB(), n_jobs=-1,\n",
              "             param_grid={&#x27;var_smoothing&#x27;: [1e-07, 1e-06, 1e-05]}, verbose=2)</pre></div></div></div><div class=\"sk-parallel\"><div class=\"sk-parallel-item\"><div class=\"sk-item\"><div class=\"sk-label-container\"><div class=\"sk-label sk-toggleable\"><input class=\"sk-toggleable__control sk-hidden--visually\" id=\"sk-estimator-id-150\" type=\"checkbox\" ><label for=\"sk-estimator-id-150\" class=\"sk-toggleable__label sk-toggleable__label-arrow\">estimator: GaussianNB</label><div class=\"sk-toggleable__content\"><pre>GaussianNB()</pre></div></div></div><div class=\"sk-serial\"><div class=\"sk-item\"><div class=\"sk-estimator sk-toggleable\"><input class=\"sk-toggleable__control sk-hidden--visually\" id=\"sk-estimator-id-151\" type=\"checkbox\" ><label for=\"sk-estimator-id-151\" class=\"sk-toggleable__label sk-toggleable__label-arrow\">GaussianNB</label><div class=\"sk-toggleable__content\"><pre>GaussianNB()</pre></div></div></div></div></div></div></div></div></div></div>"
            ]
          },
          "metadata": {},
          "execution_count": 492
        }
      ],
      "source": [
        "# Defining the parameter grid for Gaussian Naive Bayes\n",
        "params_gnb = {\n",
        "    'var_smoothing': [1e-7, 1e-6, 1e-5],  # Variance smoothing parameter\n",
        "}\n",
        "\n",
        "# Instantiating Gaussian Naive Bayes\n",
        "gnb = GaussianNB()\n",
        "\n",
        "# Instantiating GridSearchCV\n",
        "model_grid = GridSearchCV(gnb, param_grid = params_gnb, cv=5, verbose=2, n_jobs=-1)\n",
        "\n",
        "# Fitting GridSearchCV to find the best hyperparameters\n",
        "model_grid.fit(X, y)"
      ]
    },
    {
      "cell_type": "code",
      "execution_count": null,
      "metadata": {
        "colab": {
          "base_uri": "https://localhost:8080/"
        },
        "id": "g6hXkUYRVz64",
        "outputId": "5924152f-4140-4bc7-b58a-dd6c069096eb"
      },
      "outputs": [
        {
          "output_type": "execute_result",
          "data": {
            "text/plain": [
              "{'var_smoothing': 1e-07}"
            ]
          },
          "metadata": {},
          "execution_count": 493
        }
      ],
      "source": [
        "# Accessing the best hyperparameters found by the GridSearchCV for Naive Bayes\n",
        "model_grid.best_params_"
      ]
    },
    {
      "cell_type": "code",
      "execution_count": null,
      "metadata": {
        "colab": {
          "base_uri": "https://localhost:8080/",
          "height": 74
        },
        "id": "MJr0fHtXWR-O",
        "outputId": "4c641e59-0f70-4a95-e7ed-2bcc26b26f52"
      },
      "outputs": [
        {
          "output_type": "execute_result",
          "data": {
            "text/plain": [
              "GaussianNB(var_smoothing=1e-07)"
            ],
            "text/html": [
              "<style>#sk-container-id-76 {color: black;background-color: white;}#sk-container-id-76 pre{padding: 0;}#sk-container-id-76 div.sk-toggleable {background-color: white;}#sk-container-id-76 label.sk-toggleable__label {cursor: pointer;display: block;width: 100%;margin-bottom: 0;padding: 0.3em;box-sizing: border-box;text-align: center;}#sk-container-id-76 label.sk-toggleable__label-arrow:before {content: \"▸\";float: left;margin-right: 0.25em;color: #696969;}#sk-container-id-76 label.sk-toggleable__label-arrow:hover:before {color: black;}#sk-container-id-76 div.sk-estimator:hover label.sk-toggleable__label-arrow:before {color: black;}#sk-container-id-76 div.sk-toggleable__content {max-height: 0;max-width: 0;overflow: hidden;text-align: left;background-color: #f0f8ff;}#sk-container-id-76 div.sk-toggleable__content pre {margin: 0.2em;color: black;border-radius: 0.25em;background-color: #f0f8ff;}#sk-container-id-76 input.sk-toggleable__control:checked~div.sk-toggleable__content {max-height: 200px;max-width: 100%;overflow: auto;}#sk-container-id-76 input.sk-toggleable__control:checked~label.sk-toggleable__label-arrow:before {content: \"▾\";}#sk-container-id-76 div.sk-estimator input.sk-toggleable__control:checked~label.sk-toggleable__label {background-color: #d4ebff;}#sk-container-id-76 div.sk-label input.sk-toggleable__control:checked~label.sk-toggleable__label {background-color: #d4ebff;}#sk-container-id-76 input.sk-hidden--visually {border: 0;clip: rect(1px 1px 1px 1px);clip: rect(1px, 1px, 1px, 1px);height: 1px;margin: -1px;overflow: hidden;padding: 0;position: absolute;width: 1px;}#sk-container-id-76 div.sk-estimator {font-family: monospace;background-color: #f0f8ff;border: 1px dotted black;border-radius: 0.25em;box-sizing: border-box;margin-bottom: 0.5em;}#sk-container-id-76 div.sk-estimator:hover {background-color: #d4ebff;}#sk-container-id-76 div.sk-parallel-item::after {content: \"\";width: 100%;border-bottom: 1px solid gray;flex-grow: 1;}#sk-container-id-76 div.sk-label:hover label.sk-toggleable__label {background-color: #d4ebff;}#sk-container-id-76 div.sk-serial::before {content: \"\";position: absolute;border-left: 1px solid gray;box-sizing: border-box;top: 0;bottom: 0;left: 50%;z-index: 0;}#sk-container-id-76 div.sk-serial {display: flex;flex-direction: column;align-items: center;background-color: white;padding-right: 0.2em;padding-left: 0.2em;position: relative;}#sk-container-id-76 div.sk-item {position: relative;z-index: 1;}#sk-container-id-76 div.sk-parallel {display: flex;align-items: stretch;justify-content: center;background-color: white;position: relative;}#sk-container-id-76 div.sk-item::before, #sk-container-id-76 div.sk-parallel-item::before {content: \"\";position: absolute;border-left: 1px solid gray;box-sizing: border-box;top: 0;bottom: 0;left: 50%;z-index: -1;}#sk-container-id-76 div.sk-parallel-item {display: flex;flex-direction: column;z-index: 1;position: relative;background-color: white;}#sk-container-id-76 div.sk-parallel-item:first-child::after {align-self: flex-end;width: 50%;}#sk-container-id-76 div.sk-parallel-item:last-child::after {align-self: flex-start;width: 50%;}#sk-container-id-76 div.sk-parallel-item:only-child::after {width: 0;}#sk-container-id-76 div.sk-dashed-wrapped {border: 1px dashed gray;margin: 0 0.4em 0.5em 0.4em;box-sizing: border-box;padding-bottom: 0.4em;background-color: white;}#sk-container-id-76 div.sk-label label {font-family: monospace;font-weight: bold;display: inline-block;line-height: 1.2em;}#sk-container-id-76 div.sk-label-container {text-align: center;}#sk-container-id-76 div.sk-container {/* jupyter's `normalize.less` sets `[hidden] { display: none; }` but bootstrap.min.css set `[hidden] { display: none !important; }` so we also need the `!important` here to be able to override the default hidden behavior on the sphinx rendered scikit-learn.org. See: https://github.com/scikit-learn/scikit-learn/issues/21755 */display: inline-block !important;position: relative;}#sk-container-id-76 div.sk-text-repr-fallback {display: none;}</style><div id=\"sk-container-id-76\" class=\"sk-top-container\"><div class=\"sk-text-repr-fallback\"><pre>GaussianNB(var_smoothing=1e-07)</pre><b>In a Jupyter environment, please rerun this cell to show the HTML representation or trust the notebook. <br />On GitHub, the HTML representation is unable to render, please try loading this page with nbviewer.org.</b></div><div class=\"sk-container\" hidden><div class=\"sk-item\"><div class=\"sk-estimator sk-toggleable\"><input class=\"sk-toggleable__control sk-hidden--visually\" id=\"sk-estimator-id-152\" type=\"checkbox\" checked><label for=\"sk-estimator-id-152\" class=\"sk-toggleable__label sk-toggleable__label-arrow\">GaussianNB</label><div class=\"sk-toggleable__content\"><pre>GaussianNB(var_smoothing=1e-07)</pre></div></div></div></div></div>"
            ]
          },
          "metadata": {},
          "execution_count": 494
        }
      ],
      "source": [
        "# Model configuration that yielded the highest performance based on the evaluation metric & cross-validation\n",
        "model_grid.best_estimator_"
      ]
    },
    {
      "cell_type": "code",
      "execution_count": null,
      "metadata": {
        "colab": {
          "base_uri": "https://localhost:8080/"
        },
        "id": "MbokfRkKWZSi",
        "outputId": "e30976b7-40cb-4b5a-d77e-c46b558101de"
      },
      "outputs": [
        {
          "output_type": "execute_result",
          "data": {
            "text/plain": [
              "0.8025333333333332"
            ]
          },
          "metadata": {},
          "execution_count": 495
        }
      ],
      "source": [
        "#  Mean cross-validated score of the best model configuration\n",
        "model_grid.best_score_"
      ]
    },
    {
      "cell_type": "code",
      "execution_count": null,
      "metadata": {
        "colab": {
          "base_uri": "https://localhost:8080/"
        },
        "id": "umg7NRmtYwo7",
        "outputId": "0e309714-6138-4a2c-fd92-a48cb92afde9"
      },
      "outputs": [
        {
          "output_type": "stream",
          "name": "stdout",
          "text": [
            "Prediction with whole training set\n",
            "Accuracy is 0.8036\n",
            "F1 score is 0.6931889189752135\n",
            "Recall is 0.6140221402214022\n",
            "Precision is 0.795791487326638\n"
          ]
        }
      ],
      "source": [
        "# Predicting the target variable using the trained model on the entire training set\n",
        "y_pred = model_grid.predict(X)\n",
        "\n",
        "# Print prediction results\n",
        "print('Prediction with whole training set')\n",
        "print(f'Accuracy is {accuracy_score(y, y_pred)}')\n",
        "print(f'F1 score is {f1_score(y, y_pred)}')\n",
        "print(f'Recall is {recall_score(y, y_pred)}')\n",
        "print(f'Precision is {precision_score(y, y_pred)}')"
      ]
    },
    {
      "cell_type": "markdown",
      "metadata": {
        "id": "nN_QiaXkVVZp"
      },
      "source": [
        "# 2. Random Forest"
      ]
    },
    {
      "cell_type": "markdown",
      "source": [
        "Random Forest is a versatile learning algorithm used for classification tasks. It operates by constructing many decision trees during training and it outputs the mode of the classes of the individual trees.\n",
        "The benefits of Random Forest are robustness to noisy data, ability to manage high-dimensional fesature spaces and resistance to overfitting."
      ],
      "metadata": {
        "id": "m76FtK73-ywQ"
      }
    },
    {
      "cell_type": "code",
      "execution_count": null,
      "metadata": {
        "colab": {
          "base_uri": "https://localhost:8080/",
          "height": 135
        },
        "id": "fZEm3UNQJVsr",
        "outputId": "26a7ce3f-008a-401a-fca9-c8d6108ac556"
      },
      "outputs": [
        {
          "output_type": "stream",
          "name": "stdout",
          "text": [
            "Fitting 5 folds for each of 24 candidates, totalling 120 fits\n"
          ]
        },
        {
          "output_type": "execute_result",
          "data": {
            "text/plain": [
              "GridSearchCV(cv=5, estimator=RandomForestClassifier(oob_score=True), n_jobs=-1,\n",
              "             param_grid={'criterion': ['gini', 'entropy'],\n",
              "                         'max_depth': [6, 7, 8], 'max_features': ['sqrt', 0.5],\n",
              "                         'n_estimators': [50, 100], 'random_state': [2]},\n",
              "             verbose=2)"
            ],
            "text/html": [
              "<style>#sk-container-id-77 {color: black;background-color: white;}#sk-container-id-77 pre{padding: 0;}#sk-container-id-77 div.sk-toggleable {background-color: white;}#sk-container-id-77 label.sk-toggleable__label {cursor: pointer;display: block;width: 100%;margin-bottom: 0;padding: 0.3em;box-sizing: border-box;text-align: center;}#sk-container-id-77 label.sk-toggleable__label-arrow:before {content: \"▸\";float: left;margin-right: 0.25em;color: #696969;}#sk-container-id-77 label.sk-toggleable__label-arrow:hover:before {color: black;}#sk-container-id-77 div.sk-estimator:hover label.sk-toggleable__label-arrow:before {color: black;}#sk-container-id-77 div.sk-toggleable__content {max-height: 0;max-width: 0;overflow: hidden;text-align: left;background-color: #f0f8ff;}#sk-container-id-77 div.sk-toggleable__content pre {margin: 0.2em;color: black;border-radius: 0.25em;background-color: #f0f8ff;}#sk-container-id-77 input.sk-toggleable__control:checked~div.sk-toggleable__content {max-height: 200px;max-width: 100%;overflow: auto;}#sk-container-id-77 input.sk-toggleable__control:checked~label.sk-toggleable__label-arrow:before {content: \"▾\";}#sk-container-id-77 div.sk-estimator input.sk-toggleable__control:checked~label.sk-toggleable__label {background-color: #d4ebff;}#sk-container-id-77 div.sk-label input.sk-toggleable__control:checked~label.sk-toggleable__label {background-color: #d4ebff;}#sk-container-id-77 input.sk-hidden--visually {border: 0;clip: rect(1px 1px 1px 1px);clip: rect(1px, 1px, 1px, 1px);height: 1px;margin: -1px;overflow: hidden;padding: 0;position: absolute;width: 1px;}#sk-container-id-77 div.sk-estimator {font-family: monospace;background-color: #f0f8ff;border: 1px dotted black;border-radius: 0.25em;box-sizing: border-box;margin-bottom: 0.5em;}#sk-container-id-77 div.sk-estimator:hover {background-color: #d4ebff;}#sk-container-id-77 div.sk-parallel-item::after {content: \"\";width: 100%;border-bottom: 1px solid gray;flex-grow: 1;}#sk-container-id-77 div.sk-label:hover label.sk-toggleable__label {background-color: #d4ebff;}#sk-container-id-77 div.sk-serial::before {content: \"\";position: absolute;border-left: 1px solid gray;box-sizing: border-box;top: 0;bottom: 0;left: 50%;z-index: 0;}#sk-container-id-77 div.sk-serial {display: flex;flex-direction: column;align-items: center;background-color: white;padding-right: 0.2em;padding-left: 0.2em;position: relative;}#sk-container-id-77 div.sk-item {position: relative;z-index: 1;}#sk-container-id-77 div.sk-parallel {display: flex;align-items: stretch;justify-content: center;background-color: white;position: relative;}#sk-container-id-77 div.sk-item::before, #sk-container-id-77 div.sk-parallel-item::before {content: \"\";position: absolute;border-left: 1px solid gray;box-sizing: border-box;top: 0;bottom: 0;left: 50%;z-index: -1;}#sk-container-id-77 div.sk-parallel-item {display: flex;flex-direction: column;z-index: 1;position: relative;background-color: white;}#sk-container-id-77 div.sk-parallel-item:first-child::after {align-self: flex-end;width: 50%;}#sk-container-id-77 div.sk-parallel-item:last-child::after {align-self: flex-start;width: 50%;}#sk-container-id-77 div.sk-parallel-item:only-child::after {width: 0;}#sk-container-id-77 div.sk-dashed-wrapped {border: 1px dashed gray;margin: 0 0.4em 0.5em 0.4em;box-sizing: border-box;padding-bottom: 0.4em;background-color: white;}#sk-container-id-77 div.sk-label label {font-family: monospace;font-weight: bold;display: inline-block;line-height: 1.2em;}#sk-container-id-77 div.sk-label-container {text-align: center;}#sk-container-id-77 div.sk-container {/* jupyter's `normalize.less` sets `[hidden] { display: none; }` but bootstrap.min.css set `[hidden] { display: none !important; }` so we also need the `!important` here to be able to override the default hidden behavior on the sphinx rendered scikit-learn.org. See: https://github.com/scikit-learn/scikit-learn/issues/21755 */display: inline-block !important;position: relative;}#sk-container-id-77 div.sk-text-repr-fallback {display: none;}</style><div id=\"sk-container-id-77\" class=\"sk-top-container\"><div class=\"sk-text-repr-fallback\"><pre>GridSearchCV(cv=5, estimator=RandomForestClassifier(oob_score=True), n_jobs=-1,\n",
              "             param_grid={&#x27;criterion&#x27;: [&#x27;gini&#x27;, &#x27;entropy&#x27;],\n",
              "                         &#x27;max_depth&#x27;: [6, 7, 8], &#x27;max_features&#x27;: [&#x27;sqrt&#x27;, 0.5],\n",
              "                         &#x27;n_estimators&#x27;: [50, 100], &#x27;random_state&#x27;: [2]},\n",
              "             verbose=2)</pre><b>In a Jupyter environment, please rerun this cell to show the HTML representation or trust the notebook. <br />On GitHub, the HTML representation is unable to render, please try loading this page with nbviewer.org.</b></div><div class=\"sk-container\" hidden><div class=\"sk-item sk-dashed-wrapped\"><div class=\"sk-label-container\"><div class=\"sk-label sk-toggleable\"><input class=\"sk-toggleable__control sk-hidden--visually\" id=\"sk-estimator-id-153\" type=\"checkbox\" ><label for=\"sk-estimator-id-153\" class=\"sk-toggleable__label sk-toggleable__label-arrow\">GridSearchCV</label><div class=\"sk-toggleable__content\"><pre>GridSearchCV(cv=5, estimator=RandomForestClassifier(oob_score=True), n_jobs=-1,\n",
              "             param_grid={&#x27;criterion&#x27;: [&#x27;gini&#x27;, &#x27;entropy&#x27;],\n",
              "                         &#x27;max_depth&#x27;: [6, 7, 8], &#x27;max_features&#x27;: [&#x27;sqrt&#x27;, 0.5],\n",
              "                         &#x27;n_estimators&#x27;: [50, 100], &#x27;random_state&#x27;: [2]},\n",
              "             verbose=2)</pre></div></div></div><div class=\"sk-parallel\"><div class=\"sk-parallel-item\"><div class=\"sk-item\"><div class=\"sk-label-container\"><div class=\"sk-label sk-toggleable\"><input class=\"sk-toggleable__control sk-hidden--visually\" id=\"sk-estimator-id-154\" type=\"checkbox\" ><label for=\"sk-estimator-id-154\" class=\"sk-toggleable__label sk-toggleable__label-arrow\">estimator: RandomForestClassifier</label><div class=\"sk-toggleable__content\"><pre>RandomForestClassifier(oob_score=True)</pre></div></div></div><div class=\"sk-serial\"><div class=\"sk-item\"><div class=\"sk-estimator sk-toggleable\"><input class=\"sk-toggleable__control sk-hidden--visually\" id=\"sk-estimator-id-155\" type=\"checkbox\" ><label for=\"sk-estimator-id-155\" class=\"sk-toggleable__label sk-toggleable__label-arrow\">RandomForestClassifier</label><div class=\"sk-toggleable__content\"><pre>RandomForestClassifier(oob_score=True)</pre></div></div></div></div></div></div></div></div></div></div>"
            ]
          },
          "metadata": {},
          "execution_count": 497
        }
      ],
      "source": [
        "# Defining the parameter grid for Random Forest\n",
        "params_rf = {\n",
        "    'criterion' : ['gini', 'entropy'], # Criteria for information gain calculation\n",
        "    'max_depth': [6, 7, 8], # Maximum depth of each tree in the forest\n",
        "    'n_estimators': [50, 100], # Number of trees in the forest\n",
        "    'max_features': ['sqrt', 0.5], # Number of features to consider when looking for the best split\n",
        "    'random_state': [2] # Random state for reproducibility\n",
        "}\n",
        "\n",
        "# Instantiate RandomForestClassifier\n",
        "rf = RandomForestClassifier(oob_score=True)\n",
        "\n",
        "# Instantiate GridSearchCV with reduced parameter grid\n",
        "model_grid = GridSearchCV(rf, param_grid = params_rf, cv=5, verbose=2, n_jobs=-1)\n",
        "\n",
        "# Fit GridSearchCV\n",
        "model_grid.fit(X, y)"
      ]
    },
    {
      "cell_type": "markdown",
      "source": [
        "The grid search is using 5-fold cross-validation during the evaluation of each hyperparameter combinatino. Thus, the data is divided into 5 equal-sized folds, and the model is trained and evaluated 5 times.\n",
        "\n",
        "---\n",
        "\n",
        "There are 24 candidates which means that 24 different combinations of hyperparameters are being evaluated.\n",
        "\n",
        "---\n",
        "\n",
        "In total, there are 120 fits (training and evaluation cycles) that will be performed during the grid search process. Since there are 24 candidate combinations and each combination is evaluated using 5-fold cross-validation, the total number is 24*5 = 120"
      ],
      "metadata": {
        "id": "KsP4N7jN410b"
      }
    },
    {
      "cell_type": "code",
      "execution_count": null,
      "metadata": {
        "id": "bv4OF_2IJerh",
        "colab": {
          "base_uri": "https://localhost:8080/"
        },
        "outputId": "54a9f3f3-39de-4b04-dcde-7ffe7fb442bc"
      },
      "outputs": [
        {
          "output_type": "execute_result",
          "data": {
            "text/plain": [
              "{'criterion': 'entropy',\n",
              " 'max_depth': 8,\n",
              " 'max_features': 0.5,\n",
              " 'n_estimators': 100,\n",
              " 'random_state': 2}"
            ]
          },
          "metadata": {},
          "execution_count": 498
        }
      ],
      "source": [
        "# Accessing the best hyperparameters found by the GridSearchCV for Random Forest\n",
        "model_grid.best_params_"
      ]
    },
    {
      "cell_type": "markdown",
      "source": [
        "The **criterion** used for splitting nodes is entropy.\n",
        "\n",
        "---\n",
        "\n",
        "The **maximum depth** of the decision tree is 8, meaning a decision tree cannot surpass , limiting the possibility of overfitting and reducing complexity of the model.  \n",
        "\n",
        "---\n",
        "\n",
        "A **max_features** of 0.5 means that at each split, the algorithm will randomly select half the features to consider when looking for the best split.\n",
        "\n",
        "---\n",
        "\n",
        "**n_estimators** of 100 show that 100 trees yield the best performance in the random forest\n",
        "\n",
        "---\n",
        "\n",
        "A **random_state** of 2 sets the random seed for reproducibility. It ensures that results are consistent across different runs of the algorithm.\n",
        "\n"
      ],
      "metadata": {
        "id": "nnDj4WfK654K"
      }
    },
    {
      "cell_type": "code",
      "execution_count": null,
      "metadata": {
        "id": "MZ6zp-XlJgvZ",
        "colab": {
          "base_uri": "https://localhost:8080/",
          "height": 92
        },
        "outputId": "93a60c88-fc0d-432e-b75a-173f6ff3b618"
      },
      "outputs": [
        {
          "output_type": "execute_result",
          "data": {
            "text/plain": [
              "RandomForestClassifier(criterion='entropy', max_depth=8, max_features=0.5,\n",
              "                       oob_score=True, random_state=2)"
            ],
            "text/html": [
              "<style>#sk-container-id-78 {color: black;background-color: white;}#sk-container-id-78 pre{padding: 0;}#sk-container-id-78 div.sk-toggleable {background-color: white;}#sk-container-id-78 label.sk-toggleable__label {cursor: pointer;display: block;width: 100%;margin-bottom: 0;padding: 0.3em;box-sizing: border-box;text-align: center;}#sk-container-id-78 label.sk-toggleable__label-arrow:before {content: \"▸\";float: left;margin-right: 0.25em;color: #696969;}#sk-container-id-78 label.sk-toggleable__label-arrow:hover:before {color: black;}#sk-container-id-78 div.sk-estimator:hover label.sk-toggleable__label-arrow:before {color: black;}#sk-container-id-78 div.sk-toggleable__content {max-height: 0;max-width: 0;overflow: hidden;text-align: left;background-color: #f0f8ff;}#sk-container-id-78 div.sk-toggleable__content pre {margin: 0.2em;color: black;border-radius: 0.25em;background-color: #f0f8ff;}#sk-container-id-78 input.sk-toggleable__control:checked~div.sk-toggleable__content {max-height: 200px;max-width: 100%;overflow: auto;}#sk-container-id-78 input.sk-toggleable__control:checked~label.sk-toggleable__label-arrow:before {content: \"▾\";}#sk-container-id-78 div.sk-estimator input.sk-toggleable__control:checked~label.sk-toggleable__label {background-color: #d4ebff;}#sk-container-id-78 div.sk-label input.sk-toggleable__control:checked~label.sk-toggleable__label {background-color: #d4ebff;}#sk-container-id-78 input.sk-hidden--visually {border: 0;clip: rect(1px 1px 1px 1px);clip: rect(1px, 1px, 1px, 1px);height: 1px;margin: -1px;overflow: hidden;padding: 0;position: absolute;width: 1px;}#sk-container-id-78 div.sk-estimator {font-family: monospace;background-color: #f0f8ff;border: 1px dotted black;border-radius: 0.25em;box-sizing: border-box;margin-bottom: 0.5em;}#sk-container-id-78 div.sk-estimator:hover {background-color: #d4ebff;}#sk-container-id-78 div.sk-parallel-item::after {content: \"\";width: 100%;border-bottom: 1px solid gray;flex-grow: 1;}#sk-container-id-78 div.sk-label:hover label.sk-toggleable__label {background-color: #d4ebff;}#sk-container-id-78 div.sk-serial::before {content: \"\";position: absolute;border-left: 1px solid gray;box-sizing: border-box;top: 0;bottom: 0;left: 50%;z-index: 0;}#sk-container-id-78 div.sk-serial {display: flex;flex-direction: column;align-items: center;background-color: white;padding-right: 0.2em;padding-left: 0.2em;position: relative;}#sk-container-id-78 div.sk-item {position: relative;z-index: 1;}#sk-container-id-78 div.sk-parallel {display: flex;align-items: stretch;justify-content: center;background-color: white;position: relative;}#sk-container-id-78 div.sk-item::before, #sk-container-id-78 div.sk-parallel-item::before {content: \"\";position: absolute;border-left: 1px solid gray;box-sizing: border-box;top: 0;bottom: 0;left: 50%;z-index: -1;}#sk-container-id-78 div.sk-parallel-item {display: flex;flex-direction: column;z-index: 1;position: relative;background-color: white;}#sk-container-id-78 div.sk-parallel-item:first-child::after {align-self: flex-end;width: 50%;}#sk-container-id-78 div.sk-parallel-item:last-child::after {align-self: flex-start;width: 50%;}#sk-container-id-78 div.sk-parallel-item:only-child::after {width: 0;}#sk-container-id-78 div.sk-dashed-wrapped {border: 1px dashed gray;margin: 0 0.4em 0.5em 0.4em;box-sizing: border-box;padding-bottom: 0.4em;background-color: white;}#sk-container-id-78 div.sk-label label {font-family: monospace;font-weight: bold;display: inline-block;line-height: 1.2em;}#sk-container-id-78 div.sk-label-container {text-align: center;}#sk-container-id-78 div.sk-container {/* jupyter's `normalize.less` sets `[hidden] { display: none; }` but bootstrap.min.css set `[hidden] { display: none !important; }` so we also need the `!important` here to be able to override the default hidden behavior on the sphinx rendered scikit-learn.org. See: https://github.com/scikit-learn/scikit-learn/issues/21755 */display: inline-block !important;position: relative;}#sk-container-id-78 div.sk-text-repr-fallback {display: none;}</style><div id=\"sk-container-id-78\" class=\"sk-top-container\"><div class=\"sk-text-repr-fallback\"><pre>RandomForestClassifier(criterion=&#x27;entropy&#x27;, max_depth=8, max_features=0.5,\n",
              "                       oob_score=True, random_state=2)</pre><b>In a Jupyter environment, please rerun this cell to show the HTML representation or trust the notebook. <br />On GitHub, the HTML representation is unable to render, please try loading this page with nbviewer.org.</b></div><div class=\"sk-container\" hidden><div class=\"sk-item\"><div class=\"sk-estimator sk-toggleable\"><input class=\"sk-toggleable__control sk-hidden--visually\" id=\"sk-estimator-id-156\" type=\"checkbox\" checked><label for=\"sk-estimator-id-156\" class=\"sk-toggleable__label sk-toggleable__label-arrow\">RandomForestClassifier</label><div class=\"sk-toggleable__content\"><pre>RandomForestClassifier(criterion=&#x27;entropy&#x27;, max_depth=8, max_features=0.5,\n",
              "                       oob_score=True, random_state=2)</pre></div></div></div></div></div>"
            ]
          },
          "metadata": {},
          "execution_count": 499
        }
      ],
      "source": [
        "# Model configuration that yielded the highest performance based on the evaluation metric & cross-validation\n",
        "model_grid.best_estimator_"
      ]
    },
    {
      "cell_type": "code",
      "execution_count": null,
      "metadata": {
        "id": "ewewS5QSJjWp",
        "colab": {
          "base_uri": "https://localhost:8080/"
        },
        "outputId": "c6ca8198-378c-4949-c42a-d0fd39223153"
      },
      "outputs": [
        {
          "output_type": "execute_result",
          "data": {
            "text/plain": [
              "0.8494666666666667"
            ]
          },
          "metadata": {},
          "execution_count": 500
        }
      ],
      "source": [
        "# Mean cross-validated score of the best model configuration\n",
        "model_grid.best_score_"
      ]
    },
    {
      "cell_type": "code",
      "execution_count": null,
      "metadata": {
        "id": "c5ObNPtsJu4C",
        "colab": {
          "base_uri": "https://localhost:8080/"
        },
        "outputId": "389760ee-b5ea-4331-f7b6-4b07e1c279cd"
      },
      "outputs": [
        {
          "output_type": "execute_result",
          "data": {
            "text/plain": [
              "stabf\n",
              "0    0.638667\n",
              "1    0.361333\n",
              "Name: proportion, dtype: float64"
            ]
          },
          "metadata": {},
          "execution_count": 501
        }
      ],
      "source": [
        "# Counts the normalized value counts of unique values in the target variable\n",
        "y.value_counts(normalize=True)"
      ]
    },
    {
      "cell_type": "markdown",
      "source": [
        "Analysis:\n",
        "\n",
        "---\n",
        "\n",
        "Class 0 (unstable): Proportion = 0.638667 (approximately 63.87%)\n",
        "Class 1 (stable): Proportion = 0.361333 (approximately 36.13 %)\n",
        "\n",
        "\n",
        "\n",
        "---\n",
        "Class 0 constitutes approximately 63.87% of the dataset, while Class 1 constitutes approximately 36.13%. This means that the dataset is imbalanced.\n",
        "\n",
        "\n"
      ],
      "metadata": {
        "id": "bQjorpDyHs6D"
      }
    },
    {
      "cell_type": "code",
      "execution_count": null,
      "metadata": {
        "id": "eKQN9BF4JveS",
        "colab": {
          "base_uri": "https://localhost:8080/"
        },
        "outputId": "a4c9cd8e-5557-4b65-df21-cae3bb1192da"
      },
      "outputs": [
        {
          "output_type": "stream",
          "name": "stdout",
          "text": [
            "Prediction with whole training set (much more optimistic)\n",
            "Accuracy is 0.9101333333333333\n",
            "F1 score is 0.8647672552166935\n",
            "Recall is 0.7952029520295203\n",
            "Precision is 0.9476693051890941\n"
          ]
        }
      ],
      "source": [
        "# Predicting the target varibale using the trained model on the entire training set\n",
        "y_pred = model_grid.predict(X)\n",
        "\n",
        "# Calculating and printing accuracy, F1 score, recall and precision\n",
        "print('Prediction with whole training set (much more optimistic)')\n",
        "print(f'Accuracy is {accuracy_score(y, y_pred)}')\n",
        "print(f'F1 score is {f1_score(y, y_pred)}')\n",
        "print(f'Recall is {recall_score(y, y_pred)}')\n",
        "print(f'Precision is {precision_score(y, y_pred)}')"
      ]
    },
    {
      "cell_type": "markdown",
      "metadata": {
        "id": "9FDgX_uUOX_T"
      },
      "source": [
        "# 3. XGBoost"
      ]
    },
    {
      "cell_type": "markdown",
      "source": [
        "XGBoost belongs to the family of gradient boosting algorithms, which sequentially train weak learners (typically decision trees) to correct the errors made by the previous models. It extends traditional gradient boosting by incorporating regularization techniques to control overfitting.  "
      ],
      "metadata": {
        "id": "TJC7TDb0_VIy"
      }
    },
    {
      "cell_type": "code",
      "execution_count": null,
      "metadata": {
        "id": "4I476zx5OZkf",
        "colab": {
          "base_uri": "https://localhost:8080/",
          "height": 135
        },
        "outputId": "09511c44-bde4-46a3-ca58-feed2480a798"
      },
      "outputs": [
        {
          "output_type": "stream",
          "name": "stdout",
          "text": [
            "Fitting 5 folds for each of 32 candidates, totalling 160 fits\n"
          ]
        },
        {
          "output_type": "execute_result",
          "data": {
            "text/plain": [
              "GridSearchCV(cv=5,\n",
              "             estimator=XGBClassifier(base_score=None, booster=None,\n",
              "                                     callbacks=None, colsample_bylevel=None,\n",
              "                                     colsample_bynode=None,\n",
              "                                     colsample_bytree=None, device=None,\n",
              "                                     early_stopping_rounds=None,\n",
              "                                     enable_categorical=False, eval_metric=None,\n",
              "                                     feature_types=None, gamma=None,\n",
              "                                     grow_policy=None, importance_type=None,\n",
              "                                     interaction_constraints=None,\n",
              "                                     learning_rate=None,...\n",
              "                                     max_leaves=None, min_child_weight=None,\n",
              "                                     missing=nan, monotone_constraints=None,\n",
              "                                     multi_strategy=None, n_estimators=None,\n",
              "                                     n_jobs=None, num_parallel_tree=None,\n",
              "                                     random_state=None, ...),\n",
              "             n_jobs=-1,\n",
              "             param_grid={'colsample_bytree': [0.7, 0.8], 'max_depth': [3, 4],\n",
              "                         'n_estimators': [500], 'random_state': [2],\n",
              "                         'reg_alpha': [1.7, 1.8], 'reg_lambda': [2.3, 2.4],\n",
              "                         'subsample': [0.7, 0.8]},\n",
              "             verbose=2)"
            ],
            "text/html": [
              "<style>#sk-container-id-79 {color: black;background-color: white;}#sk-container-id-79 pre{padding: 0;}#sk-container-id-79 div.sk-toggleable {background-color: white;}#sk-container-id-79 label.sk-toggleable__label {cursor: pointer;display: block;width: 100%;margin-bottom: 0;padding: 0.3em;box-sizing: border-box;text-align: center;}#sk-container-id-79 label.sk-toggleable__label-arrow:before {content: \"▸\";float: left;margin-right: 0.25em;color: #696969;}#sk-container-id-79 label.sk-toggleable__label-arrow:hover:before {color: black;}#sk-container-id-79 div.sk-estimator:hover label.sk-toggleable__label-arrow:before {color: black;}#sk-container-id-79 div.sk-toggleable__content {max-height: 0;max-width: 0;overflow: hidden;text-align: left;background-color: #f0f8ff;}#sk-container-id-79 div.sk-toggleable__content pre {margin: 0.2em;color: black;border-radius: 0.25em;background-color: #f0f8ff;}#sk-container-id-79 input.sk-toggleable__control:checked~div.sk-toggleable__content {max-height: 200px;max-width: 100%;overflow: auto;}#sk-container-id-79 input.sk-toggleable__control:checked~label.sk-toggleable__label-arrow:before {content: \"▾\";}#sk-container-id-79 div.sk-estimator input.sk-toggleable__control:checked~label.sk-toggleable__label {background-color: #d4ebff;}#sk-container-id-79 div.sk-label input.sk-toggleable__control:checked~label.sk-toggleable__label {background-color: #d4ebff;}#sk-container-id-79 input.sk-hidden--visually {border: 0;clip: rect(1px 1px 1px 1px);clip: rect(1px, 1px, 1px, 1px);height: 1px;margin: -1px;overflow: hidden;padding: 0;position: absolute;width: 1px;}#sk-container-id-79 div.sk-estimator {font-family: monospace;background-color: #f0f8ff;border: 1px dotted black;border-radius: 0.25em;box-sizing: border-box;margin-bottom: 0.5em;}#sk-container-id-79 div.sk-estimator:hover {background-color: #d4ebff;}#sk-container-id-79 div.sk-parallel-item::after {content: \"\";width: 100%;border-bottom: 1px solid gray;flex-grow: 1;}#sk-container-id-79 div.sk-label:hover label.sk-toggleable__label {background-color: #d4ebff;}#sk-container-id-79 div.sk-serial::before {content: \"\";position: absolute;border-left: 1px solid gray;box-sizing: border-box;top: 0;bottom: 0;left: 50%;z-index: 0;}#sk-container-id-79 div.sk-serial {display: flex;flex-direction: column;align-items: center;background-color: white;padding-right: 0.2em;padding-left: 0.2em;position: relative;}#sk-container-id-79 div.sk-item {position: relative;z-index: 1;}#sk-container-id-79 div.sk-parallel {display: flex;align-items: stretch;justify-content: center;background-color: white;position: relative;}#sk-container-id-79 div.sk-item::before, #sk-container-id-79 div.sk-parallel-item::before {content: \"\";position: absolute;border-left: 1px solid gray;box-sizing: border-box;top: 0;bottom: 0;left: 50%;z-index: -1;}#sk-container-id-79 div.sk-parallel-item {display: flex;flex-direction: column;z-index: 1;position: relative;background-color: white;}#sk-container-id-79 div.sk-parallel-item:first-child::after {align-self: flex-end;width: 50%;}#sk-container-id-79 div.sk-parallel-item:last-child::after {align-self: flex-start;width: 50%;}#sk-container-id-79 div.sk-parallel-item:only-child::after {width: 0;}#sk-container-id-79 div.sk-dashed-wrapped {border: 1px dashed gray;margin: 0 0.4em 0.5em 0.4em;box-sizing: border-box;padding-bottom: 0.4em;background-color: white;}#sk-container-id-79 div.sk-label label {font-family: monospace;font-weight: bold;display: inline-block;line-height: 1.2em;}#sk-container-id-79 div.sk-label-container {text-align: center;}#sk-container-id-79 div.sk-container {/* jupyter's `normalize.less` sets `[hidden] { display: none; }` but bootstrap.min.css set `[hidden] { display: none !important; }` so we also need the `!important` here to be able to override the default hidden behavior on the sphinx rendered scikit-learn.org. See: https://github.com/scikit-learn/scikit-learn/issues/21755 */display: inline-block !important;position: relative;}#sk-container-id-79 div.sk-text-repr-fallback {display: none;}</style><div id=\"sk-container-id-79\" class=\"sk-top-container\"><div class=\"sk-text-repr-fallback\"><pre>GridSearchCV(cv=5,\n",
              "             estimator=XGBClassifier(base_score=None, booster=None,\n",
              "                                     callbacks=None, colsample_bylevel=None,\n",
              "                                     colsample_bynode=None,\n",
              "                                     colsample_bytree=None, device=None,\n",
              "                                     early_stopping_rounds=None,\n",
              "                                     enable_categorical=False, eval_metric=None,\n",
              "                                     feature_types=None, gamma=None,\n",
              "                                     grow_policy=None, importance_type=None,\n",
              "                                     interaction_constraints=None,\n",
              "                                     learning_rate=None,...\n",
              "                                     max_leaves=None, min_child_weight=None,\n",
              "                                     missing=nan, monotone_constraints=None,\n",
              "                                     multi_strategy=None, n_estimators=None,\n",
              "                                     n_jobs=None, num_parallel_tree=None,\n",
              "                                     random_state=None, ...),\n",
              "             n_jobs=-1,\n",
              "             param_grid={&#x27;colsample_bytree&#x27;: [0.7, 0.8], &#x27;max_depth&#x27;: [3, 4],\n",
              "                         &#x27;n_estimators&#x27;: [500], &#x27;random_state&#x27;: [2],\n",
              "                         &#x27;reg_alpha&#x27;: [1.7, 1.8], &#x27;reg_lambda&#x27;: [2.3, 2.4],\n",
              "                         &#x27;subsample&#x27;: [0.7, 0.8]},\n",
              "             verbose=2)</pre><b>In a Jupyter environment, please rerun this cell to show the HTML representation or trust the notebook. <br />On GitHub, the HTML representation is unable to render, please try loading this page with nbviewer.org.</b></div><div class=\"sk-container\" hidden><div class=\"sk-item sk-dashed-wrapped\"><div class=\"sk-label-container\"><div class=\"sk-label sk-toggleable\"><input class=\"sk-toggleable__control sk-hidden--visually\" id=\"sk-estimator-id-157\" type=\"checkbox\" ><label for=\"sk-estimator-id-157\" class=\"sk-toggleable__label sk-toggleable__label-arrow\">GridSearchCV</label><div class=\"sk-toggleable__content\"><pre>GridSearchCV(cv=5,\n",
              "             estimator=XGBClassifier(base_score=None, booster=None,\n",
              "                                     callbacks=None, colsample_bylevel=None,\n",
              "                                     colsample_bynode=None,\n",
              "                                     colsample_bytree=None, device=None,\n",
              "                                     early_stopping_rounds=None,\n",
              "                                     enable_categorical=False, eval_metric=None,\n",
              "                                     feature_types=None, gamma=None,\n",
              "                                     grow_policy=None, importance_type=None,\n",
              "                                     interaction_constraints=None,\n",
              "                                     learning_rate=None,...\n",
              "                                     max_leaves=None, min_child_weight=None,\n",
              "                                     missing=nan, monotone_constraints=None,\n",
              "                                     multi_strategy=None, n_estimators=None,\n",
              "                                     n_jobs=None, num_parallel_tree=None,\n",
              "                                     random_state=None, ...),\n",
              "             n_jobs=-1,\n",
              "             param_grid={&#x27;colsample_bytree&#x27;: [0.7, 0.8], &#x27;max_depth&#x27;: [3, 4],\n",
              "                         &#x27;n_estimators&#x27;: [500], &#x27;random_state&#x27;: [2],\n",
              "                         &#x27;reg_alpha&#x27;: [1.7, 1.8], &#x27;reg_lambda&#x27;: [2.3, 2.4],\n",
              "                         &#x27;subsample&#x27;: [0.7, 0.8]},\n",
              "             verbose=2)</pre></div></div></div><div class=\"sk-parallel\"><div class=\"sk-parallel-item\"><div class=\"sk-item\"><div class=\"sk-label-container\"><div class=\"sk-label sk-toggleable\"><input class=\"sk-toggleable__control sk-hidden--visually\" id=\"sk-estimator-id-158\" type=\"checkbox\" ><label for=\"sk-estimator-id-158\" class=\"sk-toggleable__label sk-toggleable__label-arrow\">estimator: XGBClassifier</label><div class=\"sk-toggleable__content\"><pre>XGBClassifier(base_score=None, booster=None, callbacks=None,\n",
              "              colsample_bylevel=None, colsample_bynode=None,\n",
              "              colsample_bytree=None, device=None, early_stopping_rounds=None,\n",
              "              enable_categorical=False, eval_metric=None, feature_types=None,\n",
              "              gamma=None, grow_policy=None, importance_type=None,\n",
              "              interaction_constraints=None, learning_rate=None, max_bin=None,\n",
              "              max_cat_threshold=None, max_cat_to_onehot=None,\n",
              "              max_delta_step=None, max_depth=None, max_leaves=None,\n",
              "              min_child_weight=None, missing=nan, monotone_constraints=None,\n",
              "              multi_strategy=None, n_estimators=None, n_jobs=None,\n",
              "              num_parallel_tree=None, random_state=None, ...)</pre></div></div></div><div class=\"sk-serial\"><div class=\"sk-item\"><div class=\"sk-estimator sk-toggleable\"><input class=\"sk-toggleable__control sk-hidden--visually\" id=\"sk-estimator-id-159\" type=\"checkbox\" ><label for=\"sk-estimator-id-159\" class=\"sk-toggleable__label sk-toggleable__label-arrow\">XGBClassifier</label><div class=\"sk-toggleable__content\"><pre>XGBClassifier(base_score=None, booster=None, callbacks=None,\n",
              "              colsample_bylevel=None, colsample_bynode=None,\n",
              "              colsample_bytree=None, device=None, early_stopping_rounds=None,\n",
              "              enable_categorical=False, eval_metric=None, feature_types=None,\n",
              "              gamma=None, grow_policy=None, importance_type=None,\n",
              "              interaction_constraints=None, learning_rate=None, max_bin=None,\n",
              "              max_cat_threshold=None, max_cat_to_onehot=None,\n",
              "              max_delta_step=None, max_depth=None, max_leaves=None,\n",
              "              min_child_weight=None, missing=nan, monotone_constraints=None,\n",
              "              multi_strategy=None, n_estimators=None, n_jobs=None,\n",
              "              num_parallel_tree=None, random_state=None, ...)</pre></div></div></div></div></div></div></div></div></div></div>"
            ]
          },
          "metadata": {},
          "execution_count": 503
        }
      ],
      "source": [
        "# Define the parameters grid for XGBoost\n",
        "params_xgb = {\n",
        "    'n_estimators': [500], # Fixed number of estimators\n",
        "    'colsample_bytree': [0.7, 0.8], # Fraction of features to consider when building each tree\n",
        "    'max_depth': [3, 4], # Maximum depth of a tree\n",
        "    'reg_alpha': [1.7, 1.8], # L1 regularization term on weights\n",
        "    'reg_lambda': [2.3, 2.4], # L2 regularization term on weights\n",
        "    'subsample': [0.7, 0.8], # Fraction of samples to fit each tree\n",
        "    'random_state': [2] # Seed for random number generator\n",
        "}\n",
        "\n",
        "# Instantiate XGBoost classifier\n",
        "xgb = XGBClassifier()\n",
        "\n",
        "# Instantiate GridSearchCV with XGBoost classifier and parameter grid\n",
        "model_grid_xgb = GridSearchCV(xgb, param_grid = params_xgb, cv=5, verbose=2, n_jobs=-1)\n",
        "\n",
        "# Fit GridSearchCV to find the best hyperparameters\n",
        "model_grid_xgb.fit(X, y)"
      ]
    },
    {
      "cell_type": "code",
      "execution_count": null,
      "metadata": {
        "id": "HcA7liVWOkO8",
        "colab": {
          "base_uri": "https://localhost:8080/"
        },
        "outputId": "3e2c9ffc-3389-483a-8b0b-af7f75b94160"
      },
      "outputs": [
        {
          "output_type": "execute_result",
          "data": {
            "text/plain": [
              "{'colsample_bytree': 0.8,\n",
              " 'max_depth': 3,\n",
              " 'n_estimators': 500,\n",
              " 'random_state': 2,\n",
              " 'reg_alpha': 1.8,\n",
              " 'reg_lambda': 2.3,\n",
              " 'subsample': 0.8}"
            ]
          },
          "metadata": {},
          "execution_count": 504
        }
      ],
      "source": [
        "# Accessing the best hyperparameters found by the GridSearchCV for XGBoost\n",
        "model_grid_xgb.best_params_"
      ]
    },
    {
      "cell_type": "code",
      "execution_count": null,
      "metadata": {
        "id": "WsqZRxZuOmcE",
        "colab": {
          "base_uri": "https://localhost:8080/",
          "height": 248
        },
        "outputId": "10ff8bd1-9a23-4a3a-c342-3204e027c814"
      },
      "outputs": [
        {
          "output_type": "execute_result",
          "data": {
            "text/plain": [
              "XGBClassifier(base_score=None, booster=None, callbacks=None,\n",
              "              colsample_bylevel=None, colsample_bynode=None,\n",
              "              colsample_bytree=0.8, device=None, early_stopping_rounds=None,\n",
              "              enable_categorical=False, eval_metric=None, feature_types=None,\n",
              "              gamma=None, grow_policy=None, importance_type=None,\n",
              "              interaction_constraints=None, learning_rate=None, max_bin=None,\n",
              "              max_cat_threshold=None, max_cat_to_onehot=None,\n",
              "              max_delta_step=None, max_depth=3, max_leaves=None,\n",
              "              min_child_weight=None, missing=nan, monotone_constraints=None,\n",
              "              multi_strategy=None, n_estimators=500, n_jobs=None,\n",
              "              num_parallel_tree=None, random_state=2, ...)"
            ],
            "text/html": [
              "<style>#sk-container-id-80 {color: black;background-color: white;}#sk-container-id-80 pre{padding: 0;}#sk-container-id-80 div.sk-toggleable {background-color: white;}#sk-container-id-80 label.sk-toggleable__label {cursor: pointer;display: block;width: 100%;margin-bottom: 0;padding: 0.3em;box-sizing: border-box;text-align: center;}#sk-container-id-80 label.sk-toggleable__label-arrow:before {content: \"▸\";float: left;margin-right: 0.25em;color: #696969;}#sk-container-id-80 label.sk-toggleable__label-arrow:hover:before {color: black;}#sk-container-id-80 div.sk-estimator:hover label.sk-toggleable__label-arrow:before {color: black;}#sk-container-id-80 div.sk-toggleable__content {max-height: 0;max-width: 0;overflow: hidden;text-align: left;background-color: #f0f8ff;}#sk-container-id-80 div.sk-toggleable__content pre {margin: 0.2em;color: black;border-radius: 0.25em;background-color: #f0f8ff;}#sk-container-id-80 input.sk-toggleable__control:checked~div.sk-toggleable__content {max-height: 200px;max-width: 100%;overflow: auto;}#sk-container-id-80 input.sk-toggleable__control:checked~label.sk-toggleable__label-arrow:before {content: \"▾\";}#sk-container-id-80 div.sk-estimator input.sk-toggleable__control:checked~label.sk-toggleable__label {background-color: #d4ebff;}#sk-container-id-80 div.sk-label input.sk-toggleable__control:checked~label.sk-toggleable__label {background-color: #d4ebff;}#sk-container-id-80 input.sk-hidden--visually {border: 0;clip: rect(1px 1px 1px 1px);clip: rect(1px, 1px, 1px, 1px);height: 1px;margin: -1px;overflow: hidden;padding: 0;position: absolute;width: 1px;}#sk-container-id-80 div.sk-estimator {font-family: monospace;background-color: #f0f8ff;border: 1px dotted black;border-radius: 0.25em;box-sizing: border-box;margin-bottom: 0.5em;}#sk-container-id-80 div.sk-estimator:hover {background-color: #d4ebff;}#sk-container-id-80 div.sk-parallel-item::after {content: \"\";width: 100%;border-bottom: 1px solid gray;flex-grow: 1;}#sk-container-id-80 div.sk-label:hover label.sk-toggleable__label {background-color: #d4ebff;}#sk-container-id-80 div.sk-serial::before {content: \"\";position: absolute;border-left: 1px solid gray;box-sizing: border-box;top: 0;bottom: 0;left: 50%;z-index: 0;}#sk-container-id-80 div.sk-serial {display: flex;flex-direction: column;align-items: center;background-color: white;padding-right: 0.2em;padding-left: 0.2em;position: relative;}#sk-container-id-80 div.sk-item {position: relative;z-index: 1;}#sk-container-id-80 div.sk-parallel {display: flex;align-items: stretch;justify-content: center;background-color: white;position: relative;}#sk-container-id-80 div.sk-item::before, #sk-container-id-80 div.sk-parallel-item::before {content: \"\";position: absolute;border-left: 1px solid gray;box-sizing: border-box;top: 0;bottom: 0;left: 50%;z-index: -1;}#sk-container-id-80 div.sk-parallel-item {display: flex;flex-direction: column;z-index: 1;position: relative;background-color: white;}#sk-container-id-80 div.sk-parallel-item:first-child::after {align-self: flex-end;width: 50%;}#sk-container-id-80 div.sk-parallel-item:last-child::after {align-self: flex-start;width: 50%;}#sk-container-id-80 div.sk-parallel-item:only-child::after {width: 0;}#sk-container-id-80 div.sk-dashed-wrapped {border: 1px dashed gray;margin: 0 0.4em 0.5em 0.4em;box-sizing: border-box;padding-bottom: 0.4em;background-color: white;}#sk-container-id-80 div.sk-label label {font-family: monospace;font-weight: bold;display: inline-block;line-height: 1.2em;}#sk-container-id-80 div.sk-label-container {text-align: center;}#sk-container-id-80 div.sk-container {/* jupyter's `normalize.less` sets `[hidden] { display: none; }` but bootstrap.min.css set `[hidden] { display: none !important; }` so we also need the `!important` here to be able to override the default hidden behavior on the sphinx rendered scikit-learn.org. See: https://github.com/scikit-learn/scikit-learn/issues/21755 */display: inline-block !important;position: relative;}#sk-container-id-80 div.sk-text-repr-fallback {display: none;}</style><div id=\"sk-container-id-80\" class=\"sk-top-container\"><div class=\"sk-text-repr-fallback\"><pre>XGBClassifier(base_score=None, booster=None, callbacks=None,\n",
              "              colsample_bylevel=None, colsample_bynode=None,\n",
              "              colsample_bytree=0.8, device=None, early_stopping_rounds=None,\n",
              "              enable_categorical=False, eval_metric=None, feature_types=None,\n",
              "              gamma=None, grow_policy=None, importance_type=None,\n",
              "              interaction_constraints=None, learning_rate=None, max_bin=None,\n",
              "              max_cat_threshold=None, max_cat_to_onehot=None,\n",
              "              max_delta_step=None, max_depth=3, max_leaves=None,\n",
              "              min_child_weight=None, missing=nan, monotone_constraints=None,\n",
              "              multi_strategy=None, n_estimators=500, n_jobs=None,\n",
              "              num_parallel_tree=None, random_state=2, ...)</pre><b>In a Jupyter environment, please rerun this cell to show the HTML representation or trust the notebook. <br />On GitHub, the HTML representation is unable to render, please try loading this page with nbviewer.org.</b></div><div class=\"sk-container\" hidden><div class=\"sk-item\"><div class=\"sk-estimator sk-toggleable\"><input class=\"sk-toggleable__control sk-hidden--visually\" id=\"sk-estimator-id-160\" type=\"checkbox\" checked><label for=\"sk-estimator-id-160\" class=\"sk-toggleable__label sk-toggleable__label-arrow\">XGBClassifier</label><div class=\"sk-toggleable__content\"><pre>XGBClassifier(base_score=None, booster=None, callbacks=None,\n",
              "              colsample_bylevel=None, colsample_bynode=None,\n",
              "              colsample_bytree=0.8, device=None, early_stopping_rounds=None,\n",
              "              enable_categorical=False, eval_metric=None, feature_types=None,\n",
              "              gamma=None, grow_policy=None, importance_type=None,\n",
              "              interaction_constraints=None, learning_rate=None, max_bin=None,\n",
              "              max_cat_threshold=None, max_cat_to_onehot=None,\n",
              "              max_delta_step=None, max_depth=3, max_leaves=None,\n",
              "              min_child_weight=None, missing=nan, monotone_constraints=None,\n",
              "              multi_strategy=None, n_estimators=500, n_jobs=None,\n",
              "              num_parallel_tree=None, random_state=2, ...)</pre></div></div></div></div></div>"
            ]
          },
          "metadata": {},
          "execution_count": 505
        }
      ],
      "source": [
        "# Model configuration that yielded the highest performance based on the evaluation metric & cross-validation\n",
        "model_grid_xgb.best_estimator_"
      ]
    },
    {
      "cell_type": "code",
      "execution_count": null,
      "metadata": {
        "id": "Y3gfzRicOozn",
        "colab": {
          "base_uri": "https://localhost:8080/"
        },
        "outputId": "ff53db28-cd10-492d-d451-ef22f0087bce"
      },
      "outputs": [
        {
          "output_type": "execute_result",
          "data": {
            "text/plain": [
              "0.8510666666666665"
            ]
          },
          "metadata": {},
          "execution_count": 506
        }
      ],
      "source": [
        "#  Mean cross-validated score of the best model configuration\n",
        "model_grid_xgb.best_score_"
      ]
    },
    {
      "cell_type": "code",
      "execution_count": null,
      "metadata": {
        "id": "ooQt5VcLOrAP",
        "colab": {
          "base_uri": "https://localhost:8080/"
        },
        "outputId": "598b8f18-22bd-40a4-d7ed-ee3db3e7201b"
      },
      "outputs": [
        {
          "output_type": "stream",
          "name": "stdout",
          "text": [
            "Prediction with whole training set (much more optimistic)\n",
            "Accuracy is 0.9641333333333333\n",
            "F1 score is 0.9493313241665097\n",
            "Recall is 0.9298892988929889\n",
            "Precision is 0.9696036937283571\n"
          ]
        }
      ],
      "source": [
        "# Predicting the target variable using the trained model on the entire training set\n",
        "y_pred = model_grid_xgb.predict(X)\n",
        "\n",
        "# Print predicition results\n",
        "print('Prediction with whole training set (much more optimistic)')\n",
        "print(f'Accuracy is {accuracy_score(y, y_pred)}')\n",
        "print(f'F1 score is {f1_score(y, y_pred)}')\n",
        "print(f'Recall is {recall_score(y, y_pred)}')\n",
        "print(f'Precision is {precision_score(y, y_pred)}')"
      ]
    },
    {
      "cell_type": "markdown",
      "metadata": {
        "id": "yQh-k8chPGuw"
      },
      "source": [
        "check if accuracy of 1 is normal"
      ]
    },
    {
      "cell_type": "markdown",
      "metadata": {
        "id": "bFWaeHZ_QnGv"
      },
      "source": [
        "# 4. Decision Tree"
      ]
    },
    {
      "cell_type": "markdown",
      "source": [
        "A decision tree is a powerful algorithm used for classification tasks. It partitions the feature space into a tree-like structure based on the values of input features. Each internal node represents a decision based on a feature and each leaf node corresponds to a class label."
      ],
      "metadata": {
        "id": "PLh93rCs_qhA"
      }
    },
    {
      "cell_type": "code",
      "execution_count": null,
      "metadata": {
        "id": "DTpwYwsYQsbl"
      },
      "outputs": [],
      "source": [
        "# Importing necessary libraries\n",
        "from sklearn.tree import DecisionTreeClassifier"
      ]
    },
    {
      "cell_type": "code",
      "execution_count": null,
      "metadata": {
        "id": "V_v-JnBiQvnS",
        "colab": {
          "base_uri": "https://localhost:8080/",
          "height": 135
        },
        "outputId": "83446db3-bca4-4373-b132-24d9fbd021eb"
      },
      "outputs": [
        {
          "output_type": "stream",
          "name": "stdout",
          "text": [
            "Fitting 5 folds for each of 36 candidates, totalling 180 fits\n"
          ]
        },
        {
          "output_type": "execute_result",
          "data": {
            "text/plain": [
              "GridSearchCV(cv=5, estimator=DecisionTreeClassifier(), n_jobs=-1,\n",
              "             param_grid={'max_depth': [None, 3, 5],\n",
              "                         'max_features': ['auto', 'sqrt', 'log2'],\n",
              "                         'min_samples_leaf': [1, 2],\n",
              "                         'min_samples_split': [2, 5]},\n",
              "             verbose=2)"
            ],
            "text/html": [
              "<style>#sk-container-id-81 {color: black;background-color: white;}#sk-container-id-81 pre{padding: 0;}#sk-container-id-81 div.sk-toggleable {background-color: white;}#sk-container-id-81 label.sk-toggleable__label {cursor: pointer;display: block;width: 100%;margin-bottom: 0;padding: 0.3em;box-sizing: border-box;text-align: center;}#sk-container-id-81 label.sk-toggleable__label-arrow:before {content: \"▸\";float: left;margin-right: 0.25em;color: #696969;}#sk-container-id-81 label.sk-toggleable__label-arrow:hover:before {color: black;}#sk-container-id-81 div.sk-estimator:hover label.sk-toggleable__label-arrow:before {color: black;}#sk-container-id-81 div.sk-toggleable__content {max-height: 0;max-width: 0;overflow: hidden;text-align: left;background-color: #f0f8ff;}#sk-container-id-81 div.sk-toggleable__content pre {margin: 0.2em;color: black;border-radius: 0.25em;background-color: #f0f8ff;}#sk-container-id-81 input.sk-toggleable__control:checked~div.sk-toggleable__content {max-height: 200px;max-width: 100%;overflow: auto;}#sk-container-id-81 input.sk-toggleable__control:checked~label.sk-toggleable__label-arrow:before {content: \"▾\";}#sk-container-id-81 div.sk-estimator input.sk-toggleable__control:checked~label.sk-toggleable__label {background-color: #d4ebff;}#sk-container-id-81 div.sk-label input.sk-toggleable__control:checked~label.sk-toggleable__label {background-color: #d4ebff;}#sk-container-id-81 input.sk-hidden--visually {border: 0;clip: rect(1px 1px 1px 1px);clip: rect(1px, 1px, 1px, 1px);height: 1px;margin: -1px;overflow: hidden;padding: 0;position: absolute;width: 1px;}#sk-container-id-81 div.sk-estimator {font-family: monospace;background-color: #f0f8ff;border: 1px dotted black;border-radius: 0.25em;box-sizing: border-box;margin-bottom: 0.5em;}#sk-container-id-81 div.sk-estimator:hover {background-color: #d4ebff;}#sk-container-id-81 div.sk-parallel-item::after {content: \"\";width: 100%;border-bottom: 1px solid gray;flex-grow: 1;}#sk-container-id-81 div.sk-label:hover label.sk-toggleable__label {background-color: #d4ebff;}#sk-container-id-81 div.sk-serial::before {content: \"\";position: absolute;border-left: 1px solid gray;box-sizing: border-box;top: 0;bottom: 0;left: 50%;z-index: 0;}#sk-container-id-81 div.sk-serial {display: flex;flex-direction: column;align-items: center;background-color: white;padding-right: 0.2em;padding-left: 0.2em;position: relative;}#sk-container-id-81 div.sk-item {position: relative;z-index: 1;}#sk-container-id-81 div.sk-parallel {display: flex;align-items: stretch;justify-content: center;background-color: white;position: relative;}#sk-container-id-81 div.sk-item::before, #sk-container-id-81 div.sk-parallel-item::before {content: \"\";position: absolute;border-left: 1px solid gray;box-sizing: border-box;top: 0;bottom: 0;left: 50%;z-index: -1;}#sk-container-id-81 div.sk-parallel-item {display: flex;flex-direction: column;z-index: 1;position: relative;background-color: white;}#sk-container-id-81 div.sk-parallel-item:first-child::after {align-self: flex-end;width: 50%;}#sk-container-id-81 div.sk-parallel-item:last-child::after {align-self: flex-start;width: 50%;}#sk-container-id-81 div.sk-parallel-item:only-child::after {width: 0;}#sk-container-id-81 div.sk-dashed-wrapped {border: 1px dashed gray;margin: 0 0.4em 0.5em 0.4em;box-sizing: border-box;padding-bottom: 0.4em;background-color: white;}#sk-container-id-81 div.sk-label label {font-family: monospace;font-weight: bold;display: inline-block;line-height: 1.2em;}#sk-container-id-81 div.sk-label-container {text-align: center;}#sk-container-id-81 div.sk-container {/* jupyter's `normalize.less` sets `[hidden] { display: none; }` but bootstrap.min.css set `[hidden] { display: none !important; }` so we also need the `!important` here to be able to override the default hidden behavior on the sphinx rendered scikit-learn.org. See: https://github.com/scikit-learn/scikit-learn/issues/21755 */display: inline-block !important;position: relative;}#sk-container-id-81 div.sk-text-repr-fallback {display: none;}</style><div id=\"sk-container-id-81\" class=\"sk-top-container\"><div class=\"sk-text-repr-fallback\"><pre>GridSearchCV(cv=5, estimator=DecisionTreeClassifier(), n_jobs=-1,\n",
              "             param_grid={&#x27;max_depth&#x27;: [None, 3, 5],\n",
              "                         &#x27;max_features&#x27;: [&#x27;auto&#x27;, &#x27;sqrt&#x27;, &#x27;log2&#x27;],\n",
              "                         &#x27;min_samples_leaf&#x27;: [1, 2],\n",
              "                         &#x27;min_samples_split&#x27;: [2, 5]},\n",
              "             verbose=2)</pre><b>In a Jupyter environment, please rerun this cell to show the HTML representation or trust the notebook. <br />On GitHub, the HTML representation is unable to render, please try loading this page with nbviewer.org.</b></div><div class=\"sk-container\" hidden><div class=\"sk-item sk-dashed-wrapped\"><div class=\"sk-label-container\"><div class=\"sk-label sk-toggleable\"><input class=\"sk-toggleable__control sk-hidden--visually\" id=\"sk-estimator-id-161\" type=\"checkbox\" ><label for=\"sk-estimator-id-161\" class=\"sk-toggleable__label sk-toggleable__label-arrow\">GridSearchCV</label><div class=\"sk-toggleable__content\"><pre>GridSearchCV(cv=5, estimator=DecisionTreeClassifier(), n_jobs=-1,\n",
              "             param_grid={&#x27;max_depth&#x27;: [None, 3, 5],\n",
              "                         &#x27;max_features&#x27;: [&#x27;auto&#x27;, &#x27;sqrt&#x27;, &#x27;log2&#x27;],\n",
              "                         &#x27;min_samples_leaf&#x27;: [1, 2],\n",
              "                         &#x27;min_samples_split&#x27;: [2, 5]},\n",
              "             verbose=2)</pre></div></div></div><div class=\"sk-parallel\"><div class=\"sk-parallel-item\"><div class=\"sk-item\"><div class=\"sk-label-container\"><div class=\"sk-label sk-toggleable\"><input class=\"sk-toggleable__control sk-hidden--visually\" id=\"sk-estimator-id-162\" type=\"checkbox\" ><label for=\"sk-estimator-id-162\" class=\"sk-toggleable__label sk-toggleable__label-arrow\">estimator: DecisionTreeClassifier</label><div class=\"sk-toggleable__content\"><pre>DecisionTreeClassifier()</pre></div></div></div><div class=\"sk-serial\"><div class=\"sk-item\"><div class=\"sk-estimator sk-toggleable\"><input class=\"sk-toggleable__control sk-hidden--visually\" id=\"sk-estimator-id-163\" type=\"checkbox\" ><label for=\"sk-estimator-id-163\" class=\"sk-toggleable__label sk-toggleable__label-arrow\">DecisionTreeClassifier</label><div class=\"sk-toggleable__content\"><pre>DecisionTreeClassifier()</pre></div></div></div></div></div></div></div></div></div></div>"
            ]
          },
          "metadata": {},
          "execution_count": 509
        }
      ],
      "source": [
        "# Define the parameter grid for Decision Tree\n",
        "params_dt = {\n",
        "    'max_depth': [None, 3, 5],\n",
        "    'min_samples_split': [2, 5],\n",
        "    'min_samples_leaf': [1, 2],\n",
        "    'max_features': ['auto', 'sqrt', 'log2']\n",
        "}\n",
        "\n",
        "# Instantiate DecisionTreeClassifier\n",
        "dt_classifier = DecisionTreeClassifier()\n",
        "\n",
        "# Instantiate GridSearchCV\n",
        "model_grid = GridSearchCV(estimator=dt_classifier, param_grid=params_dt, cv=5, verbose=2, n_jobs=-1)\n",
        "\n",
        "# Fit GridSearchCV\n",
        "model_grid.fit(X, y)"
      ]
    },
    {
      "cell_type": "code",
      "execution_count": null,
      "metadata": {
        "id": "dHsA-oDyQ39o",
        "colab": {
          "base_uri": "https://localhost:8080/"
        },
        "outputId": "71018367-059c-4390-9457-ed08c6265c60"
      },
      "outputs": [
        {
          "output_type": "execute_result",
          "data": {
            "text/plain": [
              "0.7772"
            ]
          },
          "metadata": {},
          "execution_count": 510
        }
      ],
      "source": [
        "#  Mean cross-validated score of the best model configuration\n",
        "model_grid.best_score_"
      ]
    },
    {
      "cell_type": "code",
      "source": [
        "# Model configuration that yielded the highest performance based on the evaluation metric & cross-validation\n",
        "model_grid.best_estimator_"
      ],
      "metadata": {
        "colab": {
          "base_uri": "https://localhost:8080/",
          "height": 74
        },
        "id": "0x7JNvuDvZ_u",
        "outputId": "227def20-abf4-4d9d-bd66-07dbbab228df"
      },
      "execution_count": null,
      "outputs": [
        {
          "output_type": "execute_result",
          "data": {
            "text/plain": [
              "DecisionTreeClassifier(max_features='log2', min_samples_leaf=2)"
            ],
            "text/html": [
              "<style>#sk-container-id-82 {color: black;background-color: white;}#sk-container-id-82 pre{padding: 0;}#sk-container-id-82 div.sk-toggleable {background-color: white;}#sk-container-id-82 label.sk-toggleable__label {cursor: pointer;display: block;width: 100%;margin-bottom: 0;padding: 0.3em;box-sizing: border-box;text-align: center;}#sk-container-id-82 label.sk-toggleable__label-arrow:before {content: \"▸\";float: left;margin-right: 0.25em;color: #696969;}#sk-container-id-82 label.sk-toggleable__label-arrow:hover:before {color: black;}#sk-container-id-82 div.sk-estimator:hover label.sk-toggleable__label-arrow:before {color: black;}#sk-container-id-82 div.sk-toggleable__content {max-height: 0;max-width: 0;overflow: hidden;text-align: left;background-color: #f0f8ff;}#sk-container-id-82 div.sk-toggleable__content pre {margin: 0.2em;color: black;border-radius: 0.25em;background-color: #f0f8ff;}#sk-container-id-82 input.sk-toggleable__control:checked~div.sk-toggleable__content {max-height: 200px;max-width: 100%;overflow: auto;}#sk-container-id-82 input.sk-toggleable__control:checked~label.sk-toggleable__label-arrow:before {content: \"▾\";}#sk-container-id-82 div.sk-estimator input.sk-toggleable__control:checked~label.sk-toggleable__label {background-color: #d4ebff;}#sk-container-id-82 div.sk-label input.sk-toggleable__control:checked~label.sk-toggleable__label {background-color: #d4ebff;}#sk-container-id-82 input.sk-hidden--visually {border: 0;clip: rect(1px 1px 1px 1px);clip: rect(1px, 1px, 1px, 1px);height: 1px;margin: -1px;overflow: hidden;padding: 0;position: absolute;width: 1px;}#sk-container-id-82 div.sk-estimator {font-family: monospace;background-color: #f0f8ff;border: 1px dotted black;border-radius: 0.25em;box-sizing: border-box;margin-bottom: 0.5em;}#sk-container-id-82 div.sk-estimator:hover {background-color: #d4ebff;}#sk-container-id-82 div.sk-parallel-item::after {content: \"\";width: 100%;border-bottom: 1px solid gray;flex-grow: 1;}#sk-container-id-82 div.sk-label:hover label.sk-toggleable__label {background-color: #d4ebff;}#sk-container-id-82 div.sk-serial::before {content: \"\";position: absolute;border-left: 1px solid gray;box-sizing: border-box;top: 0;bottom: 0;left: 50%;z-index: 0;}#sk-container-id-82 div.sk-serial {display: flex;flex-direction: column;align-items: center;background-color: white;padding-right: 0.2em;padding-left: 0.2em;position: relative;}#sk-container-id-82 div.sk-item {position: relative;z-index: 1;}#sk-container-id-82 div.sk-parallel {display: flex;align-items: stretch;justify-content: center;background-color: white;position: relative;}#sk-container-id-82 div.sk-item::before, #sk-container-id-82 div.sk-parallel-item::before {content: \"\";position: absolute;border-left: 1px solid gray;box-sizing: border-box;top: 0;bottom: 0;left: 50%;z-index: -1;}#sk-container-id-82 div.sk-parallel-item {display: flex;flex-direction: column;z-index: 1;position: relative;background-color: white;}#sk-container-id-82 div.sk-parallel-item:first-child::after {align-self: flex-end;width: 50%;}#sk-container-id-82 div.sk-parallel-item:last-child::after {align-self: flex-start;width: 50%;}#sk-container-id-82 div.sk-parallel-item:only-child::after {width: 0;}#sk-container-id-82 div.sk-dashed-wrapped {border: 1px dashed gray;margin: 0 0.4em 0.5em 0.4em;box-sizing: border-box;padding-bottom: 0.4em;background-color: white;}#sk-container-id-82 div.sk-label label {font-family: monospace;font-weight: bold;display: inline-block;line-height: 1.2em;}#sk-container-id-82 div.sk-label-container {text-align: center;}#sk-container-id-82 div.sk-container {/* jupyter's `normalize.less` sets `[hidden] { display: none; }` but bootstrap.min.css set `[hidden] { display: none !important; }` so we also need the `!important` here to be able to override the default hidden behavior on the sphinx rendered scikit-learn.org. See: https://github.com/scikit-learn/scikit-learn/issues/21755 */display: inline-block !important;position: relative;}#sk-container-id-82 div.sk-text-repr-fallback {display: none;}</style><div id=\"sk-container-id-82\" class=\"sk-top-container\"><div class=\"sk-text-repr-fallback\"><pre>DecisionTreeClassifier(max_features=&#x27;log2&#x27;, min_samples_leaf=2)</pre><b>In a Jupyter environment, please rerun this cell to show the HTML representation or trust the notebook. <br />On GitHub, the HTML representation is unable to render, please try loading this page with nbviewer.org.</b></div><div class=\"sk-container\" hidden><div class=\"sk-item\"><div class=\"sk-estimator sk-toggleable\"><input class=\"sk-toggleable__control sk-hidden--visually\" id=\"sk-estimator-id-164\" type=\"checkbox\" checked><label for=\"sk-estimator-id-164\" class=\"sk-toggleable__label sk-toggleable__label-arrow\">DecisionTreeClassifier</label><div class=\"sk-toggleable__content\"><pre>DecisionTreeClassifier(max_features=&#x27;log2&#x27;, min_samples_leaf=2)</pre></div></div></div></div></div>"
            ]
          },
          "metadata": {},
          "execution_count": 511
        }
      ]
    },
    {
      "cell_type": "code",
      "execution_count": null,
      "metadata": {
        "id": "m10-hdD9Q_AD",
        "colab": {
          "base_uri": "https://localhost:8080/"
        },
        "outputId": "9385955e-4c3b-4cae-ca2c-ac9778c15093"
      },
      "outputs": [
        {
          "output_type": "execute_result",
          "data": {
            "text/plain": [
              "{'max_depth': None,\n",
              " 'max_features': 'log2',\n",
              " 'min_samples_leaf': 2,\n",
              " 'min_samples_split': 2}"
            ]
          },
          "metadata": {},
          "execution_count": 512
        }
      ],
      "source": [
        "# Accessing the best hyperparameters found by the GridSearchCV for the decision tree\n",
        "model_grid.best_params_"
      ]
    },
    {
      "cell_type": "code",
      "execution_count": null,
      "metadata": {
        "id": "AZ0da9m8RHK6",
        "colab": {
          "base_uri": "https://localhost:8080/"
        },
        "outputId": "d09df763-eda6-435a-f1c0-258c2f1ca7ad"
      },
      "outputs": [
        {
          "output_type": "stream",
          "name": "stdout",
          "text": [
            "Prediction with whole training set (much more optimistic)\n",
            "Accuracy is 0.9586666666666667\n",
            "F1 score is 0.9402697495183044\n",
            "Recall is 0.9003690036900369\n",
            "Precision is 0.9838709677419355\n"
          ]
        }
      ],
      "source": [
        "# Predicting the target variable using the trained model on the entire training set\n",
        "y_pred = model_grid.predict(X)\n",
        "\n",
        "# Print predicition results\n",
        "print('Prediction with whole training set (much more optimistic)')\n",
        "print(f'Accuracy is {accuracy_score(y, y_pred)}')\n",
        "print(f'F1 score is {f1_score(y, y_pred)}')\n",
        "print(f'Recall is {recall_score(y, y_pred)}')\n",
        "print(f'Precision is {precision_score(y, y_pred)}')"
      ]
    },
    {
      "cell_type": "markdown",
      "metadata": {
        "id": "TC4pzl77SlS5"
      },
      "source": [
        "# 5. SVM"
      ]
    },
    {
      "cell_type": "markdown",
      "source": [
        "\n",
        "Support Vector Machine is a supervised learning algorithm used for classification tasks. It finds the optimal hyperplane that best separates different classes in the feature space, maximizing the margin between classes."
      ],
      "metadata": {
        "id": "Ht-Hoz6zAK5c"
      }
    },
    {
      "cell_type": "code",
      "execution_count": null,
      "metadata": {
        "id": "hM3v6IRwSoyq"
      },
      "outputs": [],
      "source": [
        "# Importing necessary libraries\n",
        "from sklearn.svm import SVC"
      ]
    },
    {
      "cell_type": "code",
      "execution_count": null,
      "metadata": {
        "id": "OH-wgoaTSvij",
        "colab": {
          "base_uri": "https://localhost:8080/",
          "height": 135
        },
        "outputId": "4365b0f2-4d8e-45f0-ee88-5f55385f7db7"
      },
      "outputs": [
        {
          "output_type": "stream",
          "name": "stdout",
          "text": [
            "Fitting 5 folds for each of 6 candidates, totalling 30 fits\n"
          ]
        },
        {
          "output_type": "execute_result",
          "data": {
            "text/plain": [
              "GridSearchCV(cv=5, estimator=SVC(), n_jobs=-1,\n",
              "             param_grid={'C': [0.1, 1, 10], 'gamma': ['scale'],\n",
              "                         'kernel': ['linear', 'rbf']},\n",
              "             verbose=2)"
            ],
            "text/html": [
              "<style>#sk-container-id-83 {color: black;background-color: white;}#sk-container-id-83 pre{padding: 0;}#sk-container-id-83 div.sk-toggleable {background-color: white;}#sk-container-id-83 label.sk-toggleable__label {cursor: pointer;display: block;width: 100%;margin-bottom: 0;padding: 0.3em;box-sizing: border-box;text-align: center;}#sk-container-id-83 label.sk-toggleable__label-arrow:before {content: \"▸\";float: left;margin-right: 0.25em;color: #696969;}#sk-container-id-83 label.sk-toggleable__label-arrow:hover:before {color: black;}#sk-container-id-83 div.sk-estimator:hover label.sk-toggleable__label-arrow:before {color: black;}#sk-container-id-83 div.sk-toggleable__content {max-height: 0;max-width: 0;overflow: hidden;text-align: left;background-color: #f0f8ff;}#sk-container-id-83 div.sk-toggleable__content pre {margin: 0.2em;color: black;border-radius: 0.25em;background-color: #f0f8ff;}#sk-container-id-83 input.sk-toggleable__control:checked~div.sk-toggleable__content {max-height: 200px;max-width: 100%;overflow: auto;}#sk-container-id-83 input.sk-toggleable__control:checked~label.sk-toggleable__label-arrow:before {content: \"▾\";}#sk-container-id-83 div.sk-estimator input.sk-toggleable__control:checked~label.sk-toggleable__label {background-color: #d4ebff;}#sk-container-id-83 div.sk-label input.sk-toggleable__control:checked~label.sk-toggleable__label {background-color: #d4ebff;}#sk-container-id-83 input.sk-hidden--visually {border: 0;clip: rect(1px 1px 1px 1px);clip: rect(1px, 1px, 1px, 1px);height: 1px;margin: -1px;overflow: hidden;padding: 0;position: absolute;width: 1px;}#sk-container-id-83 div.sk-estimator {font-family: monospace;background-color: #f0f8ff;border: 1px dotted black;border-radius: 0.25em;box-sizing: border-box;margin-bottom: 0.5em;}#sk-container-id-83 div.sk-estimator:hover {background-color: #d4ebff;}#sk-container-id-83 div.sk-parallel-item::after {content: \"\";width: 100%;border-bottom: 1px solid gray;flex-grow: 1;}#sk-container-id-83 div.sk-label:hover label.sk-toggleable__label {background-color: #d4ebff;}#sk-container-id-83 div.sk-serial::before {content: \"\";position: absolute;border-left: 1px solid gray;box-sizing: border-box;top: 0;bottom: 0;left: 50%;z-index: 0;}#sk-container-id-83 div.sk-serial {display: flex;flex-direction: column;align-items: center;background-color: white;padding-right: 0.2em;padding-left: 0.2em;position: relative;}#sk-container-id-83 div.sk-item {position: relative;z-index: 1;}#sk-container-id-83 div.sk-parallel {display: flex;align-items: stretch;justify-content: center;background-color: white;position: relative;}#sk-container-id-83 div.sk-item::before, #sk-container-id-83 div.sk-parallel-item::before {content: \"\";position: absolute;border-left: 1px solid gray;box-sizing: border-box;top: 0;bottom: 0;left: 50%;z-index: -1;}#sk-container-id-83 div.sk-parallel-item {display: flex;flex-direction: column;z-index: 1;position: relative;background-color: white;}#sk-container-id-83 div.sk-parallel-item:first-child::after {align-self: flex-end;width: 50%;}#sk-container-id-83 div.sk-parallel-item:last-child::after {align-self: flex-start;width: 50%;}#sk-container-id-83 div.sk-parallel-item:only-child::after {width: 0;}#sk-container-id-83 div.sk-dashed-wrapped {border: 1px dashed gray;margin: 0 0.4em 0.5em 0.4em;box-sizing: border-box;padding-bottom: 0.4em;background-color: white;}#sk-container-id-83 div.sk-label label {font-family: monospace;font-weight: bold;display: inline-block;line-height: 1.2em;}#sk-container-id-83 div.sk-label-container {text-align: center;}#sk-container-id-83 div.sk-container {/* jupyter's `normalize.less` sets `[hidden] { display: none; }` but bootstrap.min.css set `[hidden] { display: none !important; }` so we also need the `!important` here to be able to override the default hidden behavior on the sphinx rendered scikit-learn.org. See: https://github.com/scikit-learn/scikit-learn/issues/21755 */display: inline-block !important;position: relative;}#sk-container-id-83 div.sk-text-repr-fallback {display: none;}</style><div id=\"sk-container-id-83\" class=\"sk-top-container\"><div class=\"sk-text-repr-fallback\"><pre>GridSearchCV(cv=5, estimator=SVC(), n_jobs=-1,\n",
              "             param_grid={&#x27;C&#x27;: [0.1, 1, 10], &#x27;gamma&#x27;: [&#x27;scale&#x27;],\n",
              "                         &#x27;kernel&#x27;: [&#x27;linear&#x27;, &#x27;rbf&#x27;]},\n",
              "             verbose=2)</pre><b>In a Jupyter environment, please rerun this cell to show the HTML representation or trust the notebook. <br />On GitHub, the HTML representation is unable to render, please try loading this page with nbviewer.org.</b></div><div class=\"sk-container\" hidden><div class=\"sk-item sk-dashed-wrapped\"><div class=\"sk-label-container\"><div class=\"sk-label sk-toggleable\"><input class=\"sk-toggleable__control sk-hidden--visually\" id=\"sk-estimator-id-165\" type=\"checkbox\" ><label for=\"sk-estimator-id-165\" class=\"sk-toggleable__label sk-toggleable__label-arrow\">GridSearchCV</label><div class=\"sk-toggleable__content\"><pre>GridSearchCV(cv=5, estimator=SVC(), n_jobs=-1,\n",
              "             param_grid={&#x27;C&#x27;: [0.1, 1, 10], &#x27;gamma&#x27;: [&#x27;scale&#x27;],\n",
              "                         &#x27;kernel&#x27;: [&#x27;linear&#x27;, &#x27;rbf&#x27;]},\n",
              "             verbose=2)</pre></div></div></div><div class=\"sk-parallel\"><div class=\"sk-parallel-item\"><div class=\"sk-item\"><div class=\"sk-label-container\"><div class=\"sk-label sk-toggleable\"><input class=\"sk-toggleable__control sk-hidden--visually\" id=\"sk-estimator-id-166\" type=\"checkbox\" ><label for=\"sk-estimator-id-166\" class=\"sk-toggleable__label sk-toggleable__label-arrow\">estimator: SVC</label><div class=\"sk-toggleable__content\"><pre>SVC()</pre></div></div></div><div class=\"sk-serial\"><div class=\"sk-item\"><div class=\"sk-estimator sk-toggleable\"><input class=\"sk-toggleable__control sk-hidden--visually\" id=\"sk-estimator-id-167\" type=\"checkbox\" ><label for=\"sk-estimator-id-167\" class=\"sk-toggleable__label sk-toggleable__label-arrow\">SVC</label><div class=\"sk-toggleable__content\"><pre>SVC()</pre></div></div></div></div></div></div></div></div></div></div>"
            ]
          },
          "metadata": {},
          "execution_count": 515
        }
      ],
      "source": [
        "# Define the parameter grid for Support Vector Classifier (SVC)\n",
        "params_svc = {\n",
        "    'C': [0.1, 1, 10], # Regularization parameter\n",
        "    'kernel': ['linear', 'rbf'], # Type of kernel function\n",
        "    'gamma': ['scale'] # Kernel coefficient for 'rbf' kernel\n",
        "}\n",
        "\n",
        "# Instantiating Support Vector Classifier\n",
        "svc = SVC()\n",
        "\n",
        "# Instantiating Support Vector Classifier\n",
        "model_grid = GridSearchCV(svc, param_grid=params_svc, cv=5, verbose=2, n_jobs=-1)\n",
        "\n",
        "# Fitting GridSearchCV to find the best hyperparameters\n",
        "model_grid.fit(X, y)"
      ]
    },
    {
      "cell_type": "code",
      "execution_count": null,
      "metadata": {
        "id": "FCcNbzrsTgCh",
        "colab": {
          "base_uri": "https://localhost:8080/"
        },
        "outputId": "2d42b718-ed4e-4370-b205-118b9dd4d9df"
      },
      "outputs": [
        {
          "output_type": "execute_result",
          "data": {
            "text/plain": [
              "{'C': 10, 'gamma': 'scale', 'kernel': 'rbf'}"
            ]
          },
          "metadata": {},
          "execution_count": 516
        }
      ],
      "source": [
        "# Accessing the best hyperparameters found by the GridSearchCV for the SVM\n",
        "model_grid.best_params_"
      ]
    },
    {
      "cell_type": "code",
      "execution_count": null,
      "metadata": {
        "id": "tXrUxnrBTjJ9",
        "colab": {
          "base_uri": "https://localhost:8080/"
        },
        "outputId": "e34d304a-b3a9-43ae-d245-a68a659db521"
      },
      "outputs": [
        {
          "output_type": "execute_result",
          "data": {
            "text/plain": [
              "0.866"
            ]
          },
          "metadata": {},
          "execution_count": 517
        }
      ],
      "source": [
        "# Mean cross-validated score of the best model configuration\n",
        "model_grid.best_score_"
      ]
    },
    {
      "cell_type": "code",
      "source": [
        "# Model configuration that yielded the highest performance based on the evaluation metric & cross-validation\n",
        "model_grid.best_estimator_"
      ],
      "metadata": {
        "colab": {
          "base_uri": "https://localhost:8080/",
          "height": 74
        },
        "id": "2c78ZXBrvf8G",
        "outputId": "4319ddf1-3fa6-4cec-fdfe-232de8aeebc2"
      },
      "execution_count": null,
      "outputs": [
        {
          "output_type": "execute_result",
          "data": {
            "text/plain": [
              "SVC(C=10)"
            ],
            "text/html": [
              "<style>#sk-container-id-84 {color: black;background-color: white;}#sk-container-id-84 pre{padding: 0;}#sk-container-id-84 div.sk-toggleable {background-color: white;}#sk-container-id-84 label.sk-toggleable__label {cursor: pointer;display: block;width: 100%;margin-bottom: 0;padding: 0.3em;box-sizing: border-box;text-align: center;}#sk-container-id-84 label.sk-toggleable__label-arrow:before {content: \"▸\";float: left;margin-right: 0.25em;color: #696969;}#sk-container-id-84 label.sk-toggleable__label-arrow:hover:before {color: black;}#sk-container-id-84 div.sk-estimator:hover label.sk-toggleable__label-arrow:before {color: black;}#sk-container-id-84 div.sk-toggleable__content {max-height: 0;max-width: 0;overflow: hidden;text-align: left;background-color: #f0f8ff;}#sk-container-id-84 div.sk-toggleable__content pre {margin: 0.2em;color: black;border-radius: 0.25em;background-color: #f0f8ff;}#sk-container-id-84 input.sk-toggleable__control:checked~div.sk-toggleable__content {max-height: 200px;max-width: 100%;overflow: auto;}#sk-container-id-84 input.sk-toggleable__control:checked~label.sk-toggleable__label-arrow:before {content: \"▾\";}#sk-container-id-84 div.sk-estimator input.sk-toggleable__control:checked~label.sk-toggleable__label {background-color: #d4ebff;}#sk-container-id-84 div.sk-label input.sk-toggleable__control:checked~label.sk-toggleable__label {background-color: #d4ebff;}#sk-container-id-84 input.sk-hidden--visually {border: 0;clip: rect(1px 1px 1px 1px);clip: rect(1px, 1px, 1px, 1px);height: 1px;margin: -1px;overflow: hidden;padding: 0;position: absolute;width: 1px;}#sk-container-id-84 div.sk-estimator {font-family: monospace;background-color: #f0f8ff;border: 1px dotted black;border-radius: 0.25em;box-sizing: border-box;margin-bottom: 0.5em;}#sk-container-id-84 div.sk-estimator:hover {background-color: #d4ebff;}#sk-container-id-84 div.sk-parallel-item::after {content: \"\";width: 100%;border-bottom: 1px solid gray;flex-grow: 1;}#sk-container-id-84 div.sk-label:hover label.sk-toggleable__label {background-color: #d4ebff;}#sk-container-id-84 div.sk-serial::before {content: \"\";position: absolute;border-left: 1px solid gray;box-sizing: border-box;top: 0;bottom: 0;left: 50%;z-index: 0;}#sk-container-id-84 div.sk-serial {display: flex;flex-direction: column;align-items: center;background-color: white;padding-right: 0.2em;padding-left: 0.2em;position: relative;}#sk-container-id-84 div.sk-item {position: relative;z-index: 1;}#sk-container-id-84 div.sk-parallel {display: flex;align-items: stretch;justify-content: center;background-color: white;position: relative;}#sk-container-id-84 div.sk-item::before, #sk-container-id-84 div.sk-parallel-item::before {content: \"\";position: absolute;border-left: 1px solid gray;box-sizing: border-box;top: 0;bottom: 0;left: 50%;z-index: -1;}#sk-container-id-84 div.sk-parallel-item {display: flex;flex-direction: column;z-index: 1;position: relative;background-color: white;}#sk-container-id-84 div.sk-parallel-item:first-child::after {align-self: flex-end;width: 50%;}#sk-container-id-84 div.sk-parallel-item:last-child::after {align-self: flex-start;width: 50%;}#sk-container-id-84 div.sk-parallel-item:only-child::after {width: 0;}#sk-container-id-84 div.sk-dashed-wrapped {border: 1px dashed gray;margin: 0 0.4em 0.5em 0.4em;box-sizing: border-box;padding-bottom: 0.4em;background-color: white;}#sk-container-id-84 div.sk-label label {font-family: monospace;font-weight: bold;display: inline-block;line-height: 1.2em;}#sk-container-id-84 div.sk-label-container {text-align: center;}#sk-container-id-84 div.sk-container {/* jupyter's `normalize.less` sets `[hidden] { display: none; }` but bootstrap.min.css set `[hidden] { display: none !important; }` so we also need the `!important` here to be able to override the default hidden behavior on the sphinx rendered scikit-learn.org. See: https://github.com/scikit-learn/scikit-learn/issues/21755 */display: inline-block !important;position: relative;}#sk-container-id-84 div.sk-text-repr-fallback {display: none;}</style><div id=\"sk-container-id-84\" class=\"sk-top-container\"><div class=\"sk-text-repr-fallback\"><pre>SVC(C=10)</pre><b>In a Jupyter environment, please rerun this cell to show the HTML representation or trust the notebook. <br />On GitHub, the HTML representation is unable to render, please try loading this page with nbviewer.org.</b></div><div class=\"sk-container\" hidden><div class=\"sk-item\"><div class=\"sk-estimator sk-toggleable\"><input class=\"sk-toggleable__control sk-hidden--visually\" id=\"sk-estimator-id-168\" type=\"checkbox\" checked><label for=\"sk-estimator-id-168\" class=\"sk-toggleable__label sk-toggleable__label-arrow\">SVC</label><div class=\"sk-toggleable__content\"><pre>SVC(C=10)</pre></div></div></div></div></div>"
            ]
          },
          "metadata": {},
          "execution_count": 518
        }
      ]
    },
    {
      "cell_type": "code",
      "execution_count": null,
      "metadata": {
        "id": "6EJzJsQBTmMU",
        "colab": {
          "base_uri": "https://localhost:8080/"
        },
        "outputId": "8aa7bd97-6cb6-408c-a89f-ad8b659c52ab"
      },
      "outputs": [
        {
          "output_type": "execute_result",
          "data": {
            "text/plain": [
              "stabf\n",
              "0    0.638667\n",
              "1    0.361333\n",
              "Name: proportion, dtype: float64"
            ]
          },
          "metadata": {},
          "execution_count": 519
        }
      ],
      "source": [
        "# Counts the normalized value counts of unique values in the target variable\n",
        "y.value_counts(normalize=True)"
      ]
    },
    {
      "cell_type": "code",
      "execution_count": null,
      "metadata": {
        "id": "ZCT5eldoTr0S",
        "colab": {
          "base_uri": "https://localhost:8080/"
        },
        "outputId": "f90d3ec3-45e4-4f67-fe94-97527b21e988"
      },
      "outputs": [
        {
          "output_type": "stream",
          "name": "stdout",
          "text": [
            "Prediction with whole training set (much more optimistic)\n",
            "Accuracy is 0.8733333333333333\n",
            "F1 score is 0.8161764705882353\n",
            "Recall is 0.7782287822878229\n",
            "Precision is 0.8580146460537021\n"
          ]
        }
      ],
      "source": [
        "# Predicting the target variable using the trained model on the entire training set\n",
        "y_pred = model_grid.predict(X)\n",
        "\n",
        "# Print predicition results\n",
        "print('Prediction with whole training set (much more optimistic)')\n",
        "print(f'Accuracy is {accuracy_score(y, y_pred)}')\n",
        "print(f'F1 score is {f1_score(y, y_pred)}')\n",
        "print(f'Recall is {recall_score(y, y_pred)}')\n",
        "print(f'Precision is {precision_score(y, y_pred)}')"
      ]
    },
    {
      "cell_type": "markdown",
      "metadata": {
        "id": "Sg-YZ5RTT7zF"
      },
      "source": [
        "# 6. Logistic Regression"
      ]
    },
    {
      "cell_type": "markdown",
      "source": [
        "Logistic Regression is a linear model commonly used for binary classification tasks. It estimates the probability that an instance belongs to a particular class based on its features, applying a logistic function to the linear combination of input variables."
      ],
      "metadata": {
        "id": "RALa8D-EAXyE"
      }
    },
    {
      "cell_type": "code",
      "execution_count": null,
      "metadata": {
        "id": "bYUHJCWXUCsU"
      },
      "outputs": [],
      "source": [
        "# Importing necessary libraries\n",
        "from sklearn.linear_model import LogisticRegression"
      ]
    },
    {
      "cell_type": "code",
      "execution_count": null,
      "metadata": {
        "id": "a1i_DxamUFcA",
        "colab": {
          "base_uri": "https://localhost:8080/",
          "height": 135
        },
        "outputId": "2bf4477f-4204-4a53-b5a8-a3c39102a25e"
      },
      "outputs": [
        {
          "output_type": "stream",
          "name": "stdout",
          "text": [
            "Fitting 5 folds for each of 24 candidates, totalling 120 fits\n"
          ]
        },
        {
          "output_type": "execute_result",
          "data": {
            "text/plain": [
              "GridSearchCV(cv=5, estimator=LogisticRegression(), n_jobs=-1,\n",
              "             param_grid={'C': [0.001, 0.01, 0.1, 1, 10, 100],\n",
              "                         'penalty': ['l1', 'l2'],\n",
              "                         'solver': ['liblinear', 'saga']},\n",
              "             verbose=2)"
            ],
            "text/html": [
              "<style>#sk-container-id-85 {color: black;background-color: white;}#sk-container-id-85 pre{padding: 0;}#sk-container-id-85 div.sk-toggleable {background-color: white;}#sk-container-id-85 label.sk-toggleable__label {cursor: pointer;display: block;width: 100%;margin-bottom: 0;padding: 0.3em;box-sizing: border-box;text-align: center;}#sk-container-id-85 label.sk-toggleable__label-arrow:before {content: \"▸\";float: left;margin-right: 0.25em;color: #696969;}#sk-container-id-85 label.sk-toggleable__label-arrow:hover:before {color: black;}#sk-container-id-85 div.sk-estimator:hover label.sk-toggleable__label-arrow:before {color: black;}#sk-container-id-85 div.sk-toggleable__content {max-height: 0;max-width: 0;overflow: hidden;text-align: left;background-color: #f0f8ff;}#sk-container-id-85 div.sk-toggleable__content pre {margin: 0.2em;color: black;border-radius: 0.25em;background-color: #f0f8ff;}#sk-container-id-85 input.sk-toggleable__control:checked~div.sk-toggleable__content {max-height: 200px;max-width: 100%;overflow: auto;}#sk-container-id-85 input.sk-toggleable__control:checked~label.sk-toggleable__label-arrow:before {content: \"▾\";}#sk-container-id-85 div.sk-estimator input.sk-toggleable__control:checked~label.sk-toggleable__label {background-color: #d4ebff;}#sk-container-id-85 div.sk-label input.sk-toggleable__control:checked~label.sk-toggleable__label {background-color: #d4ebff;}#sk-container-id-85 input.sk-hidden--visually {border: 0;clip: rect(1px 1px 1px 1px);clip: rect(1px, 1px, 1px, 1px);height: 1px;margin: -1px;overflow: hidden;padding: 0;position: absolute;width: 1px;}#sk-container-id-85 div.sk-estimator {font-family: monospace;background-color: #f0f8ff;border: 1px dotted black;border-radius: 0.25em;box-sizing: border-box;margin-bottom: 0.5em;}#sk-container-id-85 div.sk-estimator:hover {background-color: #d4ebff;}#sk-container-id-85 div.sk-parallel-item::after {content: \"\";width: 100%;border-bottom: 1px solid gray;flex-grow: 1;}#sk-container-id-85 div.sk-label:hover label.sk-toggleable__label {background-color: #d4ebff;}#sk-container-id-85 div.sk-serial::before {content: \"\";position: absolute;border-left: 1px solid gray;box-sizing: border-box;top: 0;bottom: 0;left: 50%;z-index: 0;}#sk-container-id-85 div.sk-serial {display: flex;flex-direction: column;align-items: center;background-color: white;padding-right: 0.2em;padding-left: 0.2em;position: relative;}#sk-container-id-85 div.sk-item {position: relative;z-index: 1;}#sk-container-id-85 div.sk-parallel {display: flex;align-items: stretch;justify-content: center;background-color: white;position: relative;}#sk-container-id-85 div.sk-item::before, #sk-container-id-85 div.sk-parallel-item::before {content: \"\";position: absolute;border-left: 1px solid gray;box-sizing: border-box;top: 0;bottom: 0;left: 50%;z-index: -1;}#sk-container-id-85 div.sk-parallel-item {display: flex;flex-direction: column;z-index: 1;position: relative;background-color: white;}#sk-container-id-85 div.sk-parallel-item:first-child::after {align-self: flex-end;width: 50%;}#sk-container-id-85 div.sk-parallel-item:last-child::after {align-self: flex-start;width: 50%;}#sk-container-id-85 div.sk-parallel-item:only-child::after {width: 0;}#sk-container-id-85 div.sk-dashed-wrapped {border: 1px dashed gray;margin: 0 0.4em 0.5em 0.4em;box-sizing: border-box;padding-bottom: 0.4em;background-color: white;}#sk-container-id-85 div.sk-label label {font-family: monospace;font-weight: bold;display: inline-block;line-height: 1.2em;}#sk-container-id-85 div.sk-label-container {text-align: center;}#sk-container-id-85 div.sk-container {/* jupyter's `normalize.less` sets `[hidden] { display: none; }` but bootstrap.min.css set `[hidden] { display: none !important; }` so we also need the `!important` here to be able to override the default hidden behavior on the sphinx rendered scikit-learn.org. See: https://github.com/scikit-learn/scikit-learn/issues/21755 */display: inline-block !important;position: relative;}#sk-container-id-85 div.sk-text-repr-fallback {display: none;}</style><div id=\"sk-container-id-85\" class=\"sk-top-container\"><div class=\"sk-text-repr-fallback\"><pre>GridSearchCV(cv=5, estimator=LogisticRegression(), n_jobs=-1,\n",
              "             param_grid={&#x27;C&#x27;: [0.001, 0.01, 0.1, 1, 10, 100],\n",
              "                         &#x27;penalty&#x27;: [&#x27;l1&#x27;, &#x27;l2&#x27;],\n",
              "                         &#x27;solver&#x27;: [&#x27;liblinear&#x27;, &#x27;saga&#x27;]},\n",
              "             verbose=2)</pre><b>In a Jupyter environment, please rerun this cell to show the HTML representation or trust the notebook. <br />On GitHub, the HTML representation is unable to render, please try loading this page with nbviewer.org.</b></div><div class=\"sk-container\" hidden><div class=\"sk-item sk-dashed-wrapped\"><div class=\"sk-label-container\"><div class=\"sk-label sk-toggleable\"><input class=\"sk-toggleable__control sk-hidden--visually\" id=\"sk-estimator-id-169\" type=\"checkbox\" ><label for=\"sk-estimator-id-169\" class=\"sk-toggleable__label sk-toggleable__label-arrow\">GridSearchCV</label><div class=\"sk-toggleable__content\"><pre>GridSearchCV(cv=5, estimator=LogisticRegression(), n_jobs=-1,\n",
              "             param_grid={&#x27;C&#x27;: [0.001, 0.01, 0.1, 1, 10, 100],\n",
              "                         &#x27;penalty&#x27;: [&#x27;l1&#x27;, &#x27;l2&#x27;],\n",
              "                         &#x27;solver&#x27;: [&#x27;liblinear&#x27;, &#x27;saga&#x27;]},\n",
              "             verbose=2)</pre></div></div></div><div class=\"sk-parallel\"><div class=\"sk-parallel-item\"><div class=\"sk-item\"><div class=\"sk-label-container\"><div class=\"sk-label sk-toggleable\"><input class=\"sk-toggleable__control sk-hidden--visually\" id=\"sk-estimator-id-170\" type=\"checkbox\" ><label for=\"sk-estimator-id-170\" class=\"sk-toggleable__label sk-toggleable__label-arrow\">estimator: LogisticRegression</label><div class=\"sk-toggleable__content\"><pre>LogisticRegression()</pre></div></div></div><div class=\"sk-serial\"><div class=\"sk-item\"><div class=\"sk-estimator sk-toggleable\"><input class=\"sk-toggleable__control sk-hidden--visually\" id=\"sk-estimator-id-171\" type=\"checkbox\" ><label for=\"sk-estimator-id-171\" class=\"sk-toggleable__label sk-toggleable__label-arrow\">LogisticRegression</label><div class=\"sk-toggleable__content\"><pre>LogisticRegression()</pre></div></div></div></div></div></div></div></div></div></div>"
            ]
          },
          "metadata": {},
          "execution_count": 522
        }
      ],
      "source": [
        "# Define the parameter grid for Logistic Regression\n",
        "params_lr = {\n",
        "    'penalty': ['l1', 'l2'],\n",
        "    'C': [0.001, 0.01, 0.1, 1, 10, 100],\n",
        "    'solver': ['liblinear', 'saga']\n",
        "}\n",
        "\n",
        "# Instantiate LogisticRegression\n",
        "lr_classifier = LogisticRegression()\n",
        "\n",
        "# Instantiate GridSearchCV\n",
        "model_grid_lr = GridSearchCV(estimator=lr_classifier, param_grid=params_lr, cv=5, verbose=2, n_jobs=-1)\n",
        "\n",
        "# Fit GridSearchCV\n",
        "model_grid_lr.fit(X, y)"
      ]
    },
    {
      "cell_type": "code",
      "execution_count": null,
      "metadata": {
        "id": "U2GEQWIOUI9K",
        "colab": {
          "base_uri": "https://localhost:8080/"
        },
        "outputId": "ac03a8dc-7113-44e7-ec24-13df6f98ac5a"
      },
      "outputs": [
        {
          "output_type": "execute_result",
          "data": {
            "text/plain": [
              "{'C': 0.1, 'penalty': 'l1', 'solver': 'saga'}"
            ]
          },
          "metadata": {},
          "execution_count": 523
        }
      ],
      "source": [
        "# Accessing the best hyperparameters found by the GridSearchCV for the Logistic Regression\n",
        "model_grid_lr.best_params_"
      ]
    },
    {
      "cell_type": "code",
      "execution_count": null,
      "metadata": {
        "id": "uU_A2mitULlk",
        "colab": {
          "base_uri": "https://localhost:8080/"
        },
        "outputId": "f257c0ec-03d3-4860-bcd0-70d4d4366dad"
      },
      "outputs": [
        {
          "output_type": "execute_result",
          "data": {
            "text/plain": [
              "0.7888"
            ]
          },
          "metadata": {},
          "execution_count": 524
        }
      ],
      "source": [
        "#  Mean cross-validated score of the best model configuration\n",
        "model_grid_lr.best_score_"
      ]
    },
    {
      "cell_type": "code",
      "source": [
        "# Model configuration that yielded the highest performance based on the evaluation metric & cross-validation\n",
        "model_grid.best_estimator_"
      ],
      "metadata": {
        "colab": {
          "base_uri": "https://localhost:8080/",
          "height": 74
        },
        "id": "JvJSWazIvj3e",
        "outputId": "dc3cfd63-23a0-4b13-9573-3d694c609368"
      },
      "execution_count": null,
      "outputs": [
        {
          "output_type": "execute_result",
          "data": {
            "text/plain": [
              "SVC(C=10)"
            ],
            "text/html": [
              "<style>#sk-container-id-86 {color: black;background-color: white;}#sk-container-id-86 pre{padding: 0;}#sk-container-id-86 div.sk-toggleable {background-color: white;}#sk-container-id-86 label.sk-toggleable__label {cursor: pointer;display: block;width: 100%;margin-bottom: 0;padding: 0.3em;box-sizing: border-box;text-align: center;}#sk-container-id-86 label.sk-toggleable__label-arrow:before {content: \"▸\";float: left;margin-right: 0.25em;color: #696969;}#sk-container-id-86 label.sk-toggleable__label-arrow:hover:before {color: black;}#sk-container-id-86 div.sk-estimator:hover label.sk-toggleable__label-arrow:before {color: black;}#sk-container-id-86 div.sk-toggleable__content {max-height: 0;max-width: 0;overflow: hidden;text-align: left;background-color: #f0f8ff;}#sk-container-id-86 div.sk-toggleable__content pre {margin: 0.2em;color: black;border-radius: 0.25em;background-color: #f0f8ff;}#sk-container-id-86 input.sk-toggleable__control:checked~div.sk-toggleable__content {max-height: 200px;max-width: 100%;overflow: auto;}#sk-container-id-86 input.sk-toggleable__control:checked~label.sk-toggleable__label-arrow:before {content: \"▾\";}#sk-container-id-86 div.sk-estimator input.sk-toggleable__control:checked~label.sk-toggleable__label {background-color: #d4ebff;}#sk-container-id-86 div.sk-label input.sk-toggleable__control:checked~label.sk-toggleable__label {background-color: #d4ebff;}#sk-container-id-86 input.sk-hidden--visually {border: 0;clip: rect(1px 1px 1px 1px);clip: rect(1px, 1px, 1px, 1px);height: 1px;margin: -1px;overflow: hidden;padding: 0;position: absolute;width: 1px;}#sk-container-id-86 div.sk-estimator {font-family: monospace;background-color: #f0f8ff;border: 1px dotted black;border-radius: 0.25em;box-sizing: border-box;margin-bottom: 0.5em;}#sk-container-id-86 div.sk-estimator:hover {background-color: #d4ebff;}#sk-container-id-86 div.sk-parallel-item::after {content: \"\";width: 100%;border-bottom: 1px solid gray;flex-grow: 1;}#sk-container-id-86 div.sk-label:hover label.sk-toggleable__label {background-color: #d4ebff;}#sk-container-id-86 div.sk-serial::before {content: \"\";position: absolute;border-left: 1px solid gray;box-sizing: border-box;top: 0;bottom: 0;left: 50%;z-index: 0;}#sk-container-id-86 div.sk-serial {display: flex;flex-direction: column;align-items: center;background-color: white;padding-right: 0.2em;padding-left: 0.2em;position: relative;}#sk-container-id-86 div.sk-item {position: relative;z-index: 1;}#sk-container-id-86 div.sk-parallel {display: flex;align-items: stretch;justify-content: center;background-color: white;position: relative;}#sk-container-id-86 div.sk-item::before, #sk-container-id-86 div.sk-parallel-item::before {content: \"\";position: absolute;border-left: 1px solid gray;box-sizing: border-box;top: 0;bottom: 0;left: 50%;z-index: -1;}#sk-container-id-86 div.sk-parallel-item {display: flex;flex-direction: column;z-index: 1;position: relative;background-color: white;}#sk-container-id-86 div.sk-parallel-item:first-child::after {align-self: flex-end;width: 50%;}#sk-container-id-86 div.sk-parallel-item:last-child::after {align-self: flex-start;width: 50%;}#sk-container-id-86 div.sk-parallel-item:only-child::after {width: 0;}#sk-container-id-86 div.sk-dashed-wrapped {border: 1px dashed gray;margin: 0 0.4em 0.5em 0.4em;box-sizing: border-box;padding-bottom: 0.4em;background-color: white;}#sk-container-id-86 div.sk-label label {font-family: monospace;font-weight: bold;display: inline-block;line-height: 1.2em;}#sk-container-id-86 div.sk-label-container {text-align: center;}#sk-container-id-86 div.sk-container {/* jupyter's `normalize.less` sets `[hidden] { display: none; }` but bootstrap.min.css set `[hidden] { display: none !important; }` so we also need the `!important` here to be able to override the default hidden behavior on the sphinx rendered scikit-learn.org. See: https://github.com/scikit-learn/scikit-learn/issues/21755 */display: inline-block !important;position: relative;}#sk-container-id-86 div.sk-text-repr-fallback {display: none;}</style><div id=\"sk-container-id-86\" class=\"sk-top-container\"><div class=\"sk-text-repr-fallback\"><pre>SVC(C=10)</pre><b>In a Jupyter environment, please rerun this cell to show the HTML representation or trust the notebook. <br />On GitHub, the HTML representation is unable to render, please try loading this page with nbviewer.org.</b></div><div class=\"sk-container\" hidden><div class=\"sk-item\"><div class=\"sk-estimator sk-toggleable\"><input class=\"sk-toggleable__control sk-hidden--visually\" id=\"sk-estimator-id-172\" type=\"checkbox\" checked><label for=\"sk-estimator-id-172\" class=\"sk-toggleable__label sk-toggleable__label-arrow\">SVC</label><div class=\"sk-toggleable__content\"><pre>SVC(C=10)</pre></div></div></div></div></div>"
            ]
          },
          "metadata": {},
          "execution_count": 525
        }
      ]
    },
    {
      "cell_type": "code",
      "execution_count": null,
      "metadata": {
        "id": "AGkTiYnVURnj",
        "colab": {
          "base_uri": "https://localhost:8080/"
        },
        "outputId": "a626a61d-3f34-49b7-e7ab-36c46ab3ca1c"
      },
      "outputs": [
        {
          "output_type": "stream",
          "name": "stdout",
          "text": [
            "Prediction with whole training set (much more optimistic)\n",
            "Accuracy is 0.8733333333333333\n",
            "F1 score is 0.8161764705882353\n",
            "Recall is 0.7782287822878229\n",
            "Precision is 0.8580146460537021\n"
          ]
        }
      ],
      "source": [
        "# Predicting the target variable using the trained model on the entire training set\n",
        "y_pred = model_grid.predict(X)\n",
        "\n",
        "# Print predicition results\n",
        "print('Prediction with whole training set (much more optimistic)')\n",
        "print(f'Accuracy is {accuracy_score(y, y_pred)}')\n",
        "print(f'F1 score is {f1_score(y, y_pred)}')\n",
        "print(f'Recall is {recall_score(y, y_pred)}')\n",
        "print(f'Precision is {precision_score(y, y_pred)}')"
      ]
    },
    {
      "cell_type": "markdown",
      "source": [
        "# Final score\n"
      ],
      "metadata": {
        "id": "nCp0mJosCTwE"
      }
    },
    {
      "cell_type": "code",
      "source": [
        "#Import the CSV file\n",
        "!wget -cq https://www.dropbox.com/s/v20v43hwmkj1bol/electrical_grid_test.csv"
      ],
      "metadata": {
        "id": "khvI-EElCy2_"
      },
      "execution_count": null,
      "outputs": []
    },
    {
      "cell_type": "code",
      "source": [
        "# Show the space location\n",
        "!ls -la"
      ],
      "metadata": {
        "colab": {
          "base_uri": "https://localhost:8080/"
        },
        "id": "sgbCUpRXG4U7",
        "outputId": "02e27c06-651e-4ac9-b0e1-4c34dfca61ac"
      },
      "execution_count": null,
      "outputs": [
        {
          "output_type": "stream",
          "name": "stdout",
          "text": [
            "total 1700\n",
            "drwxr-xr-x 1 root root    4096 Apr 10 18:22 .\n",
            "drwxr-xr-x 1 root root    4096 Apr 10 14:14 ..\n",
            "drwxr-xr-x 4 root root    4096 Apr  8 13:26 .config\n",
            "-rw-r--r-- 1 root root  428879 Apr 10 14:16 electrical_grid_test.csv\n",
            "-rw-r--r-- 1 root root 1286444 Apr 10 14:16 electrical_grid_train.csv\n",
            "drwxr-xr-x 1 root root    4096 Apr  8 13:27 sample_data\n",
            "-rw-r--r-- 1 root root     733 Apr 10 18:22 xgb_model.pkl\n"
          ]
        }
      ]
    },
    {
      "cell_type": "code",
      "source": [
        "# Read the file\n",
        "test_data = pd.read_csv('electrical_grid_test.csv')"
      ],
      "metadata": {
        "id": "XBN-8vmHGemm"
      },
      "execution_count": null,
      "outputs": []
    },
    {
      "cell_type": "code",
      "source": [
        "# Turn 'stable' and 'unstable' into numerical data so it can be interpreted\n",
        "test_data.replace({'unstable':0, 'stable':1}, inplace=True)"
      ],
      "metadata": {
        "id": "pljP2RPhHONb"
      },
      "execution_count": null,
      "outputs": []
    },
    {
      "cell_type": "code",
      "source": [
        "# Show the data\n",
        "test_data.head()"
      ],
      "metadata": {
        "colab": {
          "base_uri": "https://localhost:8080/",
          "height": 206
        },
        "id": "QMoEmBZZGqLp",
        "outputId": "7e4e83ba-5bd1-49f9-91ed-d81d5c79d485"
      },
      "execution_count": null,
      "outputs": [
        {
          "output_type": "execute_result",
          "data": {
            "text/plain": [
              "       tau1      tau2      tau3      tau4        p1        p2        p3  \\\n",
              "0  3.198395  1.998723  3.198395  6.749158  3.840354 -1.025326 -0.975754   \n",
              "1  7.295651  0.390647  7.295651  2.238956  2.526818 -0.850468 -1.162358   \n",
              "2  3.766899  5.681400  3.766899  6.464329  3.205875 -1.143055 -1.076921   \n",
              "3  1.412934  5.363109  1.412934  6.172790  3.388079 -0.879606 -1.127544   \n",
              "4  2.488778  7.751648  2.488778  5.558753  2.945201 -1.391981 -0.747310   \n",
              "\n",
              "         p4        g1        g2        g3        g4  stabf  \n",
              "0 -1.839274  0.705793  0.061484  0.655529  0.716621      0  \n",
              "1 -0.513991  0.818904  0.917692  0.331460  0.161048      1  \n",
              "2 -0.985898  0.721218  0.283222  0.519634  0.810315      0  \n",
              "3 -1.380928  0.109811  0.633781  0.079277  0.841257      0  \n",
              "4 -0.805910  0.608805  0.509664  0.622356  0.394018      0  "
            ],
            "text/html": [
              "\n",
              "  <div id=\"df-66fa337a-f7c0-4488-9236-304d627414ee\" class=\"colab-df-container\">\n",
              "    <div>\n",
              "<style scoped>\n",
              "    .dataframe tbody tr th:only-of-type {\n",
              "        vertical-align: middle;\n",
              "    }\n",
              "\n",
              "    .dataframe tbody tr th {\n",
              "        vertical-align: top;\n",
              "    }\n",
              "\n",
              "    .dataframe thead th {\n",
              "        text-align: right;\n",
              "    }\n",
              "</style>\n",
              "<table border=\"1\" class=\"dataframe\">\n",
              "  <thead>\n",
              "    <tr style=\"text-align: right;\">\n",
              "      <th></th>\n",
              "      <th>tau1</th>\n",
              "      <th>tau2</th>\n",
              "      <th>tau3</th>\n",
              "      <th>tau4</th>\n",
              "      <th>p1</th>\n",
              "      <th>p2</th>\n",
              "      <th>p3</th>\n",
              "      <th>p4</th>\n",
              "      <th>g1</th>\n",
              "      <th>g2</th>\n",
              "      <th>g3</th>\n",
              "      <th>g4</th>\n",
              "      <th>stabf</th>\n",
              "    </tr>\n",
              "  </thead>\n",
              "  <tbody>\n",
              "    <tr>\n",
              "      <th>0</th>\n",
              "      <td>3.198395</td>\n",
              "      <td>1.998723</td>\n",
              "      <td>3.198395</td>\n",
              "      <td>6.749158</td>\n",
              "      <td>3.840354</td>\n",
              "      <td>-1.025326</td>\n",
              "      <td>-0.975754</td>\n",
              "      <td>-1.839274</td>\n",
              "      <td>0.705793</td>\n",
              "      <td>0.061484</td>\n",
              "      <td>0.655529</td>\n",
              "      <td>0.716621</td>\n",
              "      <td>0</td>\n",
              "    </tr>\n",
              "    <tr>\n",
              "      <th>1</th>\n",
              "      <td>7.295651</td>\n",
              "      <td>0.390647</td>\n",
              "      <td>7.295651</td>\n",
              "      <td>2.238956</td>\n",
              "      <td>2.526818</td>\n",
              "      <td>-0.850468</td>\n",
              "      <td>-1.162358</td>\n",
              "      <td>-0.513991</td>\n",
              "      <td>0.818904</td>\n",
              "      <td>0.917692</td>\n",
              "      <td>0.331460</td>\n",
              "      <td>0.161048</td>\n",
              "      <td>1</td>\n",
              "    </tr>\n",
              "    <tr>\n",
              "      <th>2</th>\n",
              "      <td>3.766899</td>\n",
              "      <td>5.681400</td>\n",
              "      <td>3.766899</td>\n",
              "      <td>6.464329</td>\n",
              "      <td>3.205875</td>\n",
              "      <td>-1.143055</td>\n",
              "      <td>-1.076921</td>\n",
              "      <td>-0.985898</td>\n",
              "      <td>0.721218</td>\n",
              "      <td>0.283222</td>\n",
              "      <td>0.519634</td>\n",
              "      <td>0.810315</td>\n",
              "      <td>0</td>\n",
              "    </tr>\n",
              "    <tr>\n",
              "      <th>3</th>\n",
              "      <td>1.412934</td>\n",
              "      <td>5.363109</td>\n",
              "      <td>1.412934</td>\n",
              "      <td>6.172790</td>\n",
              "      <td>3.388079</td>\n",
              "      <td>-0.879606</td>\n",
              "      <td>-1.127544</td>\n",
              "      <td>-1.380928</td>\n",
              "      <td>0.109811</td>\n",
              "      <td>0.633781</td>\n",
              "      <td>0.079277</td>\n",
              "      <td>0.841257</td>\n",
              "      <td>0</td>\n",
              "    </tr>\n",
              "    <tr>\n",
              "      <th>4</th>\n",
              "      <td>2.488778</td>\n",
              "      <td>7.751648</td>\n",
              "      <td>2.488778</td>\n",
              "      <td>5.558753</td>\n",
              "      <td>2.945201</td>\n",
              "      <td>-1.391981</td>\n",
              "      <td>-0.747310</td>\n",
              "      <td>-0.805910</td>\n",
              "      <td>0.608805</td>\n",
              "      <td>0.509664</td>\n",
              "      <td>0.622356</td>\n",
              "      <td>0.394018</td>\n",
              "      <td>0</td>\n",
              "    </tr>\n",
              "  </tbody>\n",
              "</table>\n",
              "</div>\n",
              "    <div class=\"colab-df-buttons\">\n",
              "\n",
              "  <div class=\"colab-df-container\">\n",
              "    <button class=\"colab-df-convert\" onclick=\"convertToInteractive('df-66fa337a-f7c0-4488-9236-304d627414ee')\"\n",
              "            title=\"Convert this dataframe to an interactive table.\"\n",
              "            style=\"display:none;\">\n",
              "\n",
              "  <svg xmlns=\"http://www.w3.org/2000/svg\" height=\"24px\" viewBox=\"0 -960 960 960\">\n",
              "    <path d=\"M120-120v-720h720v720H120Zm60-500h600v-160H180v160Zm220 220h160v-160H400v160Zm0 220h160v-160H400v160ZM180-400h160v-160H180v160Zm440 0h160v-160H620v160ZM180-180h160v-160H180v160Zm440 0h160v-160H620v160Z\"/>\n",
              "  </svg>\n",
              "    </button>\n",
              "\n",
              "  <style>\n",
              "    .colab-df-container {\n",
              "      display:flex;\n",
              "      gap: 12px;\n",
              "    }\n",
              "\n",
              "    .colab-df-convert {\n",
              "      background-color: #E8F0FE;\n",
              "      border: none;\n",
              "      border-radius: 50%;\n",
              "      cursor: pointer;\n",
              "      display: none;\n",
              "      fill: #1967D2;\n",
              "      height: 32px;\n",
              "      padding: 0 0 0 0;\n",
              "      width: 32px;\n",
              "    }\n",
              "\n",
              "    .colab-df-convert:hover {\n",
              "      background-color: #E2EBFA;\n",
              "      box-shadow: 0px 1px 2px rgba(60, 64, 67, 0.3), 0px 1px 3px 1px rgba(60, 64, 67, 0.15);\n",
              "      fill: #174EA6;\n",
              "    }\n",
              "\n",
              "    .colab-df-buttons div {\n",
              "      margin-bottom: 4px;\n",
              "    }\n",
              "\n",
              "    [theme=dark] .colab-df-convert {\n",
              "      background-color: #3B4455;\n",
              "      fill: #D2E3FC;\n",
              "    }\n",
              "\n",
              "    [theme=dark] .colab-df-convert:hover {\n",
              "      background-color: #434B5C;\n",
              "      box-shadow: 0px 1px 3px 1px rgba(0, 0, 0, 0.15);\n",
              "      filter: drop-shadow(0px 1px 2px rgba(0, 0, 0, 0.3));\n",
              "      fill: #FFFFFF;\n",
              "    }\n",
              "  </style>\n",
              "\n",
              "    <script>\n",
              "      const buttonEl =\n",
              "        document.querySelector('#df-66fa337a-f7c0-4488-9236-304d627414ee button.colab-df-convert');\n",
              "      buttonEl.style.display =\n",
              "        google.colab.kernel.accessAllowed ? 'block' : 'none';\n",
              "\n",
              "      async function convertToInteractive(key) {\n",
              "        const element = document.querySelector('#df-66fa337a-f7c0-4488-9236-304d627414ee');\n",
              "        const dataTable =\n",
              "          await google.colab.kernel.invokeFunction('convertToInteractive',\n",
              "                                                    [key], {});\n",
              "        if (!dataTable) return;\n",
              "\n",
              "        const docLinkHtml = 'Like what you see? Visit the ' +\n",
              "          '<a target=\"_blank\" href=https://colab.research.google.com/notebooks/data_table.ipynb>data table notebook</a>'\n",
              "          + ' to learn more about interactive tables.';\n",
              "        element.innerHTML = '';\n",
              "        dataTable['output_type'] = 'display_data';\n",
              "        await google.colab.output.renderOutput(dataTable, element);\n",
              "        const docLink = document.createElement('div');\n",
              "        docLink.innerHTML = docLinkHtml;\n",
              "        element.appendChild(docLink);\n",
              "      }\n",
              "    </script>\n",
              "  </div>\n",
              "\n",
              "\n",
              "<div id=\"df-2d90b44f-5d01-4fb3-a342-e2d278139b92\">\n",
              "  <button class=\"colab-df-quickchart\" onclick=\"quickchart('df-2d90b44f-5d01-4fb3-a342-e2d278139b92')\"\n",
              "            title=\"Suggest charts\"\n",
              "            style=\"display:none;\">\n",
              "\n",
              "<svg xmlns=\"http://www.w3.org/2000/svg\" height=\"24px\"viewBox=\"0 0 24 24\"\n",
              "     width=\"24px\">\n",
              "    <g>\n",
              "        <path d=\"M19 3H5c-1.1 0-2 .9-2 2v14c0 1.1.9 2 2 2h14c1.1 0 2-.9 2-2V5c0-1.1-.9-2-2-2zM9 17H7v-7h2v7zm4 0h-2V7h2v10zm4 0h-2v-4h2v4z\"/>\n",
              "    </g>\n",
              "</svg>\n",
              "  </button>\n",
              "\n",
              "<style>\n",
              "  .colab-df-quickchart {\n",
              "      --bg-color: #E8F0FE;\n",
              "      --fill-color: #1967D2;\n",
              "      --hover-bg-color: #E2EBFA;\n",
              "      --hover-fill-color: #174EA6;\n",
              "      --disabled-fill-color: #AAA;\n",
              "      --disabled-bg-color: #DDD;\n",
              "  }\n",
              "\n",
              "  [theme=dark] .colab-df-quickchart {\n",
              "      --bg-color: #3B4455;\n",
              "      --fill-color: #D2E3FC;\n",
              "      --hover-bg-color: #434B5C;\n",
              "      --hover-fill-color: #FFFFFF;\n",
              "      --disabled-bg-color: #3B4455;\n",
              "      --disabled-fill-color: #666;\n",
              "  }\n",
              "\n",
              "  .colab-df-quickchart {\n",
              "    background-color: var(--bg-color);\n",
              "    border: none;\n",
              "    border-radius: 50%;\n",
              "    cursor: pointer;\n",
              "    display: none;\n",
              "    fill: var(--fill-color);\n",
              "    height: 32px;\n",
              "    padding: 0;\n",
              "    width: 32px;\n",
              "  }\n",
              "\n",
              "  .colab-df-quickchart:hover {\n",
              "    background-color: var(--hover-bg-color);\n",
              "    box-shadow: 0 1px 2px rgba(60, 64, 67, 0.3), 0 1px 3px 1px rgba(60, 64, 67, 0.15);\n",
              "    fill: var(--button-hover-fill-color);\n",
              "  }\n",
              "\n",
              "  .colab-df-quickchart-complete:disabled,\n",
              "  .colab-df-quickchart-complete:disabled:hover {\n",
              "    background-color: var(--disabled-bg-color);\n",
              "    fill: var(--disabled-fill-color);\n",
              "    box-shadow: none;\n",
              "  }\n",
              "\n",
              "  .colab-df-spinner {\n",
              "    border: 2px solid var(--fill-color);\n",
              "    border-color: transparent;\n",
              "    border-bottom-color: var(--fill-color);\n",
              "    animation:\n",
              "      spin 1s steps(1) infinite;\n",
              "  }\n",
              "\n",
              "  @keyframes spin {\n",
              "    0% {\n",
              "      border-color: transparent;\n",
              "      border-bottom-color: var(--fill-color);\n",
              "      border-left-color: var(--fill-color);\n",
              "    }\n",
              "    20% {\n",
              "      border-color: transparent;\n",
              "      border-left-color: var(--fill-color);\n",
              "      border-top-color: var(--fill-color);\n",
              "    }\n",
              "    30% {\n",
              "      border-color: transparent;\n",
              "      border-left-color: var(--fill-color);\n",
              "      border-top-color: var(--fill-color);\n",
              "      border-right-color: var(--fill-color);\n",
              "    }\n",
              "    40% {\n",
              "      border-color: transparent;\n",
              "      border-right-color: var(--fill-color);\n",
              "      border-top-color: var(--fill-color);\n",
              "    }\n",
              "    60% {\n",
              "      border-color: transparent;\n",
              "      border-right-color: var(--fill-color);\n",
              "    }\n",
              "    80% {\n",
              "      border-color: transparent;\n",
              "      border-right-color: var(--fill-color);\n",
              "      border-bottom-color: var(--fill-color);\n",
              "    }\n",
              "    90% {\n",
              "      border-color: transparent;\n",
              "      border-bottom-color: var(--fill-color);\n",
              "    }\n",
              "  }\n",
              "</style>\n",
              "\n",
              "  <script>\n",
              "    async function quickchart(key) {\n",
              "      const quickchartButtonEl =\n",
              "        document.querySelector('#' + key + ' button');\n",
              "      quickchartButtonEl.disabled = true;  // To prevent multiple clicks.\n",
              "      quickchartButtonEl.classList.add('colab-df-spinner');\n",
              "      try {\n",
              "        const charts = await google.colab.kernel.invokeFunction(\n",
              "            'suggestCharts', [key], {});\n",
              "      } catch (error) {\n",
              "        console.error('Error during call to suggestCharts:', error);\n",
              "      }\n",
              "      quickchartButtonEl.classList.remove('colab-df-spinner');\n",
              "      quickchartButtonEl.classList.add('colab-df-quickchart-complete');\n",
              "    }\n",
              "    (() => {\n",
              "      let quickchartButtonEl =\n",
              "        document.querySelector('#df-2d90b44f-5d01-4fb3-a342-e2d278139b92 button');\n",
              "      quickchartButtonEl.style.display =\n",
              "        google.colab.kernel.accessAllowed ? 'block' : 'none';\n",
              "    })();\n",
              "  </script>\n",
              "</div>\n",
              "    </div>\n",
              "  </div>\n"
            ],
            "application/vnd.google.colaboratory.intrinsic+json": {
              "type": "dataframe",
              "variable_name": "test_data",
              "summary": "{\n  \"name\": \"test_data\",\n  \"rows\": 2500,\n  \"fields\": [\n    {\n      \"column\": \"tau1\",\n      \"properties\": {\n        \"dtype\": \"number\",\n        \"std\": 2.7546200360765525,\n        \"min\": 0.500793021,\n        \"max\": 9.999469469,\n        \"num_unique_values\": 2500,\n        \"samples\": [\n          3.699982978,\n          1.115596494,\n          2.400602958\n        ],\n        \"semantic_type\": \"\",\n        \"description\": \"\"\n      }\n    },\n    {\n      \"column\": \"tau2\",\n      \"properties\": {\n        \"dtype\": \"number\",\n        \"std\": 2.7135671004461406,\n        \"min\": -0.2216844275389256,\n        \"max\": 9.270989379461074,\n        \"num_unique_values\": 2500,\n        \"samples\": [\n          2.3483210934610748,\n          6.582482171461074,\n          0.3229606414610744\n        ],\n        \"semantic_type\": \"\",\n        \"description\": \"\"\n      }\n    },\n    {\n      \"column\": \"tau3\",\n      \"properties\": {\n        \"dtype\": \"number\",\n        \"std\": 2.738775273111536,\n        \"min\": 0.500793021,\n        \"max\": 9.999469469,\n        \"num_unique_values\": 2441,\n        \"samples\": [\n          7.940691404,\n          3.103826937,\n          3.982370356\n        ],\n        \"semantic_type\": \"\",\n        \"description\": \"\"\n      }\n    },\n    {\n      \"column\": \"tau4\",\n      \"properties\": {\n        \"dtype\": \"number\",\n        \"std\": 2.7792618794515427,\n        \"min\": 0.5020245879999999,\n        \"max\": 9.999443297,\n        \"num_unique_values\": 2500,\n        \"samples\": [\n          2.2766578930000003,\n          6.057037492,\n          6.556790419\n        ],\n        \"semantic_type\": \"\",\n        \"description\": \"\"\n      }\n    },\n    {\n      \"column\": \"p1\",\n      \"properties\": {\n        \"dtype\": \"number\",\n        \"std\": 0.7448865072722909,\n        \"min\": 1.687356265,\n        \"max\": 5.784141517999999,\n        \"num_unique_values\": 2500,\n        \"samples\": [\n          2.586050693,\n          3.1776566710000003,\n          3.55594631\n        ],\n        \"semantic_type\": \"\",\n        \"description\": \"\"\n      }\n    },\n    {\n      \"column\": \"p2\",\n      \"properties\": {\n        \"dtype\": \"number\",\n        \"std\": 0.43293129646721884,\n        \"min\": -1.999655126,\n        \"max\": -0.500610409,\n        \"num_unique_values\": 2500,\n        \"samples\": [\n          -1.40696006,\n          -1.944270083,\n          -1.1203358840000002\n        ],\n        \"semantic_type\": \"\",\n        \"description\": \"\"\n      }\n    },\n    {\n      \"column\": \"p3\",\n      \"properties\": {\n        \"dtype\": \"number\",\n        \"std\": 0.42886424515195115,\n        \"min\": -1.999456735,\n        \"max\": -0.500072252,\n        \"num_unique_values\": 2500,\n        \"samples\": [\n          -0.643881307,\n          -0.596276148,\n          -0.555780374\n        ],\n        \"semantic_type\": \"\",\n        \"description\": \"\"\n      }\n    },\n    {\n      \"column\": \"p4\",\n      \"properties\": {\n        \"dtype\": \"number\",\n        \"std\": 0.43004852364085966,\n        \"min\": -1.999675101,\n        \"max\": -0.500811264,\n        \"num_unique_values\": 2500,\n        \"samples\": [\n          -0.535209326,\n          -0.63711044,\n          -1.879830053\n        ],\n        \"semantic_type\": \"\",\n        \"description\": \"\"\n      }\n    },\n    {\n      \"column\": \"g1\",\n      \"properties\": {\n        \"dtype\": \"number\",\n        \"std\": 0.2740663833024177,\n        \"min\": 0.050211922,\n        \"max\": 0.999466657,\n        \"num_unique_values\": 2500,\n        \"samples\": [\n          0.907623531,\n          0.654084331,\n          0.666720434\n        ],\n        \"semantic_type\": \"\",\n        \"description\": \"\"\n      }\n    },\n    {\n      \"column\": \"g2\",\n      \"properties\": {\n        \"dtype\": \"number\",\n        \"std\": 0.28004774095418145,\n        \"min\": 0.050053101,\n        \"max\": 0.999341766,\n        \"num_unique_values\": 2500,\n        \"samples\": [\n          0.991250229,\n          0.19066777,\n          0.148319344\n        ],\n        \"semantic_type\": \"\",\n        \"description\": \"\"\n      }\n    },\n    {\n      \"column\": \"g3\",\n      \"properties\": {\n        \"dtype\": \"number\",\n        \"std\": 0.27421431348369696,\n        \"min\": 0.050270427,\n        \"max\": 0.999981832,\n        \"num_unique_values\": 2500,\n        \"samples\": [\n          0.467569604,\n          0.75378075,\n          0.416112566\n        ],\n        \"semantic_type\": \"\",\n        \"description\": \"\"\n      }\n    },\n    {\n      \"column\": \"g4\",\n      \"properties\": {\n        \"dtype\": \"number\",\n        \"std\": 0.27041291550129176,\n        \"min\": 0.0503357,\n        \"max\": 0.999640083,\n        \"num_unique_values\": 2500,\n        \"samples\": [\n          0.27282995,\n          0.167547684,\n          0.267458597\n        ],\n        \"semantic_type\": \"\",\n        \"description\": \"\"\n      }\n    },\n    {\n      \"column\": \"stabf\",\n      \"properties\": {\n        \"dtype\": \"number\",\n        \"std\": 0,\n        \"min\": 0,\n        \"max\": 1,\n        \"num_unique_values\": 2,\n        \"samples\": [\n          1,\n          0\n        ],\n        \"semantic_type\": \"\",\n        \"description\": \"\"\n      }\n    }\n  ]\n}"
            }
          },
          "metadata": {},
          "execution_count": 531
        }
      ]
    },
    {
      "cell_type": "code",
      "source": [
        "# Check if there are null values that have to be treated differently\n",
        "test_data.isnull().sum()"
      ],
      "metadata": {
        "colab": {
          "base_uri": "https://localhost:8080/"
        },
        "id": "6UWhQjrMG8oH",
        "outputId": "e2b2217f-0dc7-403e-b2c7-8263450fe077"
      },
      "execution_count": null,
      "outputs": [
        {
          "output_type": "execute_result",
          "data": {
            "text/plain": [
              "tau1     0\n",
              "tau2     0\n",
              "tau3     0\n",
              "tau4     0\n",
              "p1       0\n",
              "p2       0\n",
              "p3       0\n",
              "p4       0\n",
              "g1       0\n",
              "g2       0\n",
              "g3       0\n",
              "g4       0\n",
              "stabf    0\n",
              "dtype: int64"
            ]
          },
          "metadata": {},
          "execution_count": 532
        }
      ]
    },
    {
      "cell_type": "code",
      "source": [
        "# Shows numerical data on each feature\n",
        "test_data.describe()"
      ],
      "metadata": {
        "colab": {
          "base_uri": "https://localhost:8080/",
          "height": 300
        },
        "id": "d1sCeb_QHK42",
        "outputId": "a3d93fb2-303b-4a03-cc21-d05ce93d97af"
      },
      "execution_count": null,
      "outputs": [
        {
          "output_type": "execute_result",
          "data": {
            "text/plain": [
              "              tau1         tau2         tau3         tau4           p1  \\\n",
              "count  2500.000000  2500.000000  2500.000000  2500.000000  2500.000000   \n",
              "mean      5.313425     4.534362     5.308437     5.274702     3.735808   \n",
              "std       2.754620     2.713567     2.738775     2.779262     0.744887   \n",
              "min       0.500793    -0.221684     0.500793     0.502025     1.687356   \n",
              "25%       2.925881     2.194301     2.976238     2.896275     3.205675   \n",
              "50%       5.334753     4.551954     5.295529     5.298481     3.752503   \n",
              "75%       7.759141     6.846344     7.759141     7.751329     4.270828   \n",
              "max       9.999469     9.270989     9.999469     9.999443     5.784142   \n",
              "\n",
              "                p2           p3           p4           g1           g2  \\\n",
              "count  2500.000000  2500.000000  2500.000000  2500.000000  2500.000000   \n",
              "mean     -1.246343    -1.241924    -1.247541     0.527042     0.526459   \n",
              "std       0.432931     0.428864     0.430049     0.274066     0.280048   \n",
              "min      -1.999655    -1.999457    -1.999675     0.050212     0.050053   \n",
              "25%      -1.612429    -1.598921    -1.621362     0.288979     0.274791   \n",
              "50%      -1.242728    -1.234096    -1.245078     0.535635     0.525224   \n",
              "75%      -0.876034    -0.872814    -0.880703     0.762313     0.770949   \n",
              "max      -0.500610    -0.500072    -0.500811     0.999467     0.999342   \n",
              "\n",
              "                g3           g4        stabf  \n",
              "count  2500.000000  2500.000000  2500.000000  \n",
              "mean      0.519365     0.523391     0.364000  \n",
              "std       0.274214     0.270413     0.481245  \n",
              "min       0.050270     0.050336     0.000000  \n",
              "25%       0.278284     0.295703     0.000000  \n",
              "50%       0.519432     0.528110     0.000000  \n",
              "75%       0.756359     0.751051     1.000000  \n",
              "max       0.999982     0.999640     1.000000  "
            ],
            "text/html": [
              "\n",
              "  <div id=\"df-4105c35a-4755-4648-98e5-41c130aede8f\" class=\"colab-df-container\">\n",
              "    <div>\n",
              "<style scoped>\n",
              "    .dataframe tbody tr th:only-of-type {\n",
              "        vertical-align: middle;\n",
              "    }\n",
              "\n",
              "    .dataframe tbody tr th {\n",
              "        vertical-align: top;\n",
              "    }\n",
              "\n",
              "    .dataframe thead th {\n",
              "        text-align: right;\n",
              "    }\n",
              "</style>\n",
              "<table border=\"1\" class=\"dataframe\">\n",
              "  <thead>\n",
              "    <tr style=\"text-align: right;\">\n",
              "      <th></th>\n",
              "      <th>tau1</th>\n",
              "      <th>tau2</th>\n",
              "      <th>tau3</th>\n",
              "      <th>tau4</th>\n",
              "      <th>p1</th>\n",
              "      <th>p2</th>\n",
              "      <th>p3</th>\n",
              "      <th>p4</th>\n",
              "      <th>g1</th>\n",
              "      <th>g2</th>\n",
              "      <th>g3</th>\n",
              "      <th>g4</th>\n",
              "      <th>stabf</th>\n",
              "    </tr>\n",
              "  </thead>\n",
              "  <tbody>\n",
              "    <tr>\n",
              "      <th>count</th>\n",
              "      <td>2500.000000</td>\n",
              "      <td>2500.000000</td>\n",
              "      <td>2500.000000</td>\n",
              "      <td>2500.000000</td>\n",
              "      <td>2500.000000</td>\n",
              "      <td>2500.000000</td>\n",
              "      <td>2500.000000</td>\n",
              "      <td>2500.000000</td>\n",
              "      <td>2500.000000</td>\n",
              "      <td>2500.000000</td>\n",
              "      <td>2500.000000</td>\n",
              "      <td>2500.000000</td>\n",
              "      <td>2500.000000</td>\n",
              "    </tr>\n",
              "    <tr>\n",
              "      <th>mean</th>\n",
              "      <td>5.313425</td>\n",
              "      <td>4.534362</td>\n",
              "      <td>5.308437</td>\n",
              "      <td>5.274702</td>\n",
              "      <td>3.735808</td>\n",
              "      <td>-1.246343</td>\n",
              "      <td>-1.241924</td>\n",
              "      <td>-1.247541</td>\n",
              "      <td>0.527042</td>\n",
              "      <td>0.526459</td>\n",
              "      <td>0.519365</td>\n",
              "      <td>0.523391</td>\n",
              "      <td>0.364000</td>\n",
              "    </tr>\n",
              "    <tr>\n",
              "      <th>std</th>\n",
              "      <td>2.754620</td>\n",
              "      <td>2.713567</td>\n",
              "      <td>2.738775</td>\n",
              "      <td>2.779262</td>\n",
              "      <td>0.744887</td>\n",
              "      <td>0.432931</td>\n",
              "      <td>0.428864</td>\n",
              "      <td>0.430049</td>\n",
              "      <td>0.274066</td>\n",
              "      <td>0.280048</td>\n",
              "      <td>0.274214</td>\n",
              "      <td>0.270413</td>\n",
              "      <td>0.481245</td>\n",
              "    </tr>\n",
              "    <tr>\n",
              "      <th>min</th>\n",
              "      <td>0.500793</td>\n",
              "      <td>-0.221684</td>\n",
              "      <td>0.500793</td>\n",
              "      <td>0.502025</td>\n",
              "      <td>1.687356</td>\n",
              "      <td>-1.999655</td>\n",
              "      <td>-1.999457</td>\n",
              "      <td>-1.999675</td>\n",
              "      <td>0.050212</td>\n",
              "      <td>0.050053</td>\n",
              "      <td>0.050270</td>\n",
              "      <td>0.050336</td>\n",
              "      <td>0.000000</td>\n",
              "    </tr>\n",
              "    <tr>\n",
              "      <th>25%</th>\n",
              "      <td>2.925881</td>\n",
              "      <td>2.194301</td>\n",
              "      <td>2.976238</td>\n",
              "      <td>2.896275</td>\n",
              "      <td>3.205675</td>\n",
              "      <td>-1.612429</td>\n",
              "      <td>-1.598921</td>\n",
              "      <td>-1.621362</td>\n",
              "      <td>0.288979</td>\n",
              "      <td>0.274791</td>\n",
              "      <td>0.278284</td>\n",
              "      <td>0.295703</td>\n",
              "      <td>0.000000</td>\n",
              "    </tr>\n",
              "    <tr>\n",
              "      <th>50%</th>\n",
              "      <td>5.334753</td>\n",
              "      <td>4.551954</td>\n",
              "      <td>5.295529</td>\n",
              "      <td>5.298481</td>\n",
              "      <td>3.752503</td>\n",
              "      <td>-1.242728</td>\n",
              "      <td>-1.234096</td>\n",
              "      <td>-1.245078</td>\n",
              "      <td>0.535635</td>\n",
              "      <td>0.525224</td>\n",
              "      <td>0.519432</td>\n",
              "      <td>0.528110</td>\n",
              "      <td>0.000000</td>\n",
              "    </tr>\n",
              "    <tr>\n",
              "      <th>75%</th>\n",
              "      <td>7.759141</td>\n",
              "      <td>6.846344</td>\n",
              "      <td>7.759141</td>\n",
              "      <td>7.751329</td>\n",
              "      <td>4.270828</td>\n",
              "      <td>-0.876034</td>\n",
              "      <td>-0.872814</td>\n",
              "      <td>-0.880703</td>\n",
              "      <td>0.762313</td>\n",
              "      <td>0.770949</td>\n",
              "      <td>0.756359</td>\n",
              "      <td>0.751051</td>\n",
              "      <td>1.000000</td>\n",
              "    </tr>\n",
              "    <tr>\n",
              "      <th>max</th>\n",
              "      <td>9.999469</td>\n",
              "      <td>9.270989</td>\n",
              "      <td>9.999469</td>\n",
              "      <td>9.999443</td>\n",
              "      <td>5.784142</td>\n",
              "      <td>-0.500610</td>\n",
              "      <td>-0.500072</td>\n",
              "      <td>-0.500811</td>\n",
              "      <td>0.999467</td>\n",
              "      <td>0.999342</td>\n",
              "      <td>0.999982</td>\n",
              "      <td>0.999640</td>\n",
              "      <td>1.000000</td>\n",
              "    </tr>\n",
              "  </tbody>\n",
              "</table>\n",
              "</div>\n",
              "    <div class=\"colab-df-buttons\">\n",
              "\n",
              "  <div class=\"colab-df-container\">\n",
              "    <button class=\"colab-df-convert\" onclick=\"convertToInteractive('df-4105c35a-4755-4648-98e5-41c130aede8f')\"\n",
              "            title=\"Convert this dataframe to an interactive table.\"\n",
              "            style=\"display:none;\">\n",
              "\n",
              "  <svg xmlns=\"http://www.w3.org/2000/svg\" height=\"24px\" viewBox=\"0 -960 960 960\">\n",
              "    <path d=\"M120-120v-720h720v720H120Zm60-500h600v-160H180v160Zm220 220h160v-160H400v160Zm0 220h160v-160H400v160ZM180-400h160v-160H180v160Zm440 0h160v-160H620v160ZM180-180h160v-160H180v160Zm440 0h160v-160H620v160Z\"/>\n",
              "  </svg>\n",
              "    </button>\n",
              "\n",
              "  <style>\n",
              "    .colab-df-container {\n",
              "      display:flex;\n",
              "      gap: 12px;\n",
              "    }\n",
              "\n",
              "    .colab-df-convert {\n",
              "      background-color: #E8F0FE;\n",
              "      border: none;\n",
              "      border-radius: 50%;\n",
              "      cursor: pointer;\n",
              "      display: none;\n",
              "      fill: #1967D2;\n",
              "      height: 32px;\n",
              "      padding: 0 0 0 0;\n",
              "      width: 32px;\n",
              "    }\n",
              "\n",
              "    .colab-df-convert:hover {\n",
              "      background-color: #E2EBFA;\n",
              "      box-shadow: 0px 1px 2px rgba(60, 64, 67, 0.3), 0px 1px 3px 1px rgba(60, 64, 67, 0.15);\n",
              "      fill: #174EA6;\n",
              "    }\n",
              "\n",
              "    .colab-df-buttons div {\n",
              "      margin-bottom: 4px;\n",
              "    }\n",
              "\n",
              "    [theme=dark] .colab-df-convert {\n",
              "      background-color: #3B4455;\n",
              "      fill: #D2E3FC;\n",
              "    }\n",
              "\n",
              "    [theme=dark] .colab-df-convert:hover {\n",
              "      background-color: #434B5C;\n",
              "      box-shadow: 0px 1px 3px 1px rgba(0, 0, 0, 0.15);\n",
              "      filter: drop-shadow(0px 1px 2px rgba(0, 0, 0, 0.3));\n",
              "      fill: #FFFFFF;\n",
              "    }\n",
              "  </style>\n",
              "\n",
              "    <script>\n",
              "      const buttonEl =\n",
              "        document.querySelector('#df-4105c35a-4755-4648-98e5-41c130aede8f button.colab-df-convert');\n",
              "      buttonEl.style.display =\n",
              "        google.colab.kernel.accessAllowed ? 'block' : 'none';\n",
              "\n",
              "      async function convertToInteractive(key) {\n",
              "        const element = document.querySelector('#df-4105c35a-4755-4648-98e5-41c130aede8f');\n",
              "        const dataTable =\n",
              "          await google.colab.kernel.invokeFunction('convertToInteractive',\n",
              "                                                    [key], {});\n",
              "        if (!dataTable) return;\n",
              "\n",
              "        const docLinkHtml = 'Like what you see? Visit the ' +\n",
              "          '<a target=\"_blank\" href=https://colab.research.google.com/notebooks/data_table.ipynb>data table notebook</a>'\n",
              "          + ' to learn more about interactive tables.';\n",
              "        element.innerHTML = '';\n",
              "        dataTable['output_type'] = 'display_data';\n",
              "        await google.colab.output.renderOutput(dataTable, element);\n",
              "        const docLink = document.createElement('div');\n",
              "        docLink.innerHTML = docLinkHtml;\n",
              "        element.appendChild(docLink);\n",
              "      }\n",
              "    </script>\n",
              "  </div>\n",
              "\n",
              "\n",
              "<div id=\"df-3e79a5c9-213e-4990-8e4e-f42ac5732945\">\n",
              "  <button class=\"colab-df-quickchart\" onclick=\"quickchart('df-3e79a5c9-213e-4990-8e4e-f42ac5732945')\"\n",
              "            title=\"Suggest charts\"\n",
              "            style=\"display:none;\">\n",
              "\n",
              "<svg xmlns=\"http://www.w3.org/2000/svg\" height=\"24px\"viewBox=\"0 0 24 24\"\n",
              "     width=\"24px\">\n",
              "    <g>\n",
              "        <path d=\"M19 3H5c-1.1 0-2 .9-2 2v14c0 1.1.9 2 2 2h14c1.1 0 2-.9 2-2V5c0-1.1-.9-2-2-2zM9 17H7v-7h2v7zm4 0h-2V7h2v10zm4 0h-2v-4h2v4z\"/>\n",
              "    </g>\n",
              "</svg>\n",
              "  </button>\n",
              "\n",
              "<style>\n",
              "  .colab-df-quickchart {\n",
              "      --bg-color: #E8F0FE;\n",
              "      --fill-color: #1967D2;\n",
              "      --hover-bg-color: #E2EBFA;\n",
              "      --hover-fill-color: #174EA6;\n",
              "      --disabled-fill-color: #AAA;\n",
              "      --disabled-bg-color: #DDD;\n",
              "  }\n",
              "\n",
              "  [theme=dark] .colab-df-quickchart {\n",
              "      --bg-color: #3B4455;\n",
              "      --fill-color: #D2E3FC;\n",
              "      --hover-bg-color: #434B5C;\n",
              "      --hover-fill-color: #FFFFFF;\n",
              "      --disabled-bg-color: #3B4455;\n",
              "      --disabled-fill-color: #666;\n",
              "  }\n",
              "\n",
              "  .colab-df-quickchart {\n",
              "    background-color: var(--bg-color);\n",
              "    border: none;\n",
              "    border-radius: 50%;\n",
              "    cursor: pointer;\n",
              "    display: none;\n",
              "    fill: var(--fill-color);\n",
              "    height: 32px;\n",
              "    padding: 0;\n",
              "    width: 32px;\n",
              "  }\n",
              "\n",
              "  .colab-df-quickchart:hover {\n",
              "    background-color: var(--hover-bg-color);\n",
              "    box-shadow: 0 1px 2px rgba(60, 64, 67, 0.3), 0 1px 3px 1px rgba(60, 64, 67, 0.15);\n",
              "    fill: var(--button-hover-fill-color);\n",
              "  }\n",
              "\n",
              "  .colab-df-quickchart-complete:disabled,\n",
              "  .colab-df-quickchart-complete:disabled:hover {\n",
              "    background-color: var(--disabled-bg-color);\n",
              "    fill: var(--disabled-fill-color);\n",
              "    box-shadow: none;\n",
              "  }\n",
              "\n",
              "  .colab-df-spinner {\n",
              "    border: 2px solid var(--fill-color);\n",
              "    border-color: transparent;\n",
              "    border-bottom-color: var(--fill-color);\n",
              "    animation:\n",
              "      spin 1s steps(1) infinite;\n",
              "  }\n",
              "\n",
              "  @keyframes spin {\n",
              "    0% {\n",
              "      border-color: transparent;\n",
              "      border-bottom-color: var(--fill-color);\n",
              "      border-left-color: var(--fill-color);\n",
              "    }\n",
              "    20% {\n",
              "      border-color: transparent;\n",
              "      border-left-color: var(--fill-color);\n",
              "      border-top-color: var(--fill-color);\n",
              "    }\n",
              "    30% {\n",
              "      border-color: transparent;\n",
              "      border-left-color: var(--fill-color);\n",
              "      border-top-color: var(--fill-color);\n",
              "      border-right-color: var(--fill-color);\n",
              "    }\n",
              "    40% {\n",
              "      border-color: transparent;\n",
              "      border-right-color: var(--fill-color);\n",
              "      border-top-color: var(--fill-color);\n",
              "    }\n",
              "    60% {\n",
              "      border-color: transparent;\n",
              "      border-right-color: var(--fill-color);\n",
              "    }\n",
              "    80% {\n",
              "      border-color: transparent;\n",
              "      border-right-color: var(--fill-color);\n",
              "      border-bottom-color: var(--fill-color);\n",
              "    }\n",
              "    90% {\n",
              "      border-color: transparent;\n",
              "      border-bottom-color: var(--fill-color);\n",
              "    }\n",
              "  }\n",
              "</style>\n",
              "\n",
              "  <script>\n",
              "    async function quickchart(key) {\n",
              "      const quickchartButtonEl =\n",
              "        document.querySelector('#' + key + ' button');\n",
              "      quickchartButtonEl.disabled = true;  // To prevent multiple clicks.\n",
              "      quickchartButtonEl.classList.add('colab-df-spinner');\n",
              "      try {\n",
              "        const charts = await google.colab.kernel.invokeFunction(\n",
              "            'suggestCharts', [key], {});\n",
              "      } catch (error) {\n",
              "        console.error('Error during call to suggestCharts:', error);\n",
              "      }\n",
              "      quickchartButtonEl.classList.remove('colab-df-spinner');\n",
              "      quickchartButtonEl.classList.add('colab-df-quickchart-complete');\n",
              "    }\n",
              "    (() => {\n",
              "      let quickchartButtonEl =\n",
              "        document.querySelector('#df-3e79a5c9-213e-4990-8e4e-f42ac5732945 button');\n",
              "      quickchartButtonEl.style.display =\n",
              "        google.colab.kernel.accessAllowed ? 'block' : 'none';\n",
              "    })();\n",
              "  </script>\n",
              "</div>\n",
              "    </div>\n",
              "  </div>\n"
            ],
            "application/vnd.google.colaboratory.intrinsic+json": {
              "type": "dataframe",
              "summary": "{\n  \"name\": \"test_data\",\n  \"rows\": 8,\n  \"fields\": [\n    {\n      \"column\": \"tau1\",\n      \"properties\": {\n        \"dtype\": \"number\",\n        \"std\": 882.1415655607808,\n        \"min\": 0.500793021,\n        \"max\": 2500.0,\n        \"num_unique_values\": 8,\n        \"samples\": [\n          5.3134251051131995,\n          5.3347529835,\n          2500.0\n        ],\n        \"semantic_type\": \"\",\n        \"description\": \"\"\n      }\n    },\n    {\n      \"column\": \"tau2\",\n      \"properties\": {\n        \"dtype\": \"number\",\n        \"std\": 882.3785639968838,\n        \"min\": -0.2216844275389256,\n        \"max\": 2500.0,\n        \"num_unique_values\": 8,\n        \"samples\": [\n          4.534361997339074,\n          4.551953663961075,\n          2500.0\n        ],\n        \"semantic_type\": \"\",\n        \"description\": \"\"\n      }\n    },\n    {\n      \"column\": \"tau3\",\n      \"properties\": {\n        \"dtype\": \"number\",\n        \"std\": 882.1420422357495,\n        \"min\": 0.500793021,\n        \"max\": 2500.0,\n        \"num_unique_values\": 8,\n        \"samples\": [\n          5.3084368350028,\n          5.2955285375,\n          2500.0\n        ],\n        \"semantic_type\": \"\",\n        \"description\": \"\"\n      }\n    },\n    {\n      \"column\": \"tau4\",\n      \"properties\": {\n        \"dtype\": \"number\",\n        \"std\": 882.1459298248877,\n        \"min\": 0.5020245879999999,\n        \"max\": 2500.0,\n        \"num_unique_values\": 8,\n        \"samples\": [\n          5.2747018147676,\n          5.298481452000001,\n          2500.0\n        ],\n        \"semantic_type\": \"\",\n        \"description\": \"\"\n      }\n    },\n    {\n      \"column\": \"p1\",\n      \"properties\": {\n        \"dtype\": \"number\",\n        \"std\": 882.7139961460931,\n        \"min\": 0.7448865072722909,\n        \"max\": 2500.0,\n        \"num_unique_values\": 8,\n        \"samples\": [\n          3.735808001386,\n          3.7525025965000003,\n          2500.0\n        ],\n        \"semantic_type\": \"\",\n        \"description\": \"\"\n      }\n    },\n    {\n      \"column\": \"p2\",\n      \"properties\": {\n        \"dtype\": \"number\",\n        \"std\": 884.2396039638962,\n        \"min\": -1.999655126,\n        \"max\": 2500.0,\n        \"num_unique_values\": 8,\n        \"samples\": [\n          -1.2463426604568002,\n          -1.2427280975000001,\n          2500.0\n        ],\n        \"semantic_type\": \"\",\n        \"description\": \"\"\n      }\n    },\n    {\n      \"column\": \"p3\",\n      \"properties\": {\n        \"dtype\": \"number\",\n        \"std\": 884.2382654943561,\n        \"min\": -1.999456735,\n        \"max\": 2500.0,\n        \"num_unique_values\": 8,\n        \"samples\": [\n          -1.2419240285604,\n          -1.2340964675000001,\n          2500.0\n        ],\n        \"semantic_type\": \"\",\n        \"description\": \"\"\n      }\n    },\n    {\n      \"column\": \"p4\",\n      \"properties\": {\n        \"dtype\": \"number\",\n        \"std\": 884.2406271850377,\n        \"min\": -1.999675101,\n        \"max\": 2500.0,\n        \"num_unique_values\": 8,\n        \"samples\": [\n          -1.2475413123732,\n          -1.2450778115,\n          2500.0\n        ],\n        \"semantic_type\": \"\",\n        \"description\": \"\"\n      }\n    },\n    {\n      \"column\": \"g1\",\n      \"properties\": {\n        \"dtype\": \"number\",\n        \"std\": 883.7098956503262,\n        \"min\": 0.050211922,\n        \"max\": 2500.0,\n        \"num_unique_values\": 8,\n        \"samples\": [\n          0.5270422494848,\n          0.535634709,\n          2500.0\n        ],\n        \"semantic_type\": \"\",\n        \"description\": \"\"\n      }\n    },\n    {\n      \"column\": \"g2\",\n      \"properties\": {\n        \"dtype\": \"number\",\n        \"std\": 883.7104441752334,\n        \"min\": 0.050053101,\n        \"max\": 2500.0,\n        \"num_unique_values\": 8,\n        \"samples\": [\n          0.5264590656424,\n          0.525223788,\n          2500.0\n        ],\n        \"semantic_type\": \"\",\n        \"description\": \"\"\n      }\n    },\n    {\n      \"column\": \"g3\",\n      \"properties\": {\n        \"dtype\": \"number\",\n        \"std\": 883.711906169599,\n        \"min\": 0.050270427,\n        \"max\": 2500.0,\n        \"num_unique_values\": 8,\n        \"samples\": [\n          0.5193649917576,\n          0.5194324405,\n          2500.0\n        ],\n        \"semantic_type\": \"\",\n        \"description\": \"\"\n      }\n    },\n    {\n      \"column\": \"g4\",\n      \"properties\": {\n        \"dtype\": \"number\",\n        \"std\": 883.7108581523327,\n        \"min\": 0.0503357,\n        \"max\": 2500.0,\n        \"num_unique_values\": 8,\n        \"samples\": [\n          0.5233914348508001,\n          0.5281100034999999,\n          2500.0\n        ],\n        \"semantic_type\": \"\",\n        \"description\": \"\"\n      }\n    },\n    {\n      \"column\": \"stabf\",\n      \"properties\": {\n        \"dtype\": \"number\",\n        \"std\": 883.7398675202247,\n        \"min\": 0.0,\n        \"max\": 2500.0,\n        \"num_unique_values\": 5,\n        \"samples\": [\n          0.364,\n          1.0,\n          0.4812448842901732\n        ],\n        \"semantic_type\": \"\",\n        \"description\": \"\"\n      }\n    }\n  ]\n}"
            }
          },
          "metadata": {},
          "execution_count": 533
        }
      ]
    },
    {
      "cell_type": "code",
      "source": [
        "# Shows data such as data type and amount\n",
        "test_data.info()"
      ],
      "metadata": {
        "colab": {
          "base_uri": "https://localhost:8080/"
        },
        "id": "b5AcT8pQHdcc",
        "outputId": "209d326f-9a7b-4d87-ca21-91f25a569f7a"
      },
      "execution_count": null,
      "outputs": [
        {
          "output_type": "stream",
          "name": "stdout",
          "text": [
            "<class 'pandas.core.frame.DataFrame'>\n",
            "RangeIndex: 2500 entries, 0 to 2499\n",
            "Data columns (total 13 columns):\n",
            " #   Column  Non-Null Count  Dtype  \n",
            "---  ------  --------------  -----  \n",
            " 0   tau1    2500 non-null   float64\n",
            " 1   tau2    2500 non-null   float64\n",
            " 2   tau3    2500 non-null   float64\n",
            " 3   tau4    2500 non-null   float64\n",
            " 4   p1      2500 non-null   float64\n",
            " 5   p2      2500 non-null   float64\n",
            " 6   p3      2500 non-null   float64\n",
            " 7   p4      2500 non-null   float64\n",
            " 8   g1      2500 non-null   float64\n",
            " 9   g2      2500 non-null   float64\n",
            " 10  g3      2500 non-null   float64\n",
            " 11  g4      2500 non-null   float64\n",
            " 12  stabf   2500 non-null   int64  \n",
            "dtypes: float64(12), int64(1)\n",
            "memory usage: 254.0 KB\n"
          ]
        }
      ]
    },
    {
      "cell_type": "code",
      "source": [
        "# Show the correlation in order to compare\n",
        "test_data.corr()"
      ],
      "metadata": {
        "colab": {
          "base_uri": "https://localhost:8080/",
          "height": 457
        },
        "id": "021x0o2iH-M-",
        "outputId": "ab005707-e06d-41ef-c7e2-2b7dad6ffa31"
      },
      "execution_count": null,
      "outputs": [
        {
          "output_type": "execute_result",
          "data": {
            "text/plain": [
              "           tau1      tau2      tau3      tau4        p1        p2        p3  \\\n",
              "tau1   1.000000  0.007185  0.916967 -0.041844  0.015767 -0.005743 -0.005441   \n",
              "tau2   0.007185  1.000000  0.004340  0.009000 -0.006071 -0.004935  0.003754   \n",
              "tau3   0.916967  0.004340  1.000000 -0.036587  0.018795  0.003091 -0.011658   \n",
              "tau4  -0.041844  0.009000 -0.036587  1.000000  0.017041  0.009022 -0.024016   \n",
              "p1     0.015767 -0.006071  0.018795  0.017041  1.000000 -0.572279 -0.583545   \n",
              "p2    -0.005743 -0.004935  0.003091  0.009022 -0.572279  1.000000  0.001796   \n",
              "p3    -0.005441  0.003754 -0.011658 -0.024016 -0.583545  0.001796  1.000000   \n",
              "p4    -0.016102  0.011739 -0.024040 -0.014649 -0.574046 -0.017251  0.011703   \n",
              "g1     0.018482  0.015495  0.006948  0.024627  0.018373 -0.002307 -0.016027   \n",
              "g2     0.008101  0.009085  0.004703 -0.001215 -0.017577  0.005881 -0.010241   \n",
              "g3     0.010458 -0.018487 -0.000684 -0.002323 -0.000688  0.029454 -0.014336   \n",
              "g4     0.011200 -0.030165  0.000948  0.009266 -0.008281  0.022722 -0.023470   \n",
              "stabf -0.216880 -0.244980 -0.194233 -0.247373  0.016366 -0.000389 -0.005019   \n",
              "\n",
              "             p4        g1        g2        g3        g4     stabf  \n",
              "tau1  -0.016102  0.018482  0.008101  0.010458  0.011200 -0.216880  \n",
              "tau2   0.011739  0.015495  0.009085 -0.018487 -0.030165 -0.244980  \n",
              "tau3  -0.024040  0.006948  0.004703 -0.000684  0.000948 -0.194233  \n",
              "tau4  -0.014649  0.024627 -0.001215 -0.002323  0.009266 -0.247373  \n",
              "p1    -0.574046  0.018373 -0.017577 -0.000688 -0.008281  0.016366  \n",
              "p2    -0.017251 -0.002307  0.005881  0.029454  0.022722 -0.000389  \n",
              "p3     0.011703 -0.016027 -0.010241 -0.014336 -0.023470 -0.005019  \n",
              "p4     1.000000 -0.013518  0.034737 -0.014164  0.014875 -0.022950  \n",
              "g1    -0.013518  1.000000  0.013836  0.005848  0.028438 -0.198721  \n",
              "g2     0.034737  0.013836  1.000000  0.016022  0.002101 -0.219131  \n",
              "g3    -0.014164  0.005848  0.016022  1.000000  0.006604 -0.232120  \n",
              "g4     0.014875  0.028438  0.002101  0.006604  1.000000 -0.225225  \n",
              "stabf -0.022950 -0.198721 -0.219131 -0.232120 -0.225225  1.000000  "
            ],
            "text/html": [
              "\n",
              "  <div id=\"df-91e04e38-0771-491d-bd12-2da6d4c89d09\" class=\"colab-df-container\">\n",
              "    <div>\n",
              "<style scoped>\n",
              "    .dataframe tbody tr th:only-of-type {\n",
              "        vertical-align: middle;\n",
              "    }\n",
              "\n",
              "    .dataframe tbody tr th {\n",
              "        vertical-align: top;\n",
              "    }\n",
              "\n",
              "    .dataframe thead th {\n",
              "        text-align: right;\n",
              "    }\n",
              "</style>\n",
              "<table border=\"1\" class=\"dataframe\">\n",
              "  <thead>\n",
              "    <tr style=\"text-align: right;\">\n",
              "      <th></th>\n",
              "      <th>tau1</th>\n",
              "      <th>tau2</th>\n",
              "      <th>tau3</th>\n",
              "      <th>tau4</th>\n",
              "      <th>p1</th>\n",
              "      <th>p2</th>\n",
              "      <th>p3</th>\n",
              "      <th>p4</th>\n",
              "      <th>g1</th>\n",
              "      <th>g2</th>\n",
              "      <th>g3</th>\n",
              "      <th>g4</th>\n",
              "      <th>stabf</th>\n",
              "    </tr>\n",
              "  </thead>\n",
              "  <tbody>\n",
              "    <tr>\n",
              "      <th>tau1</th>\n",
              "      <td>1.000000</td>\n",
              "      <td>0.007185</td>\n",
              "      <td>0.916967</td>\n",
              "      <td>-0.041844</td>\n",
              "      <td>0.015767</td>\n",
              "      <td>-0.005743</td>\n",
              "      <td>-0.005441</td>\n",
              "      <td>-0.016102</td>\n",
              "      <td>0.018482</td>\n",
              "      <td>0.008101</td>\n",
              "      <td>0.010458</td>\n",
              "      <td>0.011200</td>\n",
              "      <td>-0.216880</td>\n",
              "    </tr>\n",
              "    <tr>\n",
              "      <th>tau2</th>\n",
              "      <td>0.007185</td>\n",
              "      <td>1.000000</td>\n",
              "      <td>0.004340</td>\n",
              "      <td>0.009000</td>\n",
              "      <td>-0.006071</td>\n",
              "      <td>-0.004935</td>\n",
              "      <td>0.003754</td>\n",
              "      <td>0.011739</td>\n",
              "      <td>0.015495</td>\n",
              "      <td>0.009085</td>\n",
              "      <td>-0.018487</td>\n",
              "      <td>-0.030165</td>\n",
              "      <td>-0.244980</td>\n",
              "    </tr>\n",
              "    <tr>\n",
              "      <th>tau3</th>\n",
              "      <td>0.916967</td>\n",
              "      <td>0.004340</td>\n",
              "      <td>1.000000</td>\n",
              "      <td>-0.036587</td>\n",
              "      <td>0.018795</td>\n",
              "      <td>0.003091</td>\n",
              "      <td>-0.011658</td>\n",
              "      <td>-0.024040</td>\n",
              "      <td>0.006948</td>\n",
              "      <td>0.004703</td>\n",
              "      <td>-0.000684</td>\n",
              "      <td>0.000948</td>\n",
              "      <td>-0.194233</td>\n",
              "    </tr>\n",
              "    <tr>\n",
              "      <th>tau4</th>\n",
              "      <td>-0.041844</td>\n",
              "      <td>0.009000</td>\n",
              "      <td>-0.036587</td>\n",
              "      <td>1.000000</td>\n",
              "      <td>0.017041</td>\n",
              "      <td>0.009022</td>\n",
              "      <td>-0.024016</td>\n",
              "      <td>-0.014649</td>\n",
              "      <td>0.024627</td>\n",
              "      <td>-0.001215</td>\n",
              "      <td>-0.002323</td>\n",
              "      <td>0.009266</td>\n",
              "      <td>-0.247373</td>\n",
              "    </tr>\n",
              "    <tr>\n",
              "      <th>p1</th>\n",
              "      <td>0.015767</td>\n",
              "      <td>-0.006071</td>\n",
              "      <td>0.018795</td>\n",
              "      <td>0.017041</td>\n",
              "      <td>1.000000</td>\n",
              "      <td>-0.572279</td>\n",
              "      <td>-0.583545</td>\n",
              "      <td>-0.574046</td>\n",
              "      <td>0.018373</td>\n",
              "      <td>-0.017577</td>\n",
              "      <td>-0.000688</td>\n",
              "      <td>-0.008281</td>\n",
              "      <td>0.016366</td>\n",
              "    </tr>\n",
              "    <tr>\n",
              "      <th>p2</th>\n",
              "      <td>-0.005743</td>\n",
              "      <td>-0.004935</td>\n",
              "      <td>0.003091</td>\n",
              "      <td>0.009022</td>\n",
              "      <td>-0.572279</td>\n",
              "      <td>1.000000</td>\n",
              "      <td>0.001796</td>\n",
              "      <td>-0.017251</td>\n",
              "      <td>-0.002307</td>\n",
              "      <td>0.005881</td>\n",
              "      <td>0.029454</td>\n",
              "      <td>0.022722</td>\n",
              "      <td>-0.000389</td>\n",
              "    </tr>\n",
              "    <tr>\n",
              "      <th>p3</th>\n",
              "      <td>-0.005441</td>\n",
              "      <td>0.003754</td>\n",
              "      <td>-0.011658</td>\n",
              "      <td>-0.024016</td>\n",
              "      <td>-0.583545</td>\n",
              "      <td>0.001796</td>\n",
              "      <td>1.000000</td>\n",
              "      <td>0.011703</td>\n",
              "      <td>-0.016027</td>\n",
              "      <td>-0.010241</td>\n",
              "      <td>-0.014336</td>\n",
              "      <td>-0.023470</td>\n",
              "      <td>-0.005019</td>\n",
              "    </tr>\n",
              "    <tr>\n",
              "      <th>p4</th>\n",
              "      <td>-0.016102</td>\n",
              "      <td>0.011739</td>\n",
              "      <td>-0.024040</td>\n",
              "      <td>-0.014649</td>\n",
              "      <td>-0.574046</td>\n",
              "      <td>-0.017251</td>\n",
              "      <td>0.011703</td>\n",
              "      <td>1.000000</td>\n",
              "      <td>-0.013518</td>\n",
              "      <td>0.034737</td>\n",
              "      <td>-0.014164</td>\n",
              "      <td>0.014875</td>\n",
              "      <td>-0.022950</td>\n",
              "    </tr>\n",
              "    <tr>\n",
              "      <th>g1</th>\n",
              "      <td>0.018482</td>\n",
              "      <td>0.015495</td>\n",
              "      <td>0.006948</td>\n",
              "      <td>0.024627</td>\n",
              "      <td>0.018373</td>\n",
              "      <td>-0.002307</td>\n",
              "      <td>-0.016027</td>\n",
              "      <td>-0.013518</td>\n",
              "      <td>1.000000</td>\n",
              "      <td>0.013836</td>\n",
              "      <td>0.005848</td>\n",
              "      <td>0.028438</td>\n",
              "      <td>-0.198721</td>\n",
              "    </tr>\n",
              "    <tr>\n",
              "      <th>g2</th>\n",
              "      <td>0.008101</td>\n",
              "      <td>0.009085</td>\n",
              "      <td>0.004703</td>\n",
              "      <td>-0.001215</td>\n",
              "      <td>-0.017577</td>\n",
              "      <td>0.005881</td>\n",
              "      <td>-0.010241</td>\n",
              "      <td>0.034737</td>\n",
              "      <td>0.013836</td>\n",
              "      <td>1.000000</td>\n",
              "      <td>0.016022</td>\n",
              "      <td>0.002101</td>\n",
              "      <td>-0.219131</td>\n",
              "    </tr>\n",
              "    <tr>\n",
              "      <th>g3</th>\n",
              "      <td>0.010458</td>\n",
              "      <td>-0.018487</td>\n",
              "      <td>-0.000684</td>\n",
              "      <td>-0.002323</td>\n",
              "      <td>-0.000688</td>\n",
              "      <td>0.029454</td>\n",
              "      <td>-0.014336</td>\n",
              "      <td>-0.014164</td>\n",
              "      <td>0.005848</td>\n",
              "      <td>0.016022</td>\n",
              "      <td>1.000000</td>\n",
              "      <td>0.006604</td>\n",
              "      <td>-0.232120</td>\n",
              "    </tr>\n",
              "    <tr>\n",
              "      <th>g4</th>\n",
              "      <td>0.011200</td>\n",
              "      <td>-0.030165</td>\n",
              "      <td>0.000948</td>\n",
              "      <td>0.009266</td>\n",
              "      <td>-0.008281</td>\n",
              "      <td>0.022722</td>\n",
              "      <td>-0.023470</td>\n",
              "      <td>0.014875</td>\n",
              "      <td>0.028438</td>\n",
              "      <td>0.002101</td>\n",
              "      <td>0.006604</td>\n",
              "      <td>1.000000</td>\n",
              "      <td>-0.225225</td>\n",
              "    </tr>\n",
              "    <tr>\n",
              "      <th>stabf</th>\n",
              "      <td>-0.216880</td>\n",
              "      <td>-0.244980</td>\n",
              "      <td>-0.194233</td>\n",
              "      <td>-0.247373</td>\n",
              "      <td>0.016366</td>\n",
              "      <td>-0.000389</td>\n",
              "      <td>-0.005019</td>\n",
              "      <td>-0.022950</td>\n",
              "      <td>-0.198721</td>\n",
              "      <td>-0.219131</td>\n",
              "      <td>-0.232120</td>\n",
              "      <td>-0.225225</td>\n",
              "      <td>1.000000</td>\n",
              "    </tr>\n",
              "  </tbody>\n",
              "</table>\n",
              "</div>\n",
              "    <div class=\"colab-df-buttons\">\n",
              "\n",
              "  <div class=\"colab-df-container\">\n",
              "    <button class=\"colab-df-convert\" onclick=\"convertToInteractive('df-91e04e38-0771-491d-bd12-2da6d4c89d09')\"\n",
              "            title=\"Convert this dataframe to an interactive table.\"\n",
              "            style=\"display:none;\">\n",
              "\n",
              "  <svg xmlns=\"http://www.w3.org/2000/svg\" height=\"24px\" viewBox=\"0 -960 960 960\">\n",
              "    <path d=\"M120-120v-720h720v720H120Zm60-500h600v-160H180v160Zm220 220h160v-160H400v160Zm0 220h160v-160H400v160ZM180-400h160v-160H180v160Zm440 0h160v-160H620v160ZM180-180h160v-160H180v160Zm440 0h160v-160H620v160Z\"/>\n",
              "  </svg>\n",
              "    </button>\n",
              "\n",
              "  <style>\n",
              "    .colab-df-container {\n",
              "      display:flex;\n",
              "      gap: 12px;\n",
              "    }\n",
              "\n",
              "    .colab-df-convert {\n",
              "      background-color: #E8F0FE;\n",
              "      border: none;\n",
              "      border-radius: 50%;\n",
              "      cursor: pointer;\n",
              "      display: none;\n",
              "      fill: #1967D2;\n",
              "      height: 32px;\n",
              "      padding: 0 0 0 0;\n",
              "      width: 32px;\n",
              "    }\n",
              "\n",
              "    .colab-df-convert:hover {\n",
              "      background-color: #E2EBFA;\n",
              "      box-shadow: 0px 1px 2px rgba(60, 64, 67, 0.3), 0px 1px 3px 1px rgba(60, 64, 67, 0.15);\n",
              "      fill: #174EA6;\n",
              "    }\n",
              "\n",
              "    .colab-df-buttons div {\n",
              "      margin-bottom: 4px;\n",
              "    }\n",
              "\n",
              "    [theme=dark] .colab-df-convert {\n",
              "      background-color: #3B4455;\n",
              "      fill: #D2E3FC;\n",
              "    }\n",
              "\n",
              "    [theme=dark] .colab-df-convert:hover {\n",
              "      background-color: #434B5C;\n",
              "      box-shadow: 0px 1px 3px 1px rgba(0, 0, 0, 0.15);\n",
              "      filter: drop-shadow(0px 1px 2px rgba(0, 0, 0, 0.3));\n",
              "      fill: #FFFFFF;\n",
              "    }\n",
              "  </style>\n",
              "\n",
              "    <script>\n",
              "      const buttonEl =\n",
              "        document.querySelector('#df-91e04e38-0771-491d-bd12-2da6d4c89d09 button.colab-df-convert');\n",
              "      buttonEl.style.display =\n",
              "        google.colab.kernel.accessAllowed ? 'block' : 'none';\n",
              "\n",
              "      async function convertToInteractive(key) {\n",
              "        const element = document.querySelector('#df-91e04e38-0771-491d-bd12-2da6d4c89d09');\n",
              "        const dataTable =\n",
              "          await google.colab.kernel.invokeFunction('convertToInteractive',\n",
              "                                                    [key], {});\n",
              "        if (!dataTable) return;\n",
              "\n",
              "        const docLinkHtml = 'Like what you see? Visit the ' +\n",
              "          '<a target=\"_blank\" href=https://colab.research.google.com/notebooks/data_table.ipynb>data table notebook</a>'\n",
              "          + ' to learn more about interactive tables.';\n",
              "        element.innerHTML = '';\n",
              "        dataTable['output_type'] = 'display_data';\n",
              "        await google.colab.output.renderOutput(dataTable, element);\n",
              "        const docLink = document.createElement('div');\n",
              "        docLink.innerHTML = docLinkHtml;\n",
              "        element.appendChild(docLink);\n",
              "      }\n",
              "    </script>\n",
              "  </div>\n",
              "\n",
              "\n",
              "<div id=\"df-057c0bb2-c565-40fd-832e-630c46b796cb\">\n",
              "  <button class=\"colab-df-quickchart\" onclick=\"quickchart('df-057c0bb2-c565-40fd-832e-630c46b796cb')\"\n",
              "            title=\"Suggest charts\"\n",
              "            style=\"display:none;\">\n",
              "\n",
              "<svg xmlns=\"http://www.w3.org/2000/svg\" height=\"24px\"viewBox=\"0 0 24 24\"\n",
              "     width=\"24px\">\n",
              "    <g>\n",
              "        <path d=\"M19 3H5c-1.1 0-2 .9-2 2v14c0 1.1.9 2 2 2h14c1.1 0 2-.9 2-2V5c0-1.1-.9-2-2-2zM9 17H7v-7h2v7zm4 0h-2V7h2v10zm4 0h-2v-4h2v4z\"/>\n",
              "    </g>\n",
              "</svg>\n",
              "  </button>\n",
              "\n",
              "<style>\n",
              "  .colab-df-quickchart {\n",
              "      --bg-color: #E8F0FE;\n",
              "      --fill-color: #1967D2;\n",
              "      --hover-bg-color: #E2EBFA;\n",
              "      --hover-fill-color: #174EA6;\n",
              "      --disabled-fill-color: #AAA;\n",
              "      --disabled-bg-color: #DDD;\n",
              "  }\n",
              "\n",
              "  [theme=dark] .colab-df-quickchart {\n",
              "      --bg-color: #3B4455;\n",
              "      --fill-color: #D2E3FC;\n",
              "      --hover-bg-color: #434B5C;\n",
              "      --hover-fill-color: #FFFFFF;\n",
              "      --disabled-bg-color: #3B4455;\n",
              "      --disabled-fill-color: #666;\n",
              "  }\n",
              "\n",
              "  .colab-df-quickchart {\n",
              "    background-color: var(--bg-color);\n",
              "    border: none;\n",
              "    border-radius: 50%;\n",
              "    cursor: pointer;\n",
              "    display: none;\n",
              "    fill: var(--fill-color);\n",
              "    height: 32px;\n",
              "    padding: 0;\n",
              "    width: 32px;\n",
              "  }\n",
              "\n",
              "  .colab-df-quickchart:hover {\n",
              "    background-color: var(--hover-bg-color);\n",
              "    box-shadow: 0 1px 2px rgba(60, 64, 67, 0.3), 0 1px 3px 1px rgba(60, 64, 67, 0.15);\n",
              "    fill: var(--button-hover-fill-color);\n",
              "  }\n",
              "\n",
              "  .colab-df-quickchart-complete:disabled,\n",
              "  .colab-df-quickchart-complete:disabled:hover {\n",
              "    background-color: var(--disabled-bg-color);\n",
              "    fill: var(--disabled-fill-color);\n",
              "    box-shadow: none;\n",
              "  }\n",
              "\n",
              "  .colab-df-spinner {\n",
              "    border: 2px solid var(--fill-color);\n",
              "    border-color: transparent;\n",
              "    border-bottom-color: var(--fill-color);\n",
              "    animation:\n",
              "      spin 1s steps(1) infinite;\n",
              "  }\n",
              "\n",
              "  @keyframes spin {\n",
              "    0% {\n",
              "      border-color: transparent;\n",
              "      border-bottom-color: var(--fill-color);\n",
              "      border-left-color: var(--fill-color);\n",
              "    }\n",
              "    20% {\n",
              "      border-color: transparent;\n",
              "      border-left-color: var(--fill-color);\n",
              "      border-top-color: var(--fill-color);\n",
              "    }\n",
              "    30% {\n",
              "      border-color: transparent;\n",
              "      border-left-color: var(--fill-color);\n",
              "      border-top-color: var(--fill-color);\n",
              "      border-right-color: var(--fill-color);\n",
              "    }\n",
              "    40% {\n",
              "      border-color: transparent;\n",
              "      border-right-color: var(--fill-color);\n",
              "      border-top-color: var(--fill-color);\n",
              "    }\n",
              "    60% {\n",
              "      border-color: transparent;\n",
              "      border-right-color: var(--fill-color);\n",
              "    }\n",
              "    80% {\n",
              "      border-color: transparent;\n",
              "      border-right-color: var(--fill-color);\n",
              "      border-bottom-color: var(--fill-color);\n",
              "    }\n",
              "    90% {\n",
              "      border-color: transparent;\n",
              "      border-bottom-color: var(--fill-color);\n",
              "    }\n",
              "  }\n",
              "</style>\n",
              "\n",
              "  <script>\n",
              "    async function quickchart(key) {\n",
              "      const quickchartButtonEl =\n",
              "        document.querySelector('#' + key + ' button');\n",
              "      quickchartButtonEl.disabled = true;  // To prevent multiple clicks.\n",
              "      quickchartButtonEl.classList.add('colab-df-spinner');\n",
              "      try {\n",
              "        const charts = await google.colab.kernel.invokeFunction(\n",
              "            'suggestCharts', [key], {});\n",
              "      } catch (error) {\n",
              "        console.error('Error during call to suggestCharts:', error);\n",
              "      }\n",
              "      quickchartButtonEl.classList.remove('colab-df-spinner');\n",
              "      quickchartButtonEl.classList.add('colab-df-quickchart-complete');\n",
              "    }\n",
              "    (() => {\n",
              "      let quickchartButtonEl =\n",
              "        document.querySelector('#df-057c0bb2-c565-40fd-832e-630c46b796cb button');\n",
              "      quickchartButtonEl.style.display =\n",
              "        google.colab.kernel.accessAllowed ? 'block' : 'none';\n",
              "    })();\n",
              "  </script>\n",
              "</div>\n",
              "    </div>\n",
              "  </div>\n"
            ],
            "application/vnd.google.colaboratory.intrinsic+json": {
              "type": "dataframe",
              "summary": "{\n  \"name\": \"test_data\",\n  \"rows\": 13,\n  \"fields\": [\n    {\n      \"column\": \"tau1\",\n      \"properties\": {\n        \"dtype\": \"number\",\n        \"std\": 0.3728281763460852,\n        \"min\": -0.21688019214926565,\n        \"max\": 1.0,\n        \"num_unique_values\": 13,\n        \"samples\": [\n          0.011200164424352921,\n          0.008101159233669978,\n          1.0\n        ],\n        \"semantic_type\": \"\",\n        \"description\": \"\"\n      }\n    },\n    {\n      \"column\": \"tau2\",\n      \"properties\": {\n        \"dtype\": \"number\",\n        \"std\": 0.2912607692520391,\n        \"min\": -0.24497957730531567,\n        \"max\": 1.0,\n        \"num_unique_values\": 13,\n        \"samples\": [\n          -0.030164523128924377,\n          0.009084711721601238,\n          0.00718518183447005\n        ],\n        \"semantic_type\": \"\",\n        \"description\": \"\"\n      }\n    },\n    {\n      \"column\": \"tau3\",\n      \"properties\": {\n        \"dtype\": \"number\",\n        \"std\": 0.372125359666255,\n        \"min\": -0.19423297890495758,\n        \"max\": 1.0,\n        \"num_unique_values\": 13,\n        \"samples\": [\n          0.0009476412201141817,\n          0.004703359612288758,\n          0.916967055244842\n        ],\n        \"semantic_type\": \"\",\n        \"description\": \"\"\n      }\n    },\n    {\n      \"column\": \"tau4\",\n      \"properties\": {\n        \"dtype\": \"number\",\n        \"std\": 0.29275013996935906,\n        \"min\": -0.24737273464743148,\n        \"max\": 1.0,\n        \"num_unique_values\": 13,\n        \"samples\": [\n          0.009266149188140085,\n          -0.0012152644760752892,\n          -0.04184392058449727\n        ],\n        \"semantic_type\": \"\",\n        \"description\": \"\"\n      }\n    },\n    {\n      \"column\": \"p1\",\n      \"properties\": {\n        \"dtype\": \"number\",\n        \"std\": 0.4045884434011639,\n        \"min\": -0.5835446596701991,\n        \"max\": 1.0,\n        \"num_unique_values\": 13,\n        \"samples\": [\n          -0.008281348935750756,\n          -0.017576707952789653,\n          0.015767014338833988\n        ],\n        \"semantic_type\": \"\",\n        \"description\": \"\"\n      }\n    },\n    {\n      \"column\": \"p2\",\n      \"properties\": {\n        \"dtype\": \"number\",\n        \"std\": 0.33071282903448845,\n        \"min\": -0.5722790480960767,\n        \"max\": 1.0,\n        \"num_unique_values\": 13,\n        \"samples\": [\n          0.02272201112631464,\n          0.0058814962657428435,\n          -0.005743252630798266\n        ],\n        \"semantic_type\": \"\",\n        \"description\": \"\"\n      }\n    },\n    {\n      \"column\": \"p3\",\n      \"properties\": {\n        \"dtype\": \"number\",\n        \"std\": 0.3334808871195808,\n        \"min\": -0.5835446596701991,\n        \"max\": 1.0,\n        \"num_unique_values\": 13,\n        \"samples\": [\n          -0.023469509761095173,\n          -0.010241096168995012,\n          -0.0054413205212496445\n        ],\n        \"semantic_type\": \"\",\n        \"description\": \"\"\n      }\n    },\n    {\n      \"column\": \"p4\",\n      \"properties\": {\n        \"dtype\": \"number\",\n        \"std\": 0.3319884987999001,\n        \"min\": -0.5740458192447413,\n        \"max\": 1.0,\n        \"num_unique_values\": 13,\n        \"samples\": [\n          0.014874667764786891,\n          0.03473656568573257,\n          -0.016101937874931013\n        ],\n        \"semantic_type\": \"\",\n        \"description\": \"\"\n      }\n    },\n    {\n      \"column\": \"g1\",\n      \"properties\": {\n        \"dtype\": \"number\",\n        \"std\": 0.2857784077543339,\n        \"min\": -0.19872145818462153,\n        \"max\": 1.0,\n        \"num_unique_values\": 13,\n        \"samples\": [\n          0.028437518931526944,\n          0.013835502335662194,\n          0.01848213713210617\n        ],\n        \"semantic_type\": \"\",\n        \"description\": \"\"\n      }\n    },\n    {\n      \"column\": \"g2\",\n      \"properties\": {\n        \"dtype\": \"number\",\n        \"std\": 0.2879819354342207,\n        \"min\": -0.21913066653461705,\n        \"max\": 1.0,\n        \"num_unique_values\": 13,\n        \"samples\": [\n          0.0021013208135909826,\n          1.0,\n          0.008101159233669978\n        ],\n        \"semantic_type\": \"\",\n        \"description\": \"\"\n      }\n    },\n    {\n      \"column\": \"g3\",\n      \"properties\": {\n        \"dtype\": \"number\",\n        \"std\": 0.2898954978644201,\n        \"min\": -0.2321200855345517,\n        \"max\": 1.0,\n        \"num_unique_values\": 13,\n        \"samples\": [\n          0.006603559185562028,\n          0.016022097039331922,\n          0.010458276797190158\n        ],\n        \"semantic_type\": \"\",\n        \"description\": \"\"\n      }\n    },\n    {\n      \"column\": \"g4\",\n      \"properties\": {\n        \"dtype\": \"number\",\n        \"std\": 0.2892109762301604,\n        \"min\": -0.22522512285640728,\n        \"max\": 1.0,\n        \"num_unique_values\": 13,\n        \"samples\": [\n          1.0,\n          0.0021013208135909826,\n          0.011200164424352921\n        ],\n        \"semantic_type\": \"\",\n        \"description\": \"\"\n      }\n    },\n    {\n      \"column\": \"stabf\",\n      \"properties\": {\n        \"dtype\": \"number\",\n        \"std\": 0.335511896442124,\n        \"min\": -0.24737273464743148,\n        \"max\": 1.0,\n        \"num_unique_values\": 13,\n        \"samples\": [\n          -0.22522512285640728,\n          -0.21913066653461705,\n          -0.21688019214926565\n        ],\n        \"semantic_type\": \"\",\n        \"description\": \"\"\n      }\n    }\n  ]\n}"
            }
          },
          "metadata": {},
          "execution_count": 535
        }
      ]
    },
    {
      "cell_type": "code",
      "source": [
        "# Checking it the test heatmap is similar to the training heatmap, in order to be sure\n",
        "plt.figure(figsize=(12,6))\n",
        "sns.heatmap(test_data.corr(), cmap='coolwarm', annot=True)"
      ],
      "metadata": {
        "colab": {
          "base_uri": "https://localhost:8080/",
          "height": 546
        },
        "id": "WwX7AmodIBFi",
        "outputId": "74aad976-c7cd-45e4-d535-df1868bcf4ac"
      },
      "execution_count": null,
      "outputs": [
        {
          "output_type": "execute_result",
          "data": {
            "text/plain": [
              "<Axes: >"
            ]
          },
          "metadata": {},
          "execution_count": 536
        },
        {
          "output_type": "display_data",
          "data": {
            "text/plain": [
              "<Figure size 1200x600 with 2 Axes>"
            ],
            "image/png": "[encoded data removed]"
          },
          "metadata": {}
        }
      ]
    },
    {
      "cell_type": "code",
      "source": [
        "# Drop the features that were also not trained\n",
        "test_data = test_data.drop(['p1', 'tau1'], axis=1)"
      ],
      "metadata": {
        "id": "E_nHPTjKIYMG"
      },
      "execution_count": null,
      "outputs": []
    },
    {
      "cell_type": "code",
      "source": [
        "# Show the test data\n",
        "test_data.head()"
      ],
      "metadata": {
        "colab": {
          "base_uri": "https://localhost:8080/",
          "height": 206
        },
        "id": "5o7uk-4CInfJ",
        "outputId": "d43448c4-b747-4594-dd5d-390df7d68703"
      },
      "execution_count": null,
      "outputs": [
        {
          "output_type": "execute_result",
          "data": {
            "text/plain": [
              "       tau2      tau3      tau4        p2        p3        p4        g1  \\\n",
              "0  1.998723  3.198395  6.749158 -1.025326 -0.975754 -1.839274  0.705793   \n",
              "1  0.390647  7.295651  2.238956 -0.850468 -1.162358 -0.513991  0.818904   \n",
              "2  5.681400  3.766899  6.464329 -1.143055 -1.076921 -0.985898  0.721218   \n",
              "3  5.363109  1.412934  6.172790 -0.879606 -1.127544 -1.380928  0.109811   \n",
              "4  7.751648  2.488778  5.558753 -1.391981 -0.747310 -0.805910  0.608805   \n",
              "\n",
              "         g2        g3        g4  stabf  \n",
              "0  0.061484  0.655529  0.716621      0  \n",
              "1  0.917692  0.331460  0.161048      1  \n",
              "2  0.283222  0.519634  0.810315      0  \n",
              "3  0.633781  0.079277  0.841257      0  \n",
              "4  0.509664  0.622356  0.394018      0  "
            ],
            "text/html": [
              "\n",
              "  <div id=\"df-658e63a6-16a4-418b-9bb3-6650fa543a0f\" class=\"colab-df-container\">\n",
              "    <div>\n",
              "<style scoped>\n",
              "    .dataframe tbody tr th:only-of-type {\n",
              "        vertical-align: middle;\n",
              "    }\n",
              "\n",
              "    .dataframe tbody tr th {\n",
              "        vertical-align: top;\n",
              "    }\n",
              "\n",
              "    .dataframe thead th {\n",
              "        text-align: right;\n",
              "    }\n",
              "</style>\n",
              "<table border=\"1\" class=\"dataframe\">\n",
              "  <thead>\n",
              "    <tr style=\"text-align: right;\">\n",
              "      <th></th>\n",
              "      <th>tau2</th>\n",
              "      <th>tau3</th>\n",
              "      <th>tau4</th>\n",
              "      <th>p2</th>\n",
              "      <th>p3</th>\n",
              "      <th>p4</th>\n",
              "      <th>g1</th>\n",
              "      <th>g2</th>\n",
              "      <th>g3</th>\n",
              "      <th>g4</th>\n",
              "      <th>stabf</th>\n",
              "    </tr>\n",
              "  </thead>\n",
              "  <tbody>\n",
              "    <tr>\n",
              "      <th>0</th>\n",
              "      <td>1.998723</td>\n",
              "      <td>3.198395</td>\n",
              "      <td>6.749158</td>\n",
              "      <td>-1.025326</td>\n",
              "      <td>-0.975754</td>\n",
              "      <td>-1.839274</td>\n",
              "      <td>0.705793</td>\n",
              "      <td>0.061484</td>\n",
              "      <td>0.655529</td>\n",
              "      <td>0.716621</td>\n",
              "      <td>0</td>\n",
              "    </tr>\n",
              "    <tr>\n",
              "      <th>1</th>\n",
              "      <td>0.390647</td>\n",
              "      <td>7.295651</td>\n",
              "      <td>2.238956</td>\n",
              "      <td>-0.850468</td>\n",
              "      <td>-1.162358</td>\n",
              "      <td>-0.513991</td>\n",
              "      <td>0.818904</td>\n",
              "      <td>0.917692</td>\n",
              "      <td>0.331460</td>\n",
              "      <td>0.161048</td>\n",
              "      <td>1</td>\n",
              "    </tr>\n",
              "    <tr>\n",
              "      <th>2</th>\n",
              "      <td>5.681400</td>\n",
              "      <td>3.766899</td>\n",
              "      <td>6.464329</td>\n",
              "      <td>-1.143055</td>\n",
              "      <td>-1.076921</td>\n",
              "      <td>-0.985898</td>\n",
              "      <td>0.721218</td>\n",
              "      <td>0.283222</td>\n",
              "      <td>0.519634</td>\n",
              "      <td>0.810315</td>\n",
              "      <td>0</td>\n",
              "    </tr>\n",
              "    <tr>\n",
              "      <th>3</th>\n",
              "      <td>5.363109</td>\n",
              "      <td>1.412934</td>\n",
              "      <td>6.172790</td>\n",
              "      <td>-0.879606</td>\n",
              "      <td>-1.127544</td>\n",
              "      <td>-1.380928</td>\n",
              "      <td>0.109811</td>\n",
              "      <td>0.633781</td>\n",
              "      <td>0.079277</td>\n",
              "      <td>0.841257</td>\n",
              "      <td>0</td>\n",
              "    </tr>\n",
              "    <tr>\n",
              "      <th>4</th>\n",
              "      <td>7.751648</td>\n",
              "      <td>2.488778</td>\n",
              "      <td>5.558753</td>\n",
              "      <td>-1.391981</td>\n",
              "      <td>-0.747310</td>\n",
              "      <td>-0.805910</td>\n",
              "      <td>0.608805</td>\n",
              "      <td>0.509664</td>\n",
              "      <td>0.622356</td>\n",
              "      <td>0.394018</td>\n",
              "      <td>0</td>\n",
              "    </tr>\n",
              "  </tbody>\n",
              "</table>\n",
              "</div>\n",
              "    <div class=\"colab-df-buttons\">\n",
              "\n",
              "  <div class=\"colab-df-container\">\n",
              "    <button class=\"colab-df-convert\" onclick=\"convertToInteractive('df-658e63a6-16a4-418b-9bb3-6650fa543a0f')\"\n",
              "            title=\"Convert this dataframe to an interactive table.\"\n",
              "            style=\"display:none;\">\n",
              "\n",
              "  <svg xmlns=\"http://www.w3.org/2000/svg\" height=\"24px\" viewBox=\"0 -960 960 960\">\n",
              "    <path d=\"M120-120v-720h720v720H120Zm60-500h600v-160H180v160Zm220 220h160v-160H400v160Zm0 220h160v-160H400v160ZM180-400h160v-160H180v160Zm440 0h160v-160H620v160ZM180-180h160v-160H180v160Zm440 0h160v-160H620v160Z\"/>\n",
              "  </svg>\n",
              "    </button>\n",
              "\n",
              "  <style>\n",
              "    .colab-df-container {\n",
              "      display:flex;\n",
              "      gap: 12px;\n",
              "    }\n",
              "\n",
              "    .colab-df-convert {\n",
              "      background-color: #E8F0FE;\n",
              "      border: none;\n",
              "      border-radius: 50%;\n",
              "      cursor: pointer;\n",
              "      display: none;\n",
              "      fill: #1967D2;\n",
              "      height: 32px;\n",
              "      padding: 0 0 0 0;\n",
              "      width: 32px;\n",
              "    }\n",
              "\n",
              "    .colab-df-convert:hover {\n",
              "      background-color: #E2EBFA;\n",
              "      box-shadow: 0px 1px 2px rgba(60, 64, 67, 0.3), 0px 1px 3px 1px rgba(60, 64, 67, 0.15);\n",
              "      fill: #174EA6;\n",
              "    }\n",
              "\n",
              "    .colab-df-buttons div {\n",
              "      margin-bottom: 4px;\n",
              "    }\n",
              "\n",
              "    [theme=dark] .colab-df-convert {\n",
              "      background-color: #3B4455;\n",
              "      fill: #D2E3FC;\n",
              "    }\n",
              "\n",
              "    [theme=dark] .colab-df-convert:hover {\n",
              "      background-color: #434B5C;\n",
              "      box-shadow: 0px 1px 3px 1px rgba(0, 0, 0, 0.15);\n",
              "      filter: drop-shadow(0px 1px 2px rgba(0, 0, 0, 0.3));\n",
              "      fill: #FFFFFF;\n",
              "    }\n",
              "  </style>\n",
              "\n",
              "    <script>\n",
              "      const buttonEl =\n",
              "        document.querySelector('#df-658e63a6-16a4-418b-9bb3-6650fa543a0f button.colab-df-convert');\n",
              "      buttonEl.style.display =\n",
              "        google.colab.kernel.accessAllowed ? 'block' : 'none';\n",
              "\n",
              "      async function convertToInteractive(key) {\n",
              "        const element = document.querySelector('#df-658e63a6-16a4-418b-9bb3-6650fa543a0f');\n",
              "        const dataTable =\n",
              "          await google.colab.kernel.invokeFunction('convertToInteractive',\n",
              "                                                    [key], {});\n",
              "        if (!dataTable) return;\n",
              "\n",
              "        const docLinkHtml = 'Like what you see? Visit the ' +\n",
              "          '<a target=\"_blank\" href=https://colab.research.google.com/notebooks/data_table.ipynb>data table notebook</a>'\n",
              "          + ' to learn more about interactive tables.';\n",
              "        element.innerHTML = '';\n",
              "        dataTable['output_type'] = 'display_data';\n",
              "        await google.colab.output.renderOutput(dataTable, element);\n",
              "        const docLink = document.createElement('div');\n",
              "        docLink.innerHTML = docLinkHtml;\n",
              "        element.appendChild(docLink);\n",
              "      }\n",
              "    </script>\n",
              "  </div>\n",
              "\n",
              "\n",
              "<div id=\"df-482ed457-f431-4025-aefb-9f03f164eb26\">\n",
              "  <button class=\"colab-df-quickchart\" onclick=\"quickchart('df-482ed457-f431-4025-aefb-9f03f164eb26')\"\n",
              "            title=\"Suggest charts\"\n",
              "            style=\"display:none;\">\n",
              "\n",
              "<svg xmlns=\"http://www.w3.org/2000/svg\" height=\"24px\"viewBox=\"0 0 24 24\"\n",
              "     width=\"24px\">\n",
              "    <g>\n",
              "        <path d=\"M19 3H5c-1.1 0-2 .9-2 2v14c0 1.1.9 2 2 2h14c1.1 0 2-.9 2-2V5c0-1.1-.9-2-2-2zM9 17H7v-7h2v7zm4 0h-2V7h2v10zm4 0h-2v-4h2v4z\"/>\n",
              "    </g>\n",
              "</svg>\n",
              "  </button>\n",
              "\n",
              "<style>\n",
              "  .colab-df-quickchart {\n",
              "      --bg-color: #E8F0FE;\n",
              "      --fill-color: #1967D2;\n",
              "      --hover-bg-color: #E2EBFA;\n",
              "      --hover-fill-color: #174EA6;\n",
              "      --disabled-fill-color: #AAA;\n",
              "      --disabled-bg-color: #DDD;\n",
              "  }\n",
              "\n",
              "  [theme=dark] .colab-df-quickchart {\n",
              "      --bg-color: #3B4455;\n",
              "      --fill-color: #D2E3FC;\n",
              "      --hover-bg-color: #434B5C;\n",
              "      --hover-fill-color: #FFFFFF;\n",
              "      --disabled-bg-color: #3B4455;\n",
              "      --disabled-fill-color: #666;\n",
              "  }\n",
              "\n",
              "  .colab-df-quickchart {\n",
              "    background-color: var(--bg-color);\n",
              "    border: none;\n",
              "    border-radius: 50%;\n",
              "    cursor: pointer;\n",
              "    display: none;\n",
              "    fill: var(--fill-color);\n",
              "    height: 32px;\n",
              "    padding: 0;\n",
              "    width: 32px;\n",
              "  }\n",
              "\n",
              "  .colab-df-quickchart:hover {\n",
              "    background-color: var(--hover-bg-color);\n",
              "    box-shadow: 0 1px 2px rgba(60, 64, 67, 0.3), 0 1px 3px 1px rgba(60, 64, 67, 0.15);\n",
              "    fill: var(--button-hover-fill-color);\n",
              "  }\n",
              "\n",
              "  .colab-df-quickchart-complete:disabled,\n",
              "  .colab-df-quickchart-complete:disabled:hover {\n",
              "    background-color: var(--disabled-bg-color);\n",
              "    fill: var(--disabled-fill-color);\n",
              "    box-shadow: none;\n",
              "  }\n",
              "\n",
              "  .colab-df-spinner {\n",
              "    border: 2px solid var(--fill-color);\n",
              "    border-color: transparent;\n",
              "    border-bottom-color: var(--fill-color);\n",
              "    animation:\n",
              "      spin 1s steps(1) infinite;\n",
              "  }\n",
              "\n",
              "  @keyframes spin {\n",
              "    0% {\n",
              "      border-color: transparent;\n",
              "      border-bottom-color: var(--fill-color);\n",
              "      border-left-color: var(--fill-color);\n",
              "    }\n",
              "    20% {\n",
              "      border-color: transparent;\n",
              "      border-left-color: var(--fill-color);\n",
              "      border-top-color: var(--fill-color);\n",
              "    }\n",
              "    30% {\n",
              "      border-color: transparent;\n",
              "      border-left-color: var(--fill-color);\n",
              "      border-top-color: var(--fill-color);\n",
              "      border-right-color: var(--fill-color);\n",
              "    }\n",
              "    40% {\n",
              "      border-color: transparent;\n",
              "      border-right-color: var(--fill-color);\n",
              "      border-top-color: var(--fill-color);\n",
              "    }\n",
              "    60% {\n",
              "      border-color: transparent;\n",
              "      border-right-color: var(--fill-color);\n",
              "    }\n",
              "    80% {\n",
              "      border-color: transparent;\n",
              "      border-right-color: var(--fill-color);\n",
              "      border-bottom-color: var(--fill-color);\n",
              "    }\n",
              "    90% {\n",
              "      border-color: transparent;\n",
              "      border-bottom-color: var(--fill-color);\n",
              "    }\n",
              "  }\n",
              "</style>\n",
              "\n",
              "  <script>\n",
              "    async function quickchart(key) {\n",
              "      const quickchartButtonEl =\n",
              "        document.querySelector('#' + key + ' button');\n",
              "      quickchartButtonEl.disabled = true;  // To prevent multiple clicks.\n",
              "      quickchartButtonEl.classList.add('colab-df-spinner');\n",
              "      try {\n",
              "        const charts = await google.colab.kernel.invokeFunction(\n",
              "            'suggestCharts', [key], {});\n",
              "      } catch (error) {\n",
              "        console.error('Error during call to suggestCharts:', error);\n",
              "      }\n",
              "      quickchartButtonEl.classList.remove('colab-df-spinner');\n",
              "      quickchartButtonEl.classList.add('colab-df-quickchart-complete');\n",
              "    }\n",
              "    (() => {\n",
              "      let quickchartButtonEl =\n",
              "        document.querySelector('#df-482ed457-f431-4025-aefb-9f03f164eb26 button');\n",
              "      quickchartButtonEl.style.display =\n",
              "        google.colab.kernel.accessAllowed ? 'block' : 'none';\n",
              "    })();\n",
              "  </script>\n",
              "</div>\n",
              "    </div>\n",
              "  </div>\n"
            ],
            "application/vnd.google.colaboratory.intrinsic+json": {
              "type": "dataframe",
              "variable_name": "test_data",
              "summary": "{\n  \"name\": \"test_data\",\n  \"rows\": 2500,\n  \"fields\": [\n    {\n      \"column\": \"tau2\",\n      \"properties\": {\n        \"dtype\": \"number\",\n        \"std\": 2.7135671004461406,\n        \"min\": -0.2216844275389256,\n        \"max\": 9.270989379461074,\n        \"num_unique_values\": 2500,\n        \"samples\": [\n          2.3483210934610748,\n          6.582482171461074,\n          0.3229606414610744\n        ],\n        \"semantic_type\": \"\",\n        \"description\": \"\"\n      }\n    },\n    {\n      \"column\": \"tau3\",\n      \"properties\": {\n        \"dtype\": \"number\",\n        \"std\": 2.738775273111536,\n        \"min\": 0.500793021,\n        \"max\": 9.999469469,\n        \"num_unique_values\": 2441,\n        \"samples\": [\n          7.940691404,\n          3.103826937,\n          3.982370356\n        ],\n        \"semantic_type\": \"\",\n        \"description\": \"\"\n      }\n    },\n    {\n      \"column\": \"tau4\",\n      \"properties\": {\n        \"dtype\": \"number\",\n        \"std\": 2.7792618794515427,\n        \"min\": 0.5020245879999999,\n        \"max\": 9.999443297,\n        \"num_unique_values\": 2500,\n        \"samples\": [\n          2.2766578930000003,\n          6.057037492,\n          6.556790419\n        ],\n        \"semantic_type\": \"\",\n        \"description\": \"\"\n      }\n    },\n    {\n      \"column\": \"p2\",\n      \"properties\": {\n        \"dtype\": \"number\",\n        \"std\": 0.43293129646721884,\n        \"min\": -1.999655126,\n        \"max\": -0.500610409,\n        \"num_unique_values\": 2500,\n        \"samples\": [\n          -1.40696006,\n          -1.944270083,\n          -1.1203358840000002\n        ],\n        \"semantic_type\": \"\",\n        \"description\": \"\"\n      }\n    },\n    {\n      \"column\": \"p3\",\n      \"properties\": {\n        \"dtype\": \"number\",\n        \"std\": 0.42886424515195115,\n        \"min\": -1.999456735,\n        \"max\": -0.500072252,\n        \"num_unique_values\": 2500,\n        \"samples\": [\n          -0.643881307,\n          -0.596276148,\n          -0.555780374\n        ],\n        \"semantic_type\": \"\",\n        \"description\": \"\"\n      }\n    },\n    {\n      \"column\": \"p4\",\n      \"properties\": {\n        \"dtype\": \"number\",\n        \"std\": 0.43004852364085966,\n        \"min\": -1.999675101,\n        \"max\": -0.500811264,\n        \"num_unique_values\": 2500,\n        \"samples\": [\n          -0.535209326,\n          -0.63711044,\n          -1.879830053\n        ],\n        \"semantic_type\": \"\",\n        \"description\": \"\"\n      }\n    },\n    {\n      \"column\": \"g1\",\n      \"properties\": {\n        \"dtype\": \"number\",\n        \"std\": 0.2740663833024177,\n        \"min\": 0.050211922,\n        \"max\": 0.999466657,\n        \"num_unique_values\": 2500,\n        \"samples\": [\n          0.907623531,\n          0.654084331,\n          0.666720434\n        ],\n        \"semantic_type\": \"\",\n        \"description\": \"\"\n      }\n    },\n    {\n      \"column\": \"g2\",\n      \"properties\": {\n        \"dtype\": \"number\",\n        \"std\": 0.28004774095418145,\n        \"min\": 0.050053101,\n        \"max\": 0.999341766,\n        \"num_unique_values\": 2500,\n        \"samples\": [\n          0.991250229,\n          0.19066777,\n          0.148319344\n        ],\n        \"semantic_type\": \"\",\n        \"description\": \"\"\n      }\n    },\n    {\n      \"column\": \"g3\",\n      \"properties\": {\n        \"dtype\": \"number\",\n        \"std\": 0.27421431348369696,\n        \"min\": 0.050270427,\n        \"max\": 0.999981832,\n        \"num_unique_values\": 2500,\n        \"samples\": [\n          0.467569604,\n          0.75378075,\n          0.416112566\n        ],\n        \"semantic_type\": \"\",\n        \"description\": \"\"\n      }\n    },\n    {\n      \"column\": \"g4\",\n      \"properties\": {\n        \"dtype\": \"number\",\n        \"std\": 0.27041291550129176,\n        \"min\": 0.0503357,\n        \"max\": 0.999640083,\n        \"num_unique_values\": 2500,\n        \"samples\": [\n          0.27282995,\n          0.167547684,\n          0.267458597\n        ],\n        \"semantic_type\": \"\",\n        \"description\": \"\"\n      }\n    },\n    {\n      \"column\": \"stabf\",\n      \"properties\": {\n        \"dtype\": \"number\",\n        \"std\": 0,\n        \"min\": 0,\n        \"max\": 1,\n        \"num_unique_values\": 2,\n        \"samples\": [\n          1,\n          0\n        ],\n        \"semantic_type\": \"\",\n        \"description\": \"\"\n      }\n    }\n  ]\n}"
            }
          },
          "metadata": {},
          "execution_count": 538
        }
      ]
    },
    {
      "cell_type": "code",
      "source": [
        "# Draw a heatmap\n",
        "plt.figure(figsize=(12,6))\n",
        "sns.heatmap(test_data.corr(), cmap='coolwarm', annot=True)"
      ],
      "metadata": {
        "colab": {
          "base_uri": "https://localhost:8080/",
          "height": 546
        },
        "id": "xj19vvY6Ip9U",
        "outputId": "ee1830ea-e231-4697-9189-45da8ebfa329"
      },
      "execution_count": null,
      "outputs": [
        {
          "output_type": "execute_result",
          "data": {
            "text/plain": [
              "<Axes: >"
            ]
          },
          "metadata": {},
          "execution_count": 539
        },
        {
          "output_type": "display_data",
          "data": {
            "text/plain": [
              "<Figure size 1200x600 with 2 Axes>"
            ],
            "image/png": "[encoded data removed]"
          },
          "metadata": {}
        }
      ]
    },
    {
      "cell_type": "markdown",
      "source": [
        "# Model"
      ],
      "metadata": {
        "id": "ciJ-M9CPI5JT"
      }
    },
    {
      "cell_type": "code",
      "source": [
        "# Prepare the test features (X_test) by dropping the 'stabf' column\n",
        "X_test = test_data.drop('stabf', axis=1)\n",
        "\n",
        "# Prepare the test labels (y_test) by extracting only the 'stabf' column\n",
        "y_test = test_data.stabf"
      ],
      "metadata": {
        "id": "MHOwBM3CMP78"
      },
      "execution_count": null,
      "outputs": []
    },
    {
      "cell_type": "code",
      "source": [
        "# Make predictions on the test data using the trained XGBoost model (model_grid_xgb)\n",
        "predictions = model_grid_xgb.predict(X_test)"
      ],
      "metadata": {
        "id": "OKQQBc13P_r-"
      },
      "execution_count": null,
      "outputs": []
    },
    {
      "cell_type": "code",
      "source": [
        "# Calculate accuracy, recall, F1 score, precision\n",
        "# Compare the actual 'stabf' column with the predicted column\n",
        "accuracy = accuracy_score(y_test, predictions)\n",
        "recall = recall_score(y_test, predictions)\n",
        "precision = precision_score(y_test, predictions)\n",
        "f1 = f1_score(y_test, predictions)\n",
        "\n",
        "# Print the results\n",
        "print(f\"Test Accuracy: {accuracy}\")\n",
        "print(f\"Recall: {recall}\")\n",
        "print(f\"Precision: {precision}\")\n",
        "print(f\"F1-score: {f1}\")"
      ],
      "metadata": {
        "colab": {
          "base_uri": "https://localhost:8080/"
        },
        "id": "o9BKFy4_Qu8U",
        "outputId": "2e28b390-d9f6-40e3-fca1-c35f0902afd8"
      },
      "execution_count": null,
      "outputs": [
        {
          "output_type": "stream",
          "name": "stdout",
          "text": [
            "Test Accuracy: 0.8528\n",
            "Recall: 0.7637362637362637\n",
            "Precision: 0.8195754716981132\n",
            "F1-score: 0.7906712172923777\n"
          ]
        }
      ]
    }
  ],
  "metadata": {
    "colab": {
      "provenance": []
    },
    "kernelspec": {
      "display_name": "Python 3",
      "name": "python3"
    },
    "language_info": {
      "name": "python"
    }
  },
  "nbformat": 4,
  "nbformat_minor": 0
}