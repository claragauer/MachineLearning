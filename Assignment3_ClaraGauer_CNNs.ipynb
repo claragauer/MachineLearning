{
  "nbformat": 4,
  "nbformat_minor": 0,
  "metadata": {
    "colab": {
      "provenance": []
    },
    "kernelspec": {
      "name": "python3",
      "display_name": "Python 3"
    },
    "language_info": {
      "name": "python"
    }
  },
  "cells": [
    {
      "cell_type": "markdown",
      "source": [
        "# Convolutional Neural Networks"
      ],
      "metadata": {
        "id": "qcAMmBCN6FIV"
      }
    },
    {
      "cell_type": "code",
      "execution_count": 96,
      "metadata": {
        "id": "z3mfjSa56EXL"
      },
      "outputs": [],
      "source": [
        "# Import necessary libraries\n",
        "import numpy as np\n",
        "import pandas as pd\n",
        "import matplotlib.pyplot as plt\n",
        "import tensorflow as tf\n",
        "from tensorflow.keras.models import Sequential\n",
        "from tensorflow.keras.layers import Conv2D, MaxPooling2D, Flatten, Dense, Dropout\n",
        "from tensorflow.keras.preprocessing.image import ImageDataGenerator\n",
        "from tensorflow.keras.regularizers import l2\n",
        "from sklearn.metrics import mean_absolute_error, r2_score\n",
        "import math\n"
      ]
    },
    {
      "cell_type": "code",
      "source": [
        "# Define paths to training and testing datasets\n",
        "train_dir = '/content/training_data' # folder has to be named 'testing_data'\n",
        "test_dir = '/content/testing_data'\n",
        "\n",
        "# Load the training and testing labels\n",
        "train_labels = pd.read_csv('/content/training_data_values.csv')\n",
        "test_labels = pd.read_csv('/content/testing_data_values.csv')"
      ],
      "metadata": {
        "id": "MUQe2uAV7FQb"
      },
      "execution_count": 97,
      "outputs": []
    },
    {
      "cell_type": "code",
      "source": [
        "# Verify that the data has been loaded correctly\n",
        "print(\"Training data example:\")\n",
        "print(train_labels.head())  # Print the first few rows of the training labels\n",
        "\n",
        "print(\"\\nTesting data example:\")\n",
        "print(test_labels.head())  # Print the first few rows of the testing labels\n",
        "\n",
        "# Print specific values to show it worked\n",
        "print(\"\\nSpecific value from training data:\")\n",
        "print(train_labels.iloc[0])  # Print the first row of the training labels\n",
        "\n",
        "print(\"\\nSpecific value from testing data:\")\n",
        "print(test_labels.iloc[0])  # Print the first row of the testing labels"
      ],
      "metadata": {
        "colab": {
          "base_uri": "https://localhost:8080/"
        },
        "id": "r5aokH7M8gi8",
        "outputId": "672fcc81-ef34-4d81-da37-55681a856fcd"
      },
      "execution_count": 98,
      "outputs": [
        {
          "output_type": "stream",
          "name": "stdout",
          "text": [
            "Training data example:\n",
            "     filename  value\n",
            "0  gauge1.png  120.0\n",
            "1  gauge2.png    0.0\n",
            "2  gauge3.png   60.0\n",
            "3  gauge4.png   30.0\n",
            "4  gauge5.png   80.0\n",
            "\n",
            "Testing data example:\n",
            "    filename  value\n",
            "0  test1.png   27.5\n",
            "1  test2.png   17.5\n",
            "2  test3.png   62.5\n",
            "3  test4.png   67.5\n",
            "4  test5.png   40.0\n",
            "\n",
            "Specific value from training data:\n",
            "filename    gauge1.png\n",
            "value            120.0\n",
            "Name: 0, dtype: object\n",
            "\n",
            "Specific value from testing data:\n",
            "filename    test1.png\n",
            "value            27.5\n",
            "Name: 0, dtype: object\n"
          ]
        }
      ]
    },
    {
      "cell_type": "code",
      "source": [
        "print(train_labels.head())  # Print the first few rows of the training labels\n",
        "print(test_labels.head())  # Print the first few rows of the testing labels"
      ],
      "metadata": {
        "colab": {
          "base_uri": "https://localhost:8080/"
        },
        "id": "djJJyzrD-Mm2",
        "outputId": "90c0709e-9e6b-4420-8ae4-f5e8946e398c"
      },
      "execution_count": 99,
      "outputs": [
        {
          "output_type": "stream",
          "name": "stdout",
          "text": [
            "     filename  value\n",
            "0  gauge1.png  120.0\n",
            "1  gauge2.png    0.0\n",
            "2  gauge3.png   60.0\n",
            "3  gauge4.png   30.0\n",
            "4  gauge5.png   80.0\n",
            "    filename  value\n",
            "0  test1.png   27.5\n",
            "1  test2.png   17.5\n",
            "2  test3.png   62.5\n",
            "3  test4.png   67.5\n",
            "4  test5.png   40.0\n"
          ]
        }
      ]
    },
    {
      "cell_type": "code",
      "source": [
        "# generates batches of tensor image data with real-time data augmentation\n",
        "# rescale=1.0/255.0 rescales the pixel values of the images, the values are normalized to a range of 0 to 1\n",
        "# 20% of the training data will be used for validation purposes\n",
        "train_datagen = ImageDataGenerator(rescale=1.0/255.0, validation_split=0.2)\n",
        "test_datagen = ImageDataGenerator(rescale=1.0/255.0)"
      ],
      "metadata": {
        "id": "NxtPy7pr8oHf"
      },
      "execution_count": 100,
      "outputs": []
    },
    {
      "cell_type": "code",
      "source": [
        "# Load training and validation data\n",
        "train_generator = train_datagen.flow_from_dataframe( # generates batches of augmented/normalized data\n",
        "    train_labels, # filenames\n",
        "    directory=train_dir, # directory where the images are stored\n",
        "    x_col='filename', # column in the DataFrame that contains the filenames fo the images\n",
        "    y_col='value', # column in the DataFrame that contains the filenames of the images\n",
        "    target_size=(128, 128), # size to which all images found will be resized\n",
        "    class_mode='raw', # labels will be returned as they are without one-hot encoding\n",
        "    subset='training'\n",
        ")\n",
        "print(\"\\nValidated training filenames:\")\n",
        "print(train_generator.filenames)\n",
        "\n",
        "validation_generator = train_datagen.flow_from_dataframe(\n",
        "    train_labels,\n",
        "    directory=train_dir,\n",
        "    x_col='filename',\n",
        "    y_col='value',\n",
        "    target_size=(128, 128),\n",
        "    class_mode='raw',\n",
        "    subset='validation'\n",
        ")"
      ],
      "metadata": {
        "colab": {
          "base_uri": "https://localhost:8080/"
        },
        "id": "HgBpUp3A9MXZ",
        "outputId": "3424f550-63cb-4ca1-baf7-bb93e4a7227b"
      },
      "execution_count": 101,
      "outputs": [
        {
          "output_type": "stream",
          "name": "stdout",
          "text": [
            "Found 20 validated image filenames.\n",
            "\n",
            "Validated training filenames:\n",
            "['gauge6.png', 'gauge7.png', 'gauge8.png', 'gauge9.png', 'gauge10.png', 'gauge11.png', 'gauge12.png', 'gauge13.png', 'gauge14.png', 'gauge15.png', 'gauge16.png', 'gauge17.png', 'gauge18.png', 'gauge19.png', 'gauge20.png', 'gauge21.png', 'gauge22.png', 'gauge23.png', 'gauge24.png', 'gauge25.png']\n",
            "Found 5 validated image filenames.\n"
          ]
        }
      ]
    },
    {
      "cell_type": "code",
      "source": [
        "# Load test data\n",
        "print(\"\\nLoading test data...\")\n",
        "test_generator = test_datagen.flow_from_dataframe(\n",
        "    test_labels,\n",
        "    directory=test_dir,\n",
        "    x_col='filename',\n",
        "    y_col='value',\n",
        "    target_size=(128, 128),\n",
        "    class_mode='raw',\n",
        "    shuffle=False\n",
        ")"
      ],
      "metadata": {
        "colab": {
          "base_uri": "https://localhost:8080/"
        },
        "id": "Ok5sZSG-FiL-",
        "outputId": "6dc9fd5e-26d3-4225-e379-e1159353d760"
      },
      "execution_count": 102,
      "outputs": [
        {
          "output_type": "stream",
          "name": "stdout",
          "text": [
            "\n",
            "Loading test data...\n",
            "Found 10 validated image filenames.\n"
          ]
        }
      ]
    },
    {
      "cell_type": "code",
      "source": [
        "# Print the filenames that were found\n",
        "print(\"\\nValidated training filenames:\")\n",
        "print(train_generator.filenames)\n",
        "\n",
        "print(\"\\nValidated validation filenames:\")\n",
        "print(validation_generator.filenames)"
      ],
      "metadata": {
        "colab": {
          "base_uri": "https://localhost:8080/"
        },
        "id": "GiLgEFSwA2Cs",
        "outputId": "24fd3ed6-3558-4d29-c928-2839dd936148"
      },
      "execution_count": 103,
      "outputs": [
        {
          "output_type": "stream",
          "name": "stdout",
          "text": [
            "\n",
            "Validated training filenames:\n",
            "['gauge6.png', 'gauge7.png', 'gauge8.png', 'gauge9.png', 'gauge10.png', 'gauge11.png', 'gauge12.png', 'gauge13.png', 'gauge14.png', 'gauge15.png', 'gauge16.png', 'gauge17.png', 'gauge18.png', 'gauge19.png', 'gauge20.png', 'gauge21.png', 'gauge22.png', 'gauge23.png', 'gauge24.png', 'gauge25.png']\n",
            "\n",
            "Validated validation filenames:\n",
            "['gauge1.png', 'gauge2.png', 'gauge3.png', 'gauge4.png', 'gauge5.png']\n"
          ]
        }
      ]
    },
    {
      "cell_type": "code",
      "source": [
        "# Define the model of the CNN\n",
        "model = Sequential([\n",
        "    # Conv2D: 2D convolutional layer\n",
        "    # 32: number of kernels in the convolutional layer\n",
        "    # (3, 3): size of the filters (3x3) pixels\n",
        "    # activation='relu': ReLU activation function is applied\n",
        "    # input shape=(128, 128, 3): shape of the input data, indicating images of size 128x128 with RGB\n",
        "    Conv2D(32, (3, 3), activation='relu', input_shape=(128, 128, 3)),\n",
        "    MaxPooling2D((2, 2)), # applies max-pooling operation with a 2x2 filter to reduce the spatial dimensions\n",
        "    Conv2D(64, (3, 3), activation='relu'),\n",
        "    MaxPooling2D((2, 2)),\n",
        "    Conv2D(128, (3, 3), activation='relu'),\n",
        "    MaxPooling2D((2, 2)),\n",
        "    Flatten(), # flattens the input, converting the 2D matrix data into a 1D vector\n",
        "    Dense(64, activation='relu'),\n",
        "    Dense(1)  # single neuron for the output, since we have a regression task\n",
        "])"
      ],
      "metadata": {
        "id": "0wwgllsMDxmV"
      },
      "execution_count": 104,
      "outputs": []
    },
    {
      "cell_type": "code",
      "source": [
        "# Compile the model for regression\n",
        "model.compile(optimizer='adam', loss='mean_absolute_error', metrics=['mae'])"
      ],
      "metadata": {
        "id": "ZsVO6FwtD1bD"
      },
      "execution_count": 105,
      "outputs": []
    },
    {
      "cell_type": "code",
      "source": [
        "# Train the model\n",
        "history = model.fit(\n",
        "    train_generator,\n",
        "    validation_data=validation_generator,\n",
        "    epochs=150\n",
        ")"
      ],
      "metadata": {
        "colab": {
          "base_uri": "https://localhost:8080/"
        },
        "id": "Y50Ob_3HD4LH",
        "outputId": "4f18313f-d152-4c74-d483-e84b46002138"
      },
      "execution_count": 106,
      "outputs": [
        {
          "output_type": "stream",
          "name": "stdout",
          "text": [
            "Epoch 1/150\n",
            "1/1 [==============================] - 2s 2s/step - loss: 61.5524 - mae: 61.5524 - val_loss: 54.8718 - val_mae: 54.8718\n",
            "Epoch 2/150\n",
            "1/1 [==============================] - 1s 736ms/step - loss: 56.8199 - mae: 56.8199 - val_loss: 48.1964 - val_mae: 48.1964\n",
            "Epoch 3/150\n",
            "1/1 [==============================] - 1s 807ms/step - loss: 48.6889 - mae: 48.6889 - val_loss: 38.4240 - val_mae: 38.4240\n",
            "Epoch 4/150\n",
            "1/1 [==============================] - 1s 724ms/step - loss: 37.8660 - mae: 37.8660 - val_loss: 37.2029 - val_mae: 37.2029\n",
            "Epoch 5/150\n",
            "1/1 [==============================] - 1s 820ms/step - loss: 35.5427 - mae: 35.5427 - val_loss: 40.2260 - val_mae: 40.2260\n",
            "Epoch 6/150\n",
            "1/1 [==============================] - 1s 839ms/step - loss: 37.6492 - mae: 37.6492 - val_loss: 36.3801 - val_mae: 36.3801\n",
            "Epoch 7/150\n",
            "1/1 [==============================] - 1s 738ms/step - loss: 34.7144 - mae: 34.7144 - val_loss: 34.0375 - val_mae: 34.0375\n",
            "Epoch 8/150\n",
            "1/1 [==============================] - 1s 972ms/step - loss: 33.9444 - mae: 33.9444 - val_loss: 35.5415 - val_mae: 35.5415\n",
            "Epoch 9/150\n",
            "1/1 [==============================] - 1s 1s/step - loss: 34.4905 - mae: 34.4905 - val_loss: 36.3818 - val_mae: 36.3818\n",
            "Epoch 10/150\n",
            "1/1 [==============================] - 1s 1s/step - loss: 35.1081 - mae: 35.1081 - val_loss: 36.2738 - val_mae: 36.2738\n",
            "Epoch 11/150\n",
            "1/1 [==============================] - 1s 885ms/step - loss: 34.9964 - mae: 34.9964 - val_loss: 35.4073 - val_mae: 35.4073\n",
            "Epoch 12/150\n",
            "1/1 [==============================] - 1s 711ms/step - loss: 34.4072 - mae: 34.4072 - val_loss: 34.1590 - val_mae: 34.1590\n",
            "Epoch 13/150\n",
            "1/1 [==============================] - 1s 697ms/step - loss: 33.9077 - mae: 33.9077 - val_loss: 34.8513 - val_mae: 34.8513\n",
            "Epoch 14/150\n",
            "1/1 [==============================] - 1s 733ms/step - loss: 33.9102 - mae: 33.9102 - val_loss: 35.4092 - val_mae: 35.4092\n",
            "Epoch 15/150\n",
            "1/1 [==============================] - 1s 731ms/step - loss: 34.1816 - mae: 34.1816 - val_loss: 35.3431 - val_mae: 35.3431\n",
            "Epoch 16/150\n",
            "1/1 [==============================] - 1s 731ms/step - loss: 34.1395 - mae: 34.1395 - val_loss: 34.7284 - val_mae: 34.7284\n",
            "Epoch 17/150\n",
            "1/1 [==============================] - 1s 720ms/step - loss: 33.8526 - mae: 33.8526 - val_loss: 34.1954 - val_mae: 34.1954\n",
            "Epoch 18/150\n",
            "1/1 [==============================] - 1s 717ms/step - loss: 33.8377 - mae: 33.8377 - val_loss: 33.9702 - val_mae: 33.9702\n",
            "Epoch 19/150\n",
            "1/1 [==============================] - 1s 782ms/step - loss: 33.8187 - mae: 33.8187 - val_loss: 34.3263 - val_mae: 34.3263\n",
            "Epoch 20/150\n",
            "1/1 [==============================] - 1s 764ms/step - loss: 33.7948 - mae: 33.7948 - val_loss: 34.6000 - val_mae: 34.6000\n",
            "Epoch 21/150\n",
            "1/1 [==============================] - 1s 1s/step - loss: 33.8968 - mae: 33.8968 - val_loss: 34.2941 - val_mae: 34.2941\n",
            "Epoch 22/150\n",
            "1/1 [==============================] - 1s 1s/step - loss: 33.7258 - mae: 33.7258 - val_loss: 33.9495 - val_mae: 33.9495\n",
            "Epoch 23/150\n",
            "1/1 [==============================] - 1s 1s/step - loss: 33.6811 - mae: 33.6811 - val_loss: 33.8971 - val_mae: 33.8971\n",
            "Epoch 24/150\n",
            "1/1 [==============================] - 1s 726ms/step - loss: 33.6272 - mae: 33.6272 - val_loss: 34.2149 - val_mae: 34.2149\n",
            "Epoch 25/150\n",
            "1/1 [==============================] - 1s 705ms/step - loss: 33.5609 - mae: 33.5609 - val_loss: 34.5591 - val_mae: 34.5591\n",
            "Epoch 26/150\n",
            "1/1 [==============================] - 1s 803ms/step - loss: 33.4989 - mae: 33.4989 - val_loss: 34.0542 - val_mae: 34.0542\n",
            "Epoch 27/150\n",
            "1/1 [==============================] - 1s 713ms/step - loss: 33.4072 - mae: 33.4072 - val_loss: 33.6388 - val_mae: 33.6388\n",
            "Epoch 28/150\n",
            "1/1 [==============================] - 1s 739ms/step - loss: 33.3138 - mae: 33.3138 - val_loss: 33.5939 - val_mae: 33.5939\n",
            "Epoch 29/150\n",
            "1/1 [==============================] - 1s 788ms/step - loss: 33.2001 - mae: 33.2001 - val_loss: 33.6390 - val_mae: 33.6390\n",
            "Epoch 30/150\n",
            "1/1 [==============================] - 1s 794ms/step - loss: 33.0614 - mae: 33.0614 - val_loss: 33.5632 - val_mae: 33.5632\n",
            "Epoch 31/150\n",
            "1/1 [==============================] - 1s 724ms/step - loss: 32.8831 - mae: 32.8831 - val_loss: 33.3359 - val_mae: 33.3359\n",
            "Epoch 32/150\n",
            "1/1 [==============================] - 1s 1s/step - loss: 32.6559 - mae: 32.6559 - val_loss: 32.9201 - val_mae: 32.9201\n",
            "Epoch 33/150\n",
            "1/1 [==============================] - 1s 1s/step - loss: 32.3716 - mae: 32.3716 - val_loss: 32.8973 - val_mae: 32.8973\n",
            "Epoch 34/150\n",
            "1/1 [==============================] - 1s 1s/step - loss: 32.0200 - mae: 32.0200 - val_loss: 32.8778 - val_mae: 32.8778\n",
            "Epoch 35/150\n",
            "1/1 [==============================] - 1s 741ms/step - loss: 31.5744 - mae: 31.5744 - val_loss: 32.8784 - val_mae: 32.8784\n",
            "Epoch 36/150\n",
            "1/1 [==============================] - 1s 730ms/step - loss: 31.2041 - mae: 31.2041 - val_loss: 31.3908 - val_mae: 31.3908\n",
            "Epoch 37/150\n",
            "1/1 [==============================] - 1s 723ms/step - loss: 30.4208 - mae: 30.4208 - val_loss: 31.4664 - val_mae: 31.4664\n",
            "Epoch 38/150\n",
            "1/1 [==============================] - 1s 807ms/step - loss: 29.8151 - mae: 29.8151 - val_loss: 29.9932 - val_mae: 29.9932\n",
            "Epoch 39/150\n",
            "1/1 [==============================] - 1s 741ms/step - loss: 28.6472 - mae: 28.6472 - val_loss: 30.0958 - val_mae: 30.0958\n",
            "Epoch 40/150\n",
            "1/1 [==============================] - 1s 815ms/step - loss: 27.7772 - mae: 27.7772 - val_loss: 27.8928 - val_mae: 27.8928\n",
            "Epoch 41/150\n",
            "1/1 [==============================] - 1s 837ms/step - loss: 25.8631 - mae: 25.8631 - val_loss: 26.5914 - val_mae: 26.5914\n",
            "Epoch 42/150\n",
            "1/1 [==============================] - 1s 725ms/step - loss: 24.1574 - mae: 24.1574 - val_loss: 26.6267 - val_mae: 26.6267\n",
            "Epoch 43/150\n",
            "1/1 [==============================] - 1s 757ms/step - loss: 23.7940 - mae: 23.7940 - val_loss: 25.0273 - val_mae: 25.0273\n",
            "Epoch 44/150\n",
            "1/1 [==============================] - 1s 1s/step - loss: 22.2919 - mae: 22.2919 - val_loss: 21.0506 - val_mae: 21.0506\n",
            "Epoch 45/150\n",
            "1/1 [==============================] - 1s 1s/step - loss: 17.7819 - mae: 17.7819 - val_loss: 23.6484 - val_mae: 23.6484\n",
            "Epoch 46/150\n",
            "1/1 [==============================] - 1s 1s/step - loss: 19.1454 - mae: 19.1454 - val_loss: 22.2892 - val_mae: 22.2892\n",
            "Epoch 47/150\n",
            "1/1 [==============================] - 1s 862ms/step - loss: 20.1502 - mae: 20.1502 - val_loss: 23.1086 - val_mae: 23.1086\n",
            "Epoch 48/150\n",
            "1/1 [==============================] - 1s 792ms/step - loss: 20.7132 - mae: 20.7132 - val_loss: 14.9242 - val_mae: 14.9242\n",
            "Epoch 49/150\n",
            "1/1 [==============================] - 1s 804ms/step - loss: 11.3058 - mae: 11.3058 - val_loss: 19.6656 - val_mae: 19.6656\n",
            "Epoch 50/150\n",
            "1/1 [==============================] - 1s 709ms/step - loss: 19.0790 - mae: 19.0790 - val_loss: 13.1025 - val_mae: 13.1025\n",
            "Epoch 51/150\n",
            "1/1 [==============================] - 1s 734ms/step - loss: 10.1988 - mae: 10.1988 - val_loss: 18.1292 - val_mae: 18.1292\n",
            "Epoch 52/150\n",
            "1/1 [==============================] - 1s 728ms/step - loss: 16.0303 - mae: 16.0303 - val_loss: 14.1851 - val_mae: 14.1851\n",
            "Epoch 53/150\n",
            "1/1 [==============================] - 1s 770ms/step - loss: 11.3977 - mae: 11.3977 - val_loss: 13.2497 - val_mae: 13.2497\n",
            "Epoch 54/150\n",
            "1/1 [==============================] - 1s 803ms/step - loss: 13.1605 - mae: 13.1605 - val_loss: 12.6743 - val_mae: 12.6743\n",
            "Epoch 55/150\n",
            "1/1 [==============================] - 1s 740ms/step - loss: 12.7529 - mae: 12.7529 - val_loss: 11.4237 - val_mae: 11.4237\n",
            "Epoch 56/150\n",
            "1/1 [==============================] - 1s 713ms/step - loss: 9.5168 - mae: 9.5168 - val_loss: 13.5704 - val_mae: 13.5704\n",
            "Epoch 57/150\n",
            "1/1 [==============================] - 1s 1s/step - loss: 10.5752 - mae: 10.5752 - val_loss: 11.5344 - val_mae: 11.5344\n",
            "Epoch 58/150\n",
            "1/1 [==============================] - 1s 847ms/step - loss: 8.6712 - mae: 8.6712 - val_loss: 12.1481 - val_mae: 12.1481\n",
            "Epoch 59/150\n",
            "1/1 [==============================] - 1s 740ms/step - loss: 9.2582 - mae: 9.2582 - val_loss: 12.6134 - val_mae: 12.6134\n",
            "Epoch 60/150\n",
            "1/1 [==============================] - 1s 796ms/step - loss: 8.2078 - mae: 8.2078 - val_loss: 13.5627 - val_mae: 13.5627\n",
            "Epoch 61/150\n",
            "1/1 [==============================] - 1s 814ms/step - loss: 8.3896 - mae: 8.3896 - val_loss: 13.0619 - val_mae: 13.0619\n",
            "Epoch 62/150\n",
            "1/1 [==============================] - 1s 725ms/step - loss: 7.7857 - mae: 7.7857 - val_loss: 12.0243 - val_mae: 12.0243\n",
            "Epoch 63/150\n",
            "1/1 [==============================] - 1s 810ms/step - loss: 8.0412 - mae: 8.0412 - val_loss: 12.6818 - val_mae: 12.6818\n",
            "Epoch 64/150\n",
            "1/1 [==============================] - 1s 780ms/step - loss: 7.3706 - mae: 7.3706 - val_loss: 13.2572 - val_mae: 13.2572\n",
            "Epoch 65/150\n",
            "1/1 [==============================] - 1s 721ms/step - loss: 8.3667 - mae: 8.3667 - val_loss: 10.7631 - val_mae: 10.7631\n",
            "Epoch 66/150\n",
            "1/1 [==============================] - 1s 767ms/step - loss: 8.1171 - mae: 8.1171 - val_loss: 10.3689 - val_mae: 10.3689\n",
            "Epoch 67/150\n",
            "1/1 [==============================] - 1s 1s/step - loss: 8.1731 - mae: 8.1731 - val_loss: 11.5741 - val_mae: 11.5741\n",
            "Epoch 68/150\n",
            "1/1 [==============================] - 1s 1s/step - loss: 7.2006 - mae: 7.2006 - val_loss: 12.5004 - val_mae: 12.5004\n",
            "Epoch 69/150\n",
            "1/1 [==============================] - 1s 1s/step - loss: 8.2450 - mae: 8.2450 - val_loss: 10.1555 - val_mae: 10.1555\n",
            "Epoch 70/150\n",
            "1/1 [==============================] - 1s 812ms/step - loss: 8.1275 - mae: 8.1275 - val_loss: 10.2783 - val_mae: 10.2783\n",
            "Epoch 71/150\n",
            "1/1 [==============================] - 1s 722ms/step - loss: 8.9150 - mae: 8.9150 - val_loss: 11.8879 - val_mae: 11.8879\n",
            "Epoch 72/150\n",
            "1/1 [==============================] - 1s 783ms/step - loss: 6.7752 - mae: 6.7752 - val_loss: 12.7266 - val_mae: 12.7266\n",
            "Epoch 73/150\n",
            "1/1 [==============================] - 1s 817ms/step - loss: 8.0565 - mae: 8.0565 - val_loss: 10.8597 - val_mae: 10.8597\n",
            "Epoch 74/150\n",
            "1/1 [==============================] - 1s 732ms/step - loss: 6.6429 - mae: 6.6429 - val_loss: 9.8331 - val_mae: 9.8331\n",
            "Epoch 75/150\n",
            "1/1 [==============================] - 1s 806ms/step - loss: 7.1779 - mae: 7.1779 - val_loss: 10.7590 - val_mae: 10.7590\n",
            "Epoch 76/150\n",
            "1/1 [==============================] - 1s 703ms/step - loss: 6.3713 - mae: 6.3713 - val_loss: 11.0008 - val_mae: 11.0008\n",
            "Epoch 77/150\n",
            "1/1 [==============================] - 1s 721ms/step - loss: 6.8282 - mae: 6.8282 - val_loss: 9.1393 - val_mae: 9.1393\n",
            "Epoch 78/150\n",
            "1/1 [==============================] - 1s 757ms/step - loss: 6.2889 - mae: 6.2889 - val_loss: 8.1172 - val_mae: 8.1172\n",
            "Epoch 79/150\n",
            "1/1 [==============================] - 1s 842ms/step - loss: 7.1075 - mae: 7.1075 - val_loss: 10.3286 - val_mae: 10.3286\n",
            "Epoch 80/150\n",
            "1/1 [==============================] - 1s 1s/step - loss: 6.8918 - mae: 6.8918 - val_loss: 9.7479 - val_mae: 9.7479\n",
            "Epoch 81/150\n",
            "1/1 [==============================] - 1s 1s/step - loss: 5.7434 - mae: 5.7434 - val_loss: 7.0978 - val_mae: 7.0978\n",
            "Epoch 82/150\n",
            "1/1 [==============================] - 1s 770ms/step - loss: 9.0696 - mae: 9.0696 - val_loss: 8.0328 - val_mae: 8.0328\n",
            "Epoch 83/150\n",
            "1/1 [==============================] - 1s 731ms/step - loss: 6.7175 - mae: 6.7175 - val_loss: 11.7480 - val_mae: 11.7480\n",
            "Epoch 84/150\n",
            "1/1 [==============================] - 1s 826ms/step - loss: 10.0846 - mae: 10.0846 - val_loss: 12.2823 - val_mae: 12.2823\n",
            "Epoch 85/150\n",
            "1/1 [==============================] - 1s 724ms/step - loss: 10.7325 - mae: 10.7325 - val_loss: 10.2106 - val_mae: 10.2106\n",
            "Epoch 86/150\n",
            "1/1 [==============================] - 1s 791ms/step - loss: 6.0655 - mae: 6.0655 - val_loss: 8.9290 - val_mae: 8.9290\n",
            "Epoch 87/150\n",
            "1/1 [==============================] - 1s 805ms/step - loss: 13.0006 - mae: 13.0006 - val_loss: 9.4939 - val_mae: 9.4939\n",
            "Epoch 88/150\n",
            "1/1 [==============================] - 1s 736ms/step - loss: 13.5304 - mae: 13.5304 - val_loss: 8.0292 - val_mae: 8.0292\n",
            "Epoch 89/150\n",
            "1/1 [==============================] - 1s 695ms/step - loss: 5.9446 - mae: 5.9446 - val_loss: 12.6675 - val_mae: 12.6675\n",
            "Epoch 90/150\n",
            "1/1 [==============================] - 1s 1s/step - loss: 13.9756 - mae: 13.9756 - val_loss: 15.8852 - val_mae: 15.8852\n",
            "Epoch 91/150\n",
            "1/1 [==============================] - 1s 788ms/step - loss: 17.9769 - mae: 17.9769 - val_loss: 14.1118 - val_mae: 14.1118\n",
            "Epoch 92/150\n",
            "1/1 [==============================] - 1s 705ms/step - loss: 16.1677 - mae: 16.1677 - val_loss: 11.5818 - val_mae: 11.5818\n",
            "Epoch 93/150\n",
            "1/1 [==============================] - 1s 702ms/step - loss: 9.0265 - mae: 9.0265 - val_loss: 7.8043 - val_mae: 7.8043\n",
            "Epoch 94/150\n",
            "1/1 [==============================] - 1s 728ms/step - loss: 10.9669 - mae: 10.9669 - val_loss: 11.9443 - val_mae: 11.9443\n",
            "Epoch 95/150\n",
            "1/1 [==============================] - 1s 784ms/step - loss: 15.6413 - mae: 15.6413 - val_loss: 8.8342 - val_mae: 8.8342\n",
            "Epoch 96/150\n",
            "1/1 [==============================] - 1s 726ms/step - loss: 12.2527 - mae: 12.2527 - val_loss: 11.4543 - val_mae: 11.4543\n",
            "Epoch 97/150\n",
            "1/1 [==============================] - 1s 717ms/step - loss: 6.7926 - mae: 6.7926 - val_loss: 13.4449 - val_mae: 13.4449\n",
            "Epoch 98/150\n",
            "1/1 [==============================] - 1s 703ms/step - loss: 10.4138 - mae: 10.4138 - val_loss: 13.2396 - val_mae: 13.2396\n",
            "Epoch 99/150\n",
            "1/1 [==============================] - 1s 777ms/step - loss: 10.7488 - mae: 10.7488 - val_loss: 11.2105 - val_mae: 11.2105\n",
            "Epoch 100/150\n",
            "1/1 [==============================] - 1s 947ms/step - loss: 6.9346 - mae: 6.9346 - val_loss: 7.2974 - val_mae: 7.2974\n",
            "Epoch 101/150\n",
            "1/1 [==============================] - 1s 1s/step - loss: 8.7464 - mae: 8.7464 - val_loss: 6.7658 - val_mae: 6.7658\n",
            "Epoch 102/150\n",
            "1/1 [==============================] - 1s 1s/step - loss: 9.6190 - mae: 9.6190 - val_loss: 7.6831 - val_mae: 7.6831\n",
            "Epoch 103/150\n",
            "1/1 [==============================] - 1s 818ms/step - loss: 5.5694 - mae: 5.5694 - val_loss: 10.5774 - val_mae: 10.5774\n",
            "Epoch 104/150\n",
            "1/1 [==============================] - 1s 731ms/step - loss: 9.5029 - mae: 9.5029 - val_loss: 11.2445 - val_mae: 11.2445\n",
            "Epoch 105/150\n",
            "1/1 [==============================] - 1s 730ms/step - loss: 10.3915 - mae: 10.3915 - val_loss: 9.2464 - val_mae: 9.2464\n",
            "Epoch 106/150\n",
            "1/1 [==============================] - 1s 711ms/step - loss: 6.3182 - mae: 6.3182 - val_loss: 6.8754 - val_mae: 6.8754\n",
            "Epoch 107/150\n",
            "1/1 [==============================] - 1s 708ms/step - loss: 9.2759 - mae: 9.2759 - val_loss: 7.7663 - val_mae: 7.7663\n",
            "Epoch 108/150\n",
            "1/1 [==============================] - 1s 726ms/step - loss: 11.4368 - mae: 11.4368 - val_loss: 7.8740 - val_mae: 7.8740\n",
            "Epoch 109/150\n",
            "1/1 [==============================] - 1s 685ms/step - loss: 7.6682 - mae: 7.6682 - val_loss: 11.5374 - val_mae: 11.5374\n",
            "Epoch 110/150\n",
            "1/1 [==============================] - 1s 805ms/step - loss: 7.4345 - mae: 7.4345 - val_loss: 12.9763 - val_mae: 12.9763\n",
            "Epoch 111/150\n",
            "1/1 [==============================] - 1s 867ms/step - loss: 9.6842 - mae: 9.6842 - val_loss: 12.5669 - val_mae: 12.5669\n",
            "Epoch 112/150\n",
            "1/1 [==============================] - 1s 1s/step - loss: 7.5097 - mae: 7.5097 - val_loss: 10.5828 - val_mae: 10.5828\n",
            "Epoch 113/150\n",
            "1/1 [==============================] - 1s 1s/step - loss: 5.7334 - mae: 5.7334 - val_loss: 9.4591 - val_mae: 9.4591\n",
            "Epoch 114/150\n",
            "1/1 [==============================] - 1s 821ms/step - loss: 7.3594 - mae: 7.3594 - val_loss: 10.4990 - val_mae: 10.4990\n",
            "Epoch 115/150\n",
            "1/1 [==============================] - 1s 794ms/step - loss: 5.0451 - mae: 5.0451 - val_loss: 11.2140 - val_mae: 11.2140\n",
            "Epoch 116/150\n",
            "1/1 [==============================] - 1s 816ms/step - loss: 6.5337 - mae: 6.5337 - val_loss: 10.3512 - val_mae: 10.3512\n",
            "Epoch 117/150\n",
            "1/1 [==============================] - 1s 782ms/step - loss: 5.6563 - mae: 5.6563 - val_loss: 7.7995 - val_mae: 7.7995\n",
            "Epoch 118/150\n",
            "1/1 [==============================] - 1s 738ms/step - loss: 6.8142 - mae: 6.8142 - val_loss: 7.3574 - val_mae: 7.3574\n",
            "Epoch 119/150\n",
            "1/1 [==============================] - 1s 717ms/step - loss: 7.4674 - mae: 7.4674 - val_loss: 8.6514 - val_mae: 8.6514\n",
            "Epoch 120/150\n",
            "1/1 [==============================] - 1s 726ms/step - loss: 5.4455 - mae: 5.4455 - val_loss: 10.6999 - val_mae: 10.6999\n",
            "Epoch 121/150\n",
            "1/1 [==============================] - 1s 783ms/step - loss: 6.7300 - mae: 6.7300 - val_loss: 10.9341 - val_mae: 10.9341\n",
            "Epoch 122/150\n",
            "1/1 [==============================] - 1s 769ms/step - loss: 6.0897 - mae: 6.0897 - val_loss: 9.5688 - val_mae: 9.5688\n",
            "Epoch 123/150\n",
            "1/1 [==============================] - 1s 1s/step - loss: 5.7095 - mae: 5.7095 - val_loss: 9.8736 - val_mae: 9.8736\n",
            "Epoch 124/150\n",
            "1/1 [==============================] - 1s 1s/step - loss: 6.2204 - mae: 6.2204 - val_loss: 11.6826 - val_mae: 11.6826\n",
            "Epoch 125/150\n",
            "1/1 [==============================] - 1s 1s/step - loss: 5.4227 - mae: 5.4227 - val_loss: 12.0341 - val_mae: 12.0341\n",
            "Epoch 126/150\n",
            "1/1 [==============================] - 1s 1s/step - loss: 5.8879 - mae: 5.8879 - val_loss: 10.9018 - val_mae: 10.9018\n",
            "Epoch 127/150\n",
            "1/1 [==============================] - 1s 695ms/step - loss: 4.7531 - mae: 4.7531 - val_loss: 9.4810 - val_mae: 9.4810\n",
            "Epoch 128/150\n",
            "1/1 [==============================] - 1s 781ms/step - loss: 5.4157 - mae: 5.4157 - val_loss: 9.5620 - val_mae: 9.5620\n",
            "Epoch 129/150\n",
            "1/1 [==============================] - 1s 716ms/step - loss: 4.6251 - mae: 4.6251 - val_loss: 10.4402 - val_mae: 10.4402\n",
            "Epoch 130/150\n",
            "1/1 [==============================] - 1s 689ms/step - loss: 5.4784 - mae: 5.4784 - val_loss: 9.6688 - val_mae: 9.6688\n",
            "Epoch 131/150\n",
            "1/1 [==============================] - 1s 704ms/step - loss: 4.4998 - mae: 4.4998 - val_loss: 9.6336 - val_mae: 9.6336\n",
            "Epoch 132/150\n",
            "1/1 [==============================] - 1s 718ms/step - loss: 4.7500 - mae: 4.7500 - val_loss: 10.8742 - val_mae: 10.8742\n",
            "Epoch 133/150\n",
            "1/1 [==============================] - 1s 772ms/step - loss: 4.6026 - mae: 4.6026 - val_loss: 10.8196 - val_mae: 10.8196\n",
            "Epoch 134/150\n",
            "1/1 [==============================] - 1s 873ms/step - loss: 4.5052 - mae: 4.5052 - val_loss: 10.1469 - val_mae: 10.1469\n",
            "Epoch 135/150\n",
            "1/1 [==============================] - 1s 802ms/step - loss: 4.5310 - mae: 4.5310 - val_loss: 10.6740 - val_mae: 10.6740\n",
            "Epoch 136/150\n",
            "1/1 [==============================] - 1s 928ms/step - loss: 4.3811 - mae: 4.3811 - val_loss: 9.9674 - val_mae: 9.9674\n",
            "Epoch 137/150\n",
            "1/1 [==============================] - 1s 1s/step - loss: 4.2006 - mae: 4.2006 - val_loss: 9.5336 - val_mae: 9.5336\n",
            "Epoch 138/150\n",
            "1/1 [==============================] - 1s 1s/step - loss: 4.3461 - mae: 4.3461 - val_loss: 10.2528 - val_mae: 10.2528\n",
            "Epoch 139/150\n",
            "1/1 [==============================] - 1s 884ms/step - loss: 4.3400 - mae: 4.3400 - val_loss: 9.8697 - val_mae: 9.8697\n",
            "Epoch 140/150\n",
            "1/1 [==============================] - 1s 722ms/step - loss: 4.2872 - mae: 4.2872 - val_loss: 10.5944 - val_mae: 10.5944\n",
            "Epoch 141/150\n",
            "1/1 [==============================] - 1s 728ms/step - loss: 3.9724 - mae: 3.9724 - val_loss: 10.8677 - val_mae: 10.8677\n",
            "Epoch 142/150\n",
            "1/1 [==============================] - 1s 695ms/step - loss: 4.0370 - mae: 4.0370 - val_loss: 10.0966 - val_mae: 10.0966\n",
            "Epoch 143/150\n",
            "1/1 [==============================] - 1s 731ms/step - loss: 4.5346 - mae: 4.5346 - val_loss: 11.0621 - val_mae: 11.0621\n",
            "Epoch 144/150\n",
            "1/1 [==============================] - 1s 700ms/step - loss: 4.7490 - mae: 4.7490 - val_loss: 10.2937 - val_mae: 10.2937\n",
            "Epoch 145/150\n",
            "1/1 [==============================] - 1s 731ms/step - loss: 3.8336 - mae: 3.8336 - val_loss: 10.4395 - val_mae: 10.4395\n",
            "Epoch 146/150\n",
            "1/1 [==============================] - 1s 726ms/step - loss: 3.7607 - mae: 3.7607 - val_loss: 11.0752 - val_mae: 11.0752\n",
            "Epoch 147/150\n",
            "1/1 [==============================] - 1s 739ms/step - loss: 3.8641 - mae: 3.8641 - val_loss: 10.5929 - val_mae: 10.5929\n",
            "Epoch 148/150\n",
            "1/1 [==============================] - 1s 817ms/step - loss: 4.6659 - mae: 4.6659 - val_loss: 11.8228 - val_mae: 11.8228\n",
            "Epoch 149/150\n",
            "1/1 [==============================] - 1s 1s/step - loss: 4.1110 - mae: 4.1110 - val_loss: 11.7786 - val_mae: 11.7786\n",
            "Epoch 150/150\n",
            "1/1 [==============================] - 1s 1s/step - loss: 3.9817 - mae: 3.9817 - val_loss: 10.4874 - val_mae: 10.4874\n"
          ]
        }
      ]
    },
    {
      "cell_type": "code",
      "source": [
        "plt.plot(history.history['loss'], label='Training Loss')\n",
        "plt.plot(history.history['val_loss'], label='Validation Loss')\n",
        "plt.xlabel('Epoch')\n",
        "plt.ylabel('Loss (MAE)')\n",
        "plt.legend()\n",
        "plt.show()"
      ],
      "metadata": {
        "colab": {
          "base_uri": "https://localhost:8080/",
          "height": 449
        },
        "id": "fBcjwgX1EAmh",
        "outputId": "7cee8de6-931b-4473-8e63-c955f011f90e"
      },
      "execution_count": 107,
      "outputs": [
        {
          "output_type": "display_data",
          "data": {
            "text/plain": [
              "<Figure size 640x480 with 1 Axes>"
            ],
            "image/png": "[encoded data removed]"
          },
          "metadata": {}
        }
      ]
    },
    {
      "cell_type": "code",
      "source": [
        "# Plot accuracy graph (using MAE as an inverse measure of accuracy)\n",
        "plt.subplot(1, 2, 2)\n",
        "plt.plot(1 - np.array(history.history['loss']), label='Training Accuracy')\n",
        "plt.plot(1 - np.array(history.history['val_loss']), label='Validation Accuracy')\n",
        "plt.xlabel('Epoch')\n",
        "plt.ylabel('Accuracy (1 - MAE)')\n",
        "plt.legend()\n",
        "plt.title('Training and Validation Accuracy')"
      ],
      "metadata": {
        "colab": {
          "base_uri": "https://localhost:8080/",
          "height": 490
        },
        "id": "98aDy3e7XthM",
        "outputId": "ae2ec667-5a7e-49ef-b500-0dd811292511"
      },
      "execution_count": 108,
      "outputs": [
        {
          "output_type": "execute_result",
          "data": {
            "text/plain": [
              "Text(0.5, 1.0, 'Training and Validation Accuracy')"
            ]
          },
          "metadata": {},
          "execution_count": 108
        },
        {
          "output_type": "display_data",
          "data": {
            "text/plain": [
              "<Figure size 640x480 with 1 Axes>"
            ],
            "image/png": "[encoded data removed]"
          },
          "metadata": {}
        }
      ]
    },
    {
      "cell_type": "code",
      "source": [
        "# Evaluate the model on the test data\n",
        "print(\"\\nEvaluating the model on test data...\")\n",
        "predictions = model.predict(test_generator)\n",
        "true_values = test_labels['value'].values\n",
        "\n",
        "# Show example predictions\n",
        "print(\"\\nExample predictions:\")\n",
        "for i in range(10):\n",
        "    print(f\"True value: {true_values[i]}, Predicted value: {predictions[i][0]:.1f}\") # nur erste Nachkommastelle\n",
        "\n",
        "# Flatten the predictions array if needed\n",
        "# predictions_flat = [pred[0] for pred in predictions]\n",
        "\n",
        "# Calculate MAE\n",
        "mae = mean_absolute_error(true_values, predictions)\n",
        "print(f'\\nMean Absolute Error: {mae}\\n The models predictions are off by about {mae} units from the actual values.')\n",
        "\n",
        "# Calculate Coefficient of Determination (R²)\n",
        "r2 = r2_score(true_values, predictions)\n",
        "print(f'Coefficient of Determination (R²): {r2} can be explained by the model')"
      ],
      "metadata": {
        "colab": {
          "base_uri": "https://localhost:8080/"
        },
        "id": "Jw4xE-wpEC58",
        "outputId": "2c9bb20d-c77b-4a2d-b4a7-05070d8fdf37"
      },
      "execution_count": 109,
      "outputs": [
        {
          "output_type": "stream",
          "name": "stdout",
          "text": [
            "\n",
            "Evaluating the model on test data...\n",
            "1/1 [==============================] - 0s 232ms/step\n",
            "\n",
            "Example predictions:\n",
            "True value: 27.5, Predicted value: 50.1\n",
            "True value: 17.5, Predicted value: 16.4\n",
            "True value: 62.5, Predicted value: 62.5\n",
            "True value: 67.5, Predicted value: 70.1\n",
            "True value: 40.0, Predicted value: 38.8\n",
            "True value: 25.0, Predicted value: 47.9\n",
            "True value: 55.0, Predicted value: 58.5\n",
            "True value: 70.0, Predicted value: 71.9\n",
            "True value: 115.0, Predicted value: 117.2\n",
            "True value: 85.0, Predicted value: 79.2\n",
            "\n",
            "Mean Absolute Error: 6.377118110656738\n",
            " The models predictions are off by about 6.377118110656738 units from the actual values.\n",
            "Coefficient of Determination (R²): 0.8660276408360508 can be explained by the model\n"
          ]
        }
      ]
    }
  ]
}